{
 "cells": [
  {
   "cell_type": "markdown",
   "metadata": {},
   "source": [
    "#### 1. What are the differences between operators and values in the following?\n",
    "- *\n",
    "- 'hello'\n",
    "- -87.8\n",
    "- -\n",
    "- /\n",
    "- +\n",
    "- 6\n"
   ]
  },
  {
   "cell_type": "code",
   "execution_count": 12,
   "metadata": {},
   "outputs": [
    {
     "name": "stdout",
     "output_type": "stream",
     "text": [
      "Usage of * as multiplication operator:  20\n",
      "Usage of * as variable *************\n",
      "------------------------------------\n",
      "hello is a string value of type:  <class 'str'>\n",
      "------------------------------------\n",
      "-87.8 is a float value of type:  <class 'float'>\n",
      "------------------------------------\n",
      "Usage of - as subtraction operator:  9\n",
      "Usage of * as variable --------------\n",
      "\n",
      "\n",
      "Usage of / as subtraction operator:  3.0\n",
      "Usage of / as variable //////////////////\n",
      "\n",
      "\n",
      "Usage of + as subtraction operator:  19\n",
      "Usage of + as variable +++++++++++++\n",
      "\n",
      "\n",
      "6 is a int value of type:  <class 'int'>\n"
     ]
    }
   ],
   "source": [
    "# * is a multiplication operator e.g.\n",
    "print(\"Usage of * as multiplication operator: \",4*5)\n",
    "# But if we use * in single quotes '', then its a variable\n",
    "print('Usage of * as variable *************')\n",
    "print('------------------------------------')\n",
    "# 'hello' is a string value \n",
    "var1 = 'hello'\n",
    "print('hello is a string value of type: ', type(var1))\n",
    "print('------------------------------------')\n",
    "# -87.8 is a float value\n",
    "x = -87.8\n",
    "print('-87.8 is a float value of type: ', type(x))\n",
    "print('------------------------------------')\n",
    "# - is a multiplication operator e.g.\n",
    "print(\"Usage of - as subtraction operator: \",14-5)\n",
    "# But if we use - in single quotes '', then its a variable\n",
    "print('Usage of * as variable --------------')\n",
    "print('\\n')\n",
    "# / is a multiplication operator e.g.\n",
    "print(\"Usage of / as subtraction operator: \",15/5)\n",
    "# But if we use / in single quotes '', then its a variable\n",
    "print('Usage of / as variable //////////////////')\n",
    "print('\\n')\n",
    "# + is a multiplication operator e.g.\n",
    "print(\"Usage of + as subtraction operator: \",14+5)\n",
    "# But if we use + in single quotes '', then its a variable\n",
    "print('Usage of + as variable +++++++++++++')\n",
    "print('\\n')\n",
    "# 6 is an integer value\n",
    "y = 6\n",
    "print('6 is a int value of type: ', type(y))"
   ]
  },
  {
   "cell_type": "markdown",
   "metadata": {},
   "source": [
    "### 2. What is the difference between string and variable?\n",
    "- spam \n",
    "- 'spam'\n"
   ]
  },
  {
   "cell_type": "code",
   "execution_count": 17,
   "metadata": {},
   "outputs": [
    {
     "name": "stdout",
     "output_type": "stream",
     "text": [
      "This spam is a variable that contains  Junk Email\n",
      "This spam is a string that is contained in the str1 variable\n"
     ]
    }
   ],
   "source": [
    "spam = \"Junk Email\"\n",
    "print(\"This spam is a variable that contains \", spam)\n",
    "str1 = 'spam'\n",
    "print(\"This \"+ str1+\" is a string that is contained in the str1 variable\")"
   ]
  },
  {
   "cell_type": "markdown",
   "metadata": {},
   "source": [
    "### 3. Describe three different data forms\n",
    "- looks like in this question is incomplete, it should be data types"
   ]
  },
  {
   "cell_type": "code",
   "execution_count": 19,
   "metadata": {},
   "outputs": [
    {
     "name": "stdout",
     "output_type": "stream",
     "text": [
      "First Data Type is String of class:  <class 'str'>\n",
      "Second Data Type is Numeric of class:  <class 'float'>\n",
      "Third Data Type is Boolean of class:  <class 'bool'>\n"
     ]
    }
   ],
   "source": [
    "first_data_type = 'Hello World'\n",
    "second_data_type = 3.14\n",
    "third_data_type = True\n",
    "print(\"First Data Type is String of class: \",type(first_data_type))\n",
    "print(\"Second Data Type is Numeric of class: \",type(second_data_type))\n",
    "print(\"Third Data Type is Boolean of class: \",type(third_data_type))"
   ]
  },
  {
   "cell_type": "markdown",
   "metadata": {},
   "source": [
    "### 4. What makes up an expression? What are the functions of all expressions?"
   ]
  },
  {
   "cell_type": "markdown",
   "metadata": {},
   "source": [
    "- An expression can be a mix of values, variables, operators and call to inbuit/user-defined functions. e.g"
   ]
  },
  {
   "cell_type": "code",
   "execution_count": 24,
   "metadata": {},
   "outputs": [
    {
     "data": {
      "text/plain": [
       "30"
      ]
     },
     "execution_count": 24,
     "metadata": {},
     "output_type": "execute_result"
    }
   ],
   "source": [
    "10+20 # mixture of 2 values"
   ]
  },
  {
   "cell_type": "markdown",
   "metadata": {},
   "source": [
    "- When we type an expression, python interpreter evaluates it and displays the result as a value. e.g."
   ]
  },
  {
   "cell_type": "code",
   "execution_count": 25,
   "metadata": {},
   "outputs": [
    {
     "data": {
      "text/plain": [
       "10"
      ]
     },
     "execution_count": 25,
     "metadata": {},
     "output_type": "execute_result"
    }
   ],
   "source": [
    "len('expression') ##calling inbuilt function"
   ]
  },
  {
   "cell_type": "markdown",
   "metadata": {},
   "source": [
    "### 5. In this chapter, assignment statements such as spam = 10 were added. What's the difference between a declaration and an expression?"
   ]
  },
  {
   "cell_type": "code",
   "execution_count": 27,
   "metadata": {},
   "outputs": [],
   "source": [
    "spam = 10"
   ]
  },
  {
   "cell_type": "markdown",
   "metadata": {},
   "source": [
    "- variable declaration are statements as they do not return a value"
   ]
  },
  {
   "cell_type": "code",
   "execution_count": 28,
   "metadata": {},
   "outputs": [
    {
     "name": "stdout",
     "output_type": "stream",
     "text": [
      "20\n"
     ]
    }
   ],
   "source": [
    "value_of_spam = spam+10\n",
    "print(value_of_spam)"
   ]
  },
  {
   "cell_type": "markdown",
   "metadata": {},
   "source": [
    "- expression is a part of the statement which returns a value. e.g function calls.arithmetic operations,etc"
   ]
  },
  {
   "cell_type": "markdown",
   "metadata": {},
   "source": [
    "### 6. After running the following code, what does the variable bacon contain?"
   ]
  },
  {
   "cell_type": "code",
   "execution_count": 29,
   "metadata": {},
   "outputs": [
    {
     "name": "stdout",
     "output_type": "stream",
     "text": [
      "22\n"
     ]
    }
   ],
   "source": [
    "bacon = 22\n",
    "bacon + 1\n",
    "print(bacon)"
   ]
  },
  {
   "cell_type": "markdown",
   "metadata": {},
   "source": [
    "- bacon variable is initialised to a value 22 but while adding + 1 , we are not storing it in any variable.So, bacon = 22\n",
    "- But if we print bacon + 1, it takes the argument as an expression and evaluates it"
   ]
  },
  {
   "cell_type": "code",
   "execution_count": 31,
   "metadata": {},
   "outputs": [
    {
     "name": "stdout",
     "output_type": "stream",
     "text": [
      "23\n"
     ]
    }
   ],
   "source": [
    "print(bacon + 1)"
   ]
  },
  {
   "cell_type": "markdown",
   "metadata": {},
   "source": [
    "### 7. What should the values of the following two terms be?"
   ]
  },
  {
   "cell_type": "code",
   "execution_count": 32,
   "metadata": {},
   "outputs": [
    {
     "data": {
      "text/plain": [
       "'spamspamspam'"
      ]
     },
     "execution_count": 32,
     "metadata": {},
     "output_type": "execute_result"
    }
   ],
   "source": [
    "'spam' + 'spamspam' ##addition of spam"
   ]
  },
  {
   "cell_type": "code",
   "execution_count": 33,
   "metadata": {},
   "outputs": [
    {
     "data": {
      "text/plain": [
       "'spamspamspam'"
      ]
     },
     "execution_count": 33,
     "metadata": {},
     "output_type": "execute_result"
    }
   ],
   "source": [
    "'spam' * 3 ##3-times spam"
   ]
  },
  {
   "cell_type": "markdown",
   "metadata": {},
   "source": [
    "### 8. Why is it that eggs is a true variable name but 100 is not?"
   ]
  },
  {
   "cell_type": "markdown",
   "metadata": {},
   "source": [
    "- A variable name can start with a letter or _ but can't start with a numeric value"
   ]
  },
  {
   "cell_type": "markdown",
   "metadata": {},
   "source": [
    "### 9. Which of the following three functions may be used to convert a value to an integer, a floating-point number, or a string?"
   ]
  },
  {
   "cell_type": "code",
   "execution_count": 39,
   "metadata": {},
   "outputs": [
    {
     "name": "stdout",
     "output_type": "stream",
     "text": [
      "Converting into a string variable 29.7\n",
      "Converting into a int variable 29\n",
      "Converting into a float variable 29.7\n"
     ]
    }
   ],
   "source": [
    "x = 29.7\n",
    "print('Converting into a string variable',str(x))\n",
    "print('Converting into a int variable',int(x))\n",
    "print('Converting into a float variable',float(x))"
   ]
  },
  {
   "cell_type": "markdown",
   "metadata": {},
   "source": [
    "### 10. What is the error caused by this expression? What would you do about it?"
   ]
  },
  {
   "cell_type": "code",
   "execution_count": 40,
   "metadata": {},
   "outputs": [
    {
     "ename": "TypeError",
     "evalue": "can only concatenate str (not \"int\") to str",
     "output_type": "error",
     "traceback": [
      "\u001b[1;31m---------------------------------------------------------------------------\u001b[0m",
      "\u001b[1;31mTypeError\u001b[0m                                 Traceback (most recent call last)",
      "\u001b[1;32m<ipython-input-40-d24137131a5c>\u001b[0m in \u001b[0;36m<module>\u001b[1;34m\u001b[0m\n\u001b[1;32m----> 1\u001b[1;33m \u001b[1;34m'I have eaten '\u001b[0m \u001b[1;33m+\u001b[0m \u001b[1;36m99\u001b[0m \u001b[1;33m+\u001b[0m \u001b[1;34m' burritos.'\u001b[0m\u001b[1;33m\u001b[0m\u001b[1;33m\u001b[0m\u001b[0m\n\u001b[0m",
      "\u001b[1;31mTypeError\u001b[0m: can only concatenate str (not \"int\") to str"
     ]
    }
   ],
   "source": [
    "'I have eaten ' + 99 + ' burritos.'"
   ]
  },
  {
   "cell_type": "markdown",
   "metadata": {},
   "source": [
    "- We need to convert 99 into a string to resolve above error"
   ]
  },
  {
   "cell_type": "code",
   "execution_count": 41,
   "metadata": {},
   "outputs": [
    {
     "data": {
      "text/plain": [
       "'I have eaten 99 burritos.'"
      ]
     },
     "execution_count": 41,
     "metadata": {},
     "output_type": "execute_result"
    }
   ],
   "source": [
    "'I have eaten ' + str(99) + ' burritos.'"
   ]
  }
 ],
 "metadata": {
  "kernelspec": {
   "display_name": "Python 3",
   "language": "python",
   "name": "python3"
  },
  "language_info": {
   "codemirror_mode": {
    "name": "ipython",
    "version": 3
   },
   "file_extension": ".py",
   "mimetype": "text/x-python",
   "name": "python",
   "nbconvert_exporter": "python",
   "pygments_lexer": "ipython3",
   "version": "3.8.5"
  }
 },
 "nbformat": 4,
 "nbformat_minor": 4
}
