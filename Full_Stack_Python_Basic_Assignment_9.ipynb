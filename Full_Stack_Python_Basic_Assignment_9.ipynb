{
 "cells": [
  {
   "cell_type": "markdown",
   "metadata": {},
   "source": [
    "## 1. To what does a relative path refer?"
   ]
  },
  {
   "cell_type": "markdown",
   "metadata": {},
   "source": [
    "- A relative path is relative to the program’s current working directory"
   ]
  },
  {
   "cell_type": "code",
   "execution_count": 3,
   "metadata": {},
   "outputs": [],
   "source": [
    "from pathlib2 import Path"
   ]
  },
  {
   "cell_type": "code",
   "execution_count": 10,
   "metadata": {},
   "outputs": [
    {
     "data": {
      "text/plain": [
       "WindowsPath('path/relative')"
      ]
     },
     "execution_count": 10,
     "metadata": {},
     "output_type": "execute_result"
    }
   ],
   "source": [
    "Path('path/relative') ##This is a relative path"
   ]
  },
  {
   "cell_type": "markdown",
   "metadata": {},
   "source": [
    "## 2. What does an absolute path start with your operating system?"
   ]
  },
  {
   "cell_type": "markdown",
   "metadata": {},
   "source": [
    " - It starts with **C:/**"
   ]
  },
  {
   "cell_type": "code",
   "execution_count": 11,
   "metadata": {},
   "outputs": [
    {
     "data": {
      "text/plain": [
       "WindowsPath('C:/Users/anuj_mahawar/Desktop/Python_Dirty_Hands/Ineuron/Solutions/Full_Stack/Python_Basic')"
      ]
     },
     "execution_count": 11,
     "metadata": {},
     "output_type": "execute_result"
    }
   ],
   "source": [
    "Path.cwd() # This is an absolute path"
   ]
  },
  {
   "cell_type": "markdown",
   "metadata": {},
   "source": [
    "## 3. What do the functions os.getcwd() and os.chdir() do?"
   ]
  },
  {
   "cell_type": "markdown",
   "metadata": {},
   "source": [
    "- **os.getcwd()** will get the current working directory as a string\n",
    "- **os.chdir()** will change the current working directory to a different directory"
   ]
  },
  {
   "cell_type": "code",
   "execution_count": 15,
   "metadata": {},
   "outputs": [
    {
     "name": "stdout",
     "output_type": "stream",
     "text": [
      "C:\\Users\\anuj_mahawar\\Desktop\\Python_Dirty_Hands\\Ineuron\\Solutions\\Full_Stack\\Python_Basic\n",
      "New Working Directory:  C:\\Users\\anuj_mahawar\\Desktop\\Python_Dirty_Hands\\Ineuron\\Solutions\\Full_Stack\n"
     ]
    }
   ],
   "source": [
    "import os\n",
    "print(os.getcwd())\n",
    "os.chdir(r'C:\\Users\\anuj_mahawar\\Desktop\\Python_Dirty_Hands\\Ineuron\\Solutions\\Full_Stack')\n",
    "print('New Working Directory: ',os.getcwd())"
   ]
  },
  {
   "cell_type": "markdown",
   "metadata": {},
   "source": [
    "## 4. What are the . and .. folders?"
   ]
  },
  {
   "cell_type": "markdown",
   "metadata": {},
   "source": [
    "- A single **.** means **this directory**\n",
    "- A double **..** means **parent directory**"
   ]
  },
  {
   "cell_type": "markdown",
   "metadata": {},
   "source": [
    "## 5. In C:\\bacon\\eggs\\spam.txt, which part is the dir name, and which part is the base name?"
   ]
  },
  {
   "cell_type": "code",
   "execution_count": 19,
   "metadata": {},
   "outputs": [
    {
     "name": "stdout",
     "output_type": "stream",
     "text": [
      "Base Name: spam.txt\n",
      "Dir Name: C:\\bacon\\eggs\n"
     ]
    }
   ],
   "source": [
    "Filepath = 'C:\\\\bacon\\\\eggs\\\\spam.txt'\n",
    "print('Base Name:',os.path.basename(Filepath))\n",
    "print('Dir Name:',os.path.dirname(Filepath))"
   ]
  },
  {
   "cell_type": "markdown",
   "metadata": {},
   "source": [
    "## 6. What are the three “mode” arguments that can be passed to the open() function?"
   ]
  },
  {
   "cell_type": "markdown",
   "metadata": {},
   "source": [
    "- **r** for Read Mode\n",
    "- **w** for Write Mode\n",
    "- **a** for Append Mode"
   ]
  },
  {
   "cell_type": "code",
   "execution_count": 23,
   "metadata": {},
   "outputs": [
    {
     "data": {
      "text/plain": [
       "'Hello World'"
      ]
     },
     "execution_count": 23,
     "metadata": {},
     "output_type": "execute_result"
    }
   ],
   "source": [
    "## Read Mode\n",
    "helloFile = open(r'C:/Users/anuj_mahawar/Desktop/Python_Dirty_Hands/Ineuron/Solutions/Full_Stack/Python_Basic/hello.txt','r')\n",
    "helloContent = helloFile.read()\n",
    "helloContent\n",
    "helloContent.close()"
   ]
  },
  {
   "cell_type": "code",
   "execution_count": 30,
   "metadata": {},
   "outputs": [
    {
     "name": "stdout",
     "output_type": "stream",
     "text": [
      "This is write mode!\n",
      "\n"
     ]
    }
   ],
   "source": [
    "## Write Mode\n",
    "helloWriteFile = open(r'C:/Users/anuj_mahawar/Desktop/Python_Dirty_Hands/Ineuron/Solutions/Full_Stack/Python_Basic/hello.txt','w')\n",
    "helloWriteFile.write('This is write mode!\\n')\n",
    "helloWriteFile.close()\n",
    "helloFile = open('hello.txt')\n",
    "content = helloFile.read()\n",
    "print(content)\n",
    "helloFile.close()"
   ]
  },
  {
   "cell_type": "code",
   "execution_count": 31,
   "metadata": {},
   "outputs": [
    {
     "name": "stdout",
     "output_type": "stream",
     "text": [
      "This is write mode!\n",
      "This is append mode!\n",
      "\n"
     ]
    }
   ],
   "source": [
    "## Append Mode\n",
    "helloAppendFile = open(r'C:/Users/anuj_mahawar/Desktop/Python_Dirty_Hands/Ineuron/Solutions/Full_Stack/Python_Basic/hello.txt','a')\n",
    "helloAppendFile.write('This is append mode!\\n')\n",
    "helloAppendFile.close()\n",
    "helloFile = open('hello.txt')\n",
    "content = helloFile.read()\n",
    "print(content)\n",
    "helloFile.close()"
   ]
  },
  {
   "cell_type": "markdown",
   "metadata": {},
   "source": [
    "## 7. What happens if an existing file is opened in write mode?"
   ]
  },
  {
   "cell_type": "markdown",
   "metadata": {},
   "source": [
    "- The contents of the file is completely overwritten and original contents are erased completely"
   ]
  },
  {
   "cell_type": "code",
   "execution_count": 32,
   "metadata": {},
   "outputs": [
    {
     "name": "stdout",
     "output_type": "stream",
     "text": [
      "This is the orginal content\n",
      "----------------------------\n",
      "This is write mode!\n",
      "This is append mode!\n",
      "\n",
      "This is the overwritten content\n",
      "----------------------------\n",
      "This is write mode!\n",
      "\n"
     ]
    }
   ],
   "source": [
    "## Write Mode\n",
    "helloFile = open('hello.txt')\n",
    "content = helloFile.read()\n",
    "print('This is the orginal content')\n",
    "print('----------------------------')\n",
    "print(content)\n",
    "helloFile.close()\n",
    "helloWriteFile = open(r'C:/Users/anuj_mahawar/Desktop/Python_Dirty_Hands/Ineuron/Solutions/Full_Stack/Python_Basic/hello.txt','w')\n",
    "helloWriteFile.write('This is write mode!\\n')\n",
    "helloWriteFile.close()\n",
    "\n",
    "helloFile = open('hello.txt')\n",
    "content = helloFile.read()\n",
    "print('This is the overwritten content')\n",
    "print('----------------------------')\n",
    "print(content)\n",
    "helloFile.close()"
   ]
  },
  {
   "cell_type": "markdown",
   "metadata": {},
   "source": [
    "## 8. How do you tell the difference between read() and readlines()?"
   ]
  },
  {
   "cell_type": "markdown",
   "metadata": {},
   "source": [
    "- **read()** will return the entire content of the file in a single string\n",
    "- **readlines()** will return the list of string values i.e. one string for each line inside the file"
   ]
  },
  {
   "cell_type": "code",
   "execution_count": 39,
   "metadata": {},
   "outputs": [
    {
     "name": "stdout",
     "output_type": "stream",
     "text": [
      "This is write mode!\n",
      "This is the append mode!\n",
      "This is the read mode!\n",
      "\n"
     ]
    }
   ],
   "source": [
    "fileread = open('hello.txt','r')\n",
    "content = fileread.read()\n",
    "fileread.close()\n",
    "print(content)"
   ]
  },
  {
   "cell_type": "code",
   "execution_count": 40,
   "metadata": {},
   "outputs": [
    {
     "name": "stdout",
     "output_type": "stream",
     "text": [
      "['This is write mode!\\n', 'This is the append mode!\\n', 'This is the read mode!\\n']\n"
     ]
    }
   ],
   "source": [
    "filereadlines = open('hello.txt','r')\n",
    "content = filereadlines.readlines()\n",
    "filereadlines.close()\n",
    "print(content)"
   ]
  },
  {
   "cell_type": "markdown",
   "metadata": {},
   "source": [
    "## 9. What data structure does a shelf value resemble?"
   ]
  },
  {
   "cell_type": "markdown",
   "metadata": {},
   "source": [
    "- Shelf resembles dictionaries as it also has keys() and values()"
   ]
  }
 ],
 "metadata": {
  "kernelspec": {
   "display_name": "Python 3",
   "language": "python",
   "name": "python3"
  },
  "language_info": {
   "codemirror_mode": {
    "name": "ipython",
    "version": 3
   },
   "file_extension": ".py",
   "mimetype": "text/x-python",
   "name": "python",
   "nbconvert_exporter": "python",
   "pygments_lexer": "ipython3",
   "version": "3.8.5"
  }
 },
 "nbformat": 4,
 "nbformat_minor": 4
}
