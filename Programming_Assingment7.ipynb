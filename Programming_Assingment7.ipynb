{
 "cells": [
  {
   "cell_type": "markdown",
   "metadata": {},
   "source": [
    "## 1.\tWrite a Python Program to find sum of array?"
   ]
  },
  {
   "cell_type": "code",
   "execution_count": 2,
   "metadata": {},
   "outputs": [],
   "source": [
    "import numpy as np"
   ]
  },
  {
   "cell_type": "code",
   "execution_count": 14,
   "metadata": {},
   "outputs": [
    {
     "name": "stdout",
     "output_type": "stream",
     "text": [
      "[[ 1  2  3  4  5]\n",
      " [11 22 33 44 55]]\n",
      "Sum of array is:  180\n"
     ]
    }
   ],
   "source": [
    "a = np.array([[1,2,3,4,5],[11,22,33,44,55]])\n",
    "print(a)\n",
    "print('Sum of array is: ',np.sum(a))"
   ]
  },
  {
   "cell_type": "markdown",
   "metadata": {},
   "source": [
    "## 2.\tWrite a Python Program to find largest element in an array?"
   ]
  },
  {
   "cell_type": "code",
   "execution_count": 17,
   "metadata": {},
   "outputs": [
    {
     "name": "stdout",
     "output_type": "stream",
     "text": [
      "[[ 1  2  3  4  5]\n",
      " [11 22 19 55 55]]\n"
     ]
    }
   ],
   "source": [
    "a = np.array([[1,2,3,4,5],[11,22,19,55,55]])\n",
    "print(a)"
   ]
  },
  {
   "cell_type": "code",
   "execution_count": 19,
   "metadata": {},
   "outputs": [
    {
     "name": "stdout",
     "output_type": "stream",
     "text": [
      "Max element in the above array is 55\n"
     ]
    }
   ],
   "source": [
    "print(f'Max element in the above array is {np.max(a)}')"
   ]
  },
  {
   "cell_type": "markdown",
   "metadata": {},
   "source": [
    "## 3.\tWrite a Python Program for array rotation?"
   ]
  },
  {
   "cell_type": "markdown",
   "metadata": {},
   "source": [
    "##### In the left rotation, each element of the array will be shifted to its left by one position and the first element of the array will be added to end of the list. This process will be followed for a specified number of times."
   ]
  },
  {
   "cell_type": "code",
   "execution_count": 56,
   "metadata": {},
   "outputs": [],
   "source": [
    "def array_rotation(arr,n,rotation):\n",
    "    if rotation  == 'left':\n",
    "        for i in range(0,n):\n",
    "            first = arr[0]\n",
    "        \n",
    "            for j in range(0,len(arr)-1):\n",
    "                arr[j] = arr[j+1]\n",
    "            arr[len(arr)-1] = first\n",
    "        return arr\n",
    "    else:\n",
    "        for i in range(0,n-1):\n",
    "            #print(i)\n",
    "            first = arr[0]\n",
    "        \n",
    "            for j in range(0,len(arr)-1):\n",
    "                #print(arr[j],arr[j+1])\n",
    "                arr[j] = arr[j+1]\n",
    "            arr[len(arr)-1] = first\n",
    "            #print(\"Arr: \",arr)\n",
    "        return arr"
   ]
  },
  {
   "cell_type": "code",
   "execution_count": 57,
   "metadata": {},
   "outputs": [
    {
     "name": "stdout",
     "output_type": "stream",
     "text": [
      "Original Array: \n",
      "1 2 3 4 5 "
     ]
    }
   ],
   "source": [
    "a = np.array([1,2,3,4,5])\n",
    "\n",
    "## print original array\n",
    "print(\"Original Array: \")\n",
    "for i in range(0,len(a)):\n",
    "    print(a[i],end=\" \")\n"
   ]
  },
  {
   "cell_type": "code",
   "execution_count": 37,
   "metadata": {},
   "outputs": [
    {
     "data": {
      "text/plain": [
       "array([4, 5, 1, 2, 3])"
      ]
     },
     "execution_count": 37,
     "metadata": {},
     "output_type": "execute_result"
    }
   ],
   "source": [
    "array_rotation(a,3,'left')"
   ]
  },
  {
   "cell_type": "code",
   "execution_count": 58,
   "metadata": {},
   "outputs": [
    {
     "data": {
      "text/plain": [
       "array([3, 4, 5, 1, 2])"
      ]
     },
     "execution_count": 58,
     "metadata": {},
     "output_type": "execute_result"
    }
   ],
   "source": [
    "array_rotation(a,3,'right')"
   ]
  },
  {
   "cell_type": "markdown",
   "metadata": {},
   "source": [
    "## 4.\tWrite a Python Program to Split the array and add the first part to the end?"
   ]
  },
  {
   "cell_type": "code",
   "execution_count": 81,
   "metadata": {},
   "outputs": [],
   "source": [
    "def split_array(arr,element):\n",
    "    if element in a:\n",
    "        n = np.where(arr == element)[0][0]\n",
    "        for i in range(0,n):\n",
    "            first = arr[0]\n",
    "\n",
    "            for j in range(0,len(arr)-1):\n",
    "                arr[j] = arr[j+1]\n",
    "            arr[len(arr)-1] = first\n",
    "        return arr\n",
    "    else:\n",
    "        return \"Element Not in Array!!\""
   ]
  },
  {
   "cell_type": "code",
   "execution_count": 82,
   "metadata": {},
   "outputs": [
    {
     "name": "stdout",
     "output_type": "stream",
     "text": [
      "Original Array: \n",
      "1 2 3 4 5 11 22 34 55 67 87 "
     ]
    }
   ],
   "source": [
    "a = np.array([1,2,3,4,5,11,22,34,55,67,87])\n",
    "\n",
    "## print original array\n",
    "print(\"Original Array: \")\n",
    "for i in range(0,len(a)):\n",
    "    print(a[i],end=\" \")"
   ]
  },
  {
   "cell_type": "code",
   "execution_count": 83,
   "metadata": {},
   "outputs": [
    {
     "data": {
      "text/plain": [
       "'Element Not in Array!!'"
      ]
     },
     "execution_count": 83,
     "metadata": {},
     "output_type": "execute_result"
    }
   ],
   "source": [
    "split_array(a,99)"
   ]
  },
  {
   "cell_type": "code",
   "execution_count": 84,
   "metadata": {},
   "outputs": [
    {
     "data": {
      "text/plain": [
       "array([34, 55, 67, 87,  1,  2,  3,  4,  5, 11, 22])"
      ]
     },
     "execution_count": 84,
     "metadata": {},
     "output_type": "execute_result"
    }
   ],
   "source": [
    "split_array(a,34)"
   ]
  },
  {
   "cell_type": "markdown",
   "metadata": {},
   "source": [
    "## 5.\tWrite a Python Program to check if given array is Monotonic?"
   ]
  },
  {
   "cell_type": "markdown",
   "metadata": {},
   "source": [
    "##### An array is said to be monotonic in nature if it is either continuously increasing or continuously decreasing"
   ]
  },
  {
   "cell_type": "code",
   "execution_count": 130,
   "metadata": {},
   "outputs": [],
   "source": [
    "def monotonic_arr(arr):\n",
    "    if all(arr[i] <= arr[i + 1] for i in range(len(arr) - 1)): return \"Array is Monotonous, Trend is increasing\" \n",
    "    elif all(arr[i] >= arr[i + 1] for i in range(len(arr) - 1)):\n",
    "        return \"Array is Monotonous, Trend is Decreasing\"\n",
    "    return \"Not Monotonic array\""
   ]
  },
  {
   "cell_type": "code",
   "execution_count": 131,
   "metadata": {},
   "outputs": [
    {
     "name": "stdout",
     "output_type": "stream",
     "text": [
      "Original Array A: \n",
      "1 2 3 4 5 11 22 34 55 67 87 "
     ]
    }
   ],
   "source": [
    "a = np.array([1,2,3,4,5,11,22,34,55,67,87])\n",
    "\n",
    "## print original array\n",
    "print(\"Original Array A: \")\n",
    "for i in range(0,len(a)):\n",
    "    print(a[i],end=\" \")"
   ]
  },
  {
   "cell_type": "code",
   "execution_count": 132,
   "metadata": {},
   "outputs": [
    {
     "name": "stdout",
     "output_type": "stream",
     "text": [
      "Original Array B: \n",
      "11 22 3 4 5 11 22 34 55 67 87 "
     ]
    }
   ],
   "source": [
    "b = np.array([11,22,3,4,5,11,22,34,55,67,87])\n",
    "\n",
    "## print original array\n",
    "print(\"Original Array B: \")\n",
    "for i in range(0,len(b)):\n",
    "    print(b[i],end=\" \")"
   ]
  },
  {
   "cell_type": "code",
   "execution_count": 135,
   "metadata": {},
   "outputs": [
    {
     "name": "stdout",
     "output_type": "stream",
     "text": [
      "Original Array C: \n",
      "11 9 8 7 6 "
     ]
    }
   ],
   "source": [
    "c = np.array([11,9,8,7,6])\n",
    "\n",
    "## print original array\n",
    "print(\"Original Array C: \")\n",
    "for i in range(0,len(c)):\n",
    "    print(c[i],end=\" \")"
   ]
  },
  {
   "cell_type": "code",
   "execution_count": 133,
   "metadata": {},
   "outputs": [
    {
     "data": {
      "text/plain": [
       "'Array is Monotonous, Trend is increasing'"
      ]
     },
     "execution_count": 133,
     "metadata": {},
     "output_type": "execute_result"
    }
   ],
   "source": [
    "monotonic_arr(a)"
   ]
  },
  {
   "cell_type": "code",
   "execution_count": 134,
   "metadata": {},
   "outputs": [
    {
     "data": {
      "text/plain": [
       "'Not Monotonic array'"
      ]
     },
     "execution_count": 134,
     "metadata": {},
     "output_type": "execute_result"
    }
   ],
   "source": [
    "monotonic_arr(b)"
   ]
  },
  {
   "cell_type": "code",
   "execution_count": 136,
   "metadata": {},
   "outputs": [
    {
     "data": {
      "text/plain": [
       "'Array is Monotonous, Trend is Decreasing'"
      ]
     },
     "execution_count": 136,
     "metadata": {},
     "output_type": "execute_result"
    }
   ],
   "source": [
    "monotonic_arr(c)"
   ]
  }
 ],
 "metadata": {
  "kernelspec": {
   "display_name": "Python 3",
   "language": "python",
   "name": "python3"
  },
  "language_info": {
   "codemirror_mode": {
    "name": "ipython",
    "version": 3
   },
   "file_extension": ".py",
   "mimetype": "text/x-python",
   "name": "python",
   "nbconvert_exporter": "python",
   "pygments_lexer": "ipython3",
   "version": "3.8.5"
  }
 },
 "nbformat": 4,
 "nbformat_minor": 4
}
