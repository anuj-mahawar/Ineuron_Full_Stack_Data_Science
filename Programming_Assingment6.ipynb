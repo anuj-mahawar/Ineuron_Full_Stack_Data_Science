{
 "cells": [
  {
   "cell_type": "markdown",
   "metadata": {},
   "source": [
    "## 1.\tWrite a Python Program to Display Fibonacci Sequence Using Recursion?"
   ]
  },
  {
   "cell_type": "code",
   "execution_count": 6,
   "metadata": {},
   "outputs": [],
   "source": [
    "def fib_2(n):\n",
    "    if n <= 1:\n",
    "        return n\n",
    "    else:\n",
    "        return fib_2(n-1) + fib_2(n-2)"
   ]
  },
  {
   "cell_type": "code",
   "execution_count": 17,
   "metadata": {},
   "outputs": [
    {
     "name": "stdout",
     "output_type": "stream",
     "text": [
      "Enter any number till which you want to print the Fibonacci series: 10\n",
      "Fibonacci Series using Recursion:  0 1 1 2 3 5 8 13 21 34 "
     ]
    }
   ],
   "source": [
    "n = int(input(\"Enter any number till which you want to print the Fibonacci series: \"))\n",
    "if n <= 0:\n",
    "    n = int(input(\"Enter any positive number!!!!\"))\n",
    "else:\n",
    "    print(\"Fibonacci Series using Recursion: \",end=\" \")\n",
    "    for i in range(n):\n",
    "        print(fib_2(i),end=\" \")"
   ]
  },
  {
   "cell_type": "markdown",
   "metadata": {},
   "source": [
    "## 2.\tWrite a Python Program to Find Factorial of Number Using Recursion?"
   ]
  },
  {
   "cell_type": "code",
   "execution_count": 27,
   "metadata": {},
   "outputs": [],
   "source": [
    "def recursive_fact(n):\n",
    "    \n",
    "    if n == 0:\n",
    "        return \"0 Factorial is 1\"\n",
    "    elif n == 1:\n",
    "        return n\n",
    "    else:\n",
    "        return (n) * recursive_fact(n-1)"
   ]
  },
  {
   "cell_type": "code",
   "execution_count": 30,
   "metadata": {},
   "outputs": [
    {
     "name": "stdout",
     "output_type": "stream",
     "text": [
      "Enter any number: 5\n",
      "Factorial of 5 is 120\n"
     ]
    }
   ],
   "source": [
    "fact_input = int(input(\"Enter any number: \"))\n",
    "print(f'Factorial of {fact_input} is {recursive_fact(fact_input)}')"
   ]
  },
  {
   "cell_type": "markdown",
   "metadata": {},
   "source": [
    "## 3.\tWrite a Python Program to calculate your Body Mass Index?"
   ]
  },
  {
   "cell_type": "code",
   "execution_count": 47,
   "metadata": {},
   "outputs": [],
   "source": [
    "def calculate_bmi(wt,ht):\n",
    "    bmi = wt / (ht**2)\n",
    "    print(f'Your BMI is {round(bmi,2)}')\n",
    "    if bmi < 18.5 :\n",
    "        return \"You are Underweight\"\n",
    "    elif bmi >= 18.5 and bmi < 25:\n",
    "        return \"Congratulations!! You have Normal Weight\"\n",
    "    else :\n",
    "        return \"You have Overweight\""
   ]
  },
  {
   "cell_type": "code",
   "execution_count": 48,
   "metadata": {},
   "outputs": [
    {
     "name": "stdout",
     "output_type": "stream",
     "text": [
      "Enter your weight in kg: 65\n",
      "Enter your height in m: 1.8\n",
      "Your BMI is 20.06\n",
      "Congratulations!! You have Normal Weight\n"
     ]
    }
   ],
   "source": [
    "inp_wt = float(input(\"Enter your weight in kg: \"))\n",
    "inp_ht = float(input(\"Enter your height in m: \"))\n",
    "print(calculate_bmi(inp_wt,inp_ht))"
   ]
  },
  {
   "cell_type": "markdown",
   "metadata": {},
   "source": [
    "## 4.\tWrite a Python Program to calculate the natural logarithm of any number?"
   ]
  },
  {
   "cell_type": "code",
   "execution_count": 52,
   "metadata": {},
   "outputs": [
    {
     "name": "stdout",
     "output_type": "stream",
     "text": [
      "Enter any number: 7.5\n",
      "Natural Log of 7.5 is 2.0149030205422647\n"
     ]
    }
   ],
   "source": [
    "import math\n",
    "n = float(input(\"Enter any number: \"))\n",
    "print(f'Natural Log of {n} is {math.log(n)}')"
   ]
  },
  {
   "cell_type": "markdown",
   "metadata": {},
   "source": [
    "## 5.\tWrite a Python Program for cube sum of first n natural numbers?"
   ]
  },
  {
   "cell_type": "code",
   "execution_count": 55,
   "metadata": {},
   "outputs": [
    {
     "name": "stdout",
     "output_type": "stream",
     "text": [
      "Enter Upper Bound for the Natural Number: 8\n",
      "Cube of 1 is: 1\n",
      "Cube of 2 is: 8\n",
      "Cube of 3 is: 27\n",
      "Cube of 4 is: 64\n",
      "Cube of 5 is: 125\n",
      "Cube of 6 is: 216\n",
      "Cube of 7 is: 343\n",
      "Cube of 8 is: 512\n"
     ]
    }
   ],
   "source": [
    "upper_bound = int(input(\"Enter Upper Bound for the Natural Number: \"))\n",
    "for i in range(1,upper_bound+1):\n",
    "    print(f'Cube of {i} is: {i ** 3}')"
   ]
  }
 ],
 "metadata": {
  "kernelspec": {
   "display_name": "Python 3",
   "language": "python",
   "name": "python3"
  },
  "language_info": {
   "codemirror_mode": {
    "name": "ipython",
    "version": 3
   },
   "file_extension": ".py",
   "mimetype": "text/x-python",
   "name": "python",
   "nbconvert_exporter": "python",
   "pygments_lexer": "ipython3",
   "version": "3.8.5"
  }
 },
 "nbformat": 4,
 "nbformat_minor": 4
}
