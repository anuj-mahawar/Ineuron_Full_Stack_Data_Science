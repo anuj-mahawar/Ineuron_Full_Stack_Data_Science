{
 "cells": [
  {
   "cell_type": "markdown",
   "id": "80a6b4da",
   "metadata": {},
   "source": [
    "## Question 1:\n",
    "Please write a program using generator to print the numbers which can be divisible by 5 and 7 between 0 and n in comma separated form while n is input by console.  \n",
    "Example:  \n",
    "If the following n is given as input to the program:  \n",
    "100  \n",
    "Then, the output of the program should be:  \n",
    "0,35,70  "
   ]
  },
  {
   "cell_type": "code",
   "execution_count": 13,
   "id": "96effa15",
   "metadata": {},
   "outputs": [],
   "source": [
    "def divisible_by_5_7(n):\n",
    "    for i in range(n+1):\n",
    "        if i % 5 == 0 and i % 7 == 0:\n",
    "            yield i"
   ]
  },
  {
   "cell_type": "code",
   "execution_count": 34,
   "id": "a2026505",
   "metadata": {},
   "outputs": [
    {
     "name": "stdout",
     "output_type": "stream",
     "text": [
      "Enter a integer value: 100\n",
      "0,35,70\n"
     ]
    }
   ],
   "source": [
    "x = int(input(\"Enter a integer value: \"))\n",
    "print(*list(divisible_by_5_7(100)),sep=\",\")"
   ]
  },
  {
   "cell_type": "markdown",
   "id": "4d84cc9c",
   "metadata": {},
   "source": [
    "## Question 2:\n",
    "Please write a program using generator to print the even numbers between 0 and n in comma separated form while n is input by console.  \n",
    "Example:  \n",
    "If the following n is given as input to the program:    \n",
    "10  \n",
    "Then, the output of the program should be:  \n",
    "0,2,4,6,8,10\n",
    "\n"
   ]
  },
  {
   "cell_type": "code",
   "execution_count": 15,
   "id": "1162317b",
   "metadata": {},
   "outputs": [],
   "source": [
    "def even(n):\n",
    "    for i in range(n+1):\n",
    "        if i % 2 == 0 :\n",
    "            yield i"
   ]
  },
  {
   "cell_type": "code",
   "execution_count": 36,
   "id": "06b087e0",
   "metadata": {},
   "outputs": [
    {
     "name": "stdout",
     "output_type": "stream",
     "text": [
      "Enter a integer value: 10\n",
      "0,2,4,6,8,10\n"
     ]
    }
   ],
   "source": [
    "x = int(input(\"Enter a integer value: \"))\n",
    "print(*list(even(10)),sep=\",\")"
   ]
  },
  {
   "cell_type": "markdown",
   "id": "73a94bea",
   "metadata": {},
   "source": [
    "## Question 3:\n",
    "The Fibonacci Sequence is computed based on the following formula:  \n",
    "f(n)=0 if n=0  \n",
    "f(n)=1 if n=1  \n",
    "f(n)=f(n-1)+f(n-2) if n>1  \n",
    "Please write a program using list comprehension to print the Fibonacci Sequence in comma separated form with a given n input by console.  \n",
    "Example:  \n",
    "If the following n is given as input to the program:  \n",
    "7\n",
    "\n",
    "Then, the output of the program should be:\n",
    "0,1,1,2,3,5,8,13\n"
   ]
  },
  {
   "cell_type": "code",
   "execution_count": 37,
   "id": "15f7103a",
   "metadata": {},
   "outputs": [],
   "source": [
    "def genfibonacci(n):\n",
    "    '''\n",
    "    Generate fibonacci sequence till n numbers\n",
    "    '''\n",
    "    a = 1\n",
    "    b = 1\n",
    "    for i in range(n):\n",
    "        ##print(a,b,n)\n",
    "        yield a\n",
    "        a,b = b, a+b"
   ]
  },
  {
   "cell_type": "code",
   "execution_count": 38,
   "id": "a341e9f5",
   "metadata": {},
   "outputs": [
    {
     "name": "stdout",
     "output_type": "stream",
     "text": [
      "1,1,2,3,5,8,13\n"
     ]
    }
   ],
   "source": [
    "print(*list(genfibonacci(7)),sep=\",\")"
   ]
  },
  {
   "cell_type": "markdown",
   "id": "c91f0ee3",
   "metadata": {},
   "source": [
    "## Question 4:\n",
    "Assuming that we have some email addresses in the \"username@companyname.com\" format, please write program to print the user name of a given email address. Both user names and company names are composed of letters only.\n",
    "Example:  \n",
    "If the following email address is given as input to the program:  \n",
    "john@google.com  \n",
    "Then, the output of the program should be:  \n",
    "john\n"
   ]
  },
  {
   "cell_type": "code",
   "execution_count": 39,
   "id": "623d6799",
   "metadata": {},
   "outputs": [],
   "source": [
    "def getuser(email):\n",
    "    return email.split('@')[0]"
   ]
  },
  {
   "cell_type": "code",
   "execution_count": 42,
   "id": "8614a215",
   "metadata": {},
   "outputs": [
    {
     "name": "stdout",
     "output_type": "stream",
     "text": [
      "Enter any email: john@gmail.com\n",
      "john\n"
     ]
    }
   ],
   "source": [
    "username = str(input(\"Enter any email: \"))\n",
    "print(getuser(username))"
   ]
  },
  {
   "cell_type": "markdown",
   "id": "975acbc2",
   "metadata": {},
   "source": [
    "## Question 5:\n",
    "Define a class named Shape and its subclass Square. The Square class has an init function which takes a length as argument.   Both classes have a area function which can print the area of the shape where Shape's area is 0 by default.\n"
   ]
  },
  {
   "cell_type": "code",
   "execution_count": 45,
   "id": "3fc2f4a4",
   "metadata": {},
   "outputs": [],
   "source": [
    "class Shape:\n",
    "    \n",
    "    def __init__(self):\n",
    "        pass\n",
    "    \n",
    "    def area(self):\n",
    "        return 0\n",
    "\n",
    "class Square(Shape):\n",
    "    \n",
    "    def __init__(self,length = 0):\n",
    "        Shape.__init__(self)\n",
    "        self.length = length\n",
    "    \n",
    "    def area(self):\n",
    "        return self.length * self.length"
   ]
  },
  {
   "cell_type": "code",
   "execution_count": 47,
   "id": "526183ff",
   "metadata": {},
   "outputs": [
    {
     "name": "stdout",
     "output_type": "stream",
     "text": [
      "Area from Square Class:  25\n",
      "Area from Shape Class:  0\n"
     ]
    }
   ],
   "source": [
    "Asqr = Square(5)\n",
    "print(\"Area from Square Class: \",Asqr.area())\n",
    "        \n",
    "print(\"Area from Shape Class: \",Square().area())"
   ]
  }
 ],
 "metadata": {
  "kernelspec": {
   "display_name": "Python 3",
   "language": "python",
   "name": "python3"
  },
  "language_info": {
   "codemirror_mode": {
    "name": "ipython",
    "version": 3
   },
   "file_extension": ".py",
   "mimetype": "text/x-python",
   "name": "python",
   "nbconvert_exporter": "python",
   "pygments_lexer": "ipython3",
   "version": "3.8.5"
  }
 },
 "nbformat": 4,
 "nbformat_minor": 5
}
