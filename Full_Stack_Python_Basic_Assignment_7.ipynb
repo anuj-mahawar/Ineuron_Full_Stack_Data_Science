{
 "cells": [
  {
   "cell_type": "markdown",
   "metadata": {},
   "source": [
    "## 1. What is the name of the feature responsible for generating Regex objects?"
   ]
  },
  {
   "cell_type": "markdown",
   "metadata": {},
   "source": [
    "`re` module in python is responsible for regex    \n",
    "**re.compile** is used to generate regex objects"
   ]
  },
  {
   "cell_type": "code",
   "execution_count": 11,
   "metadata": {},
   "outputs": [
    {
     "data": {
      "text/plain": [
       "re.compile(r'\\d\\d\\d-\\d\\d\\d', re.UNICODE)"
      ]
     },
     "execution_count": 11,
     "metadata": {},
     "output_type": "execute_result"
    }
   ],
   "source": [
    "import re\n",
    "re.compile(r'\\d\\d\\d-\\d\\d\\d')"
   ]
  },
  {
   "cell_type": "markdown",
   "metadata": {},
   "source": [
    "## 2. Why do raw strings often appear in Regex objects?"
   ]
  },
  {
   "cell_type": "markdown",
   "metadata": {},
   "source": [
    "As Regex objects frequently uses backslash `\\` , we use raw strings inside re.compile() function.  \n",
    "Instead of putting extra `\\` it is much easier to use raw string"
   ]
  },
  {
   "cell_type": "code",
   "execution_count": 2,
   "metadata": {},
   "outputs": [
    {
     "name": "stdout",
     "output_type": "stream",
     "text": [
      "Pattern Found:  678-444\n"
     ]
    }
   ],
   "source": [
    "import re\n",
    "pattern_match = re.compile(r'\\d\\d\\d-\\d\\d\\d') ## Matching a number with pattern like 999-999\n",
    "res = pattern_match.search('The average income of an employee is $ 678-444')\n",
    "print('Pattern Found: ',res.group())"
   ]
  },
  {
   "cell_type": "markdown",
   "metadata": {},
   "source": [
    "## 3. What is the return value of the search() method?"
   ]
  },
  {
   "cell_type": "markdown",
   "metadata": {},
   "source": [
    "- If regex pattern is not found, search() returns **None**  \n",
    "- If regex pattern is found, search() returns **MatchObject**"
   ]
  },
  {
   "cell_type": "code",
   "execution_count": 6,
   "metadata": {},
   "outputs": [
    {
     "name": "stdout",
     "output_type": "stream",
     "text": [
      "Search Return Type:  <class 're.Match'>\n",
      "Search Return Type:  <class 'NoneType'>\n"
     ]
    }
   ],
   "source": [
    "some_res = pattern_match.search('The average income of an employee is $ 678-444')\n",
    "print('Search Return Type: ',type(some_res))\n",
    "none_res = pattern_match.search('The average income of an employee is $ abc-def')\n",
    "print('Search Return Type: ',type(none_res))"
   ]
  },
  {
   "cell_type": "markdown",
   "metadata": {},
   "source": [
    "## 4. From a Match item, how do you get the actual strings that match the pattern?"
   ]
  },
  {
   "cell_type": "markdown",
   "metadata": {},
   "source": [
    "- Using **group()** method"
   ]
  },
  {
   "cell_type": "code",
   "execution_count": 12,
   "metadata": {},
   "outputs": [
    {
     "name": "stdout",
     "output_type": "stream",
     "text": [
      "Pattern Found:  678-444\n"
     ]
    }
   ],
   "source": [
    "print('Pattern Found: ',res.group())"
   ]
  },
  {
   "cell_type": "markdown",
   "metadata": {},
   "source": [
    "## 5. In the regex which created from the r'(\\d\\d\\d)-(\\d\\d\\d-\\d\\d\\d\\d)', what does group zero cover? Group 2? Group 1?"
   ]
  },
  {
   "cell_type": "markdown",
   "metadata": {},
   "source": [
    "- group zero will return the entire matched text\n",
    "- group 1 and 2 will cover the pattern within 1st and 2nd parentheses respectively"
   ]
  },
  {
   "cell_type": "code",
   "execution_count": 13,
   "metadata": {},
   "outputs": [
    {
     "name": "stdout",
     "output_type": "stream",
     "text": [
      "Group Zero:  678-444-9999\n",
      "Group One:  678\n",
      "Group Two:  444-9999\n"
     ]
    }
   ],
   "source": [
    "grp_pattern = re.compile(r'(\\d\\d\\d)-(\\d\\d\\d-\\d\\d\\d\\d)')\n",
    "grp_search = grp_pattern.search('The average income of an employee is $ 678-444-9999')\n",
    "print('Group Zero: ',grp_search.group(0))\n",
    "print('Group One: ',grp_search.group(1))\n",
    "print('Group Two: ',grp_search.group(2))"
   ]
  },
  {
   "cell_type": "markdown",
   "metadata": {},
   "source": [
    "## 6. In standard expression syntax, parentheses and intervals have distinct meanings. How can you tell a regex that you want it to fit real parentheses and periods?"
   ]
  },
  {
   "cell_type": "markdown",
   "metadata": {},
   "source": [
    "- Using a `\\` before the parentheses and periods"
   ]
  },
  {
   "cell_type": "code",
   "execution_count": 16,
   "metadata": {},
   "outputs": [
    {
     "name": "stdout",
     "output_type": "stream",
     "text": [
      "Group Zero:  (678) 444-9999\n",
      "Group One:  (678)\n",
      "Group Two:  444-9999\n"
     ]
    }
   ],
   "source": [
    "grp_pattern = re.compile(r'(\\(\\d\\d\\d\\)) (\\d\\d\\d-\\d\\d\\d\\d)')\n",
    "grp_search = grp_pattern.search('The average income of an employee is $ (678) 444-9999')\n",
    "print('Group Zero: ',grp_search.group(0))\n",
    "print('Group One: ',grp_search.group(1))\n",
    "print('Group Two: ',grp_search.group(2))"
   ]
  },
  {
   "cell_type": "markdown",
   "metadata": {},
   "source": [
    "## 7. The findall() method returns a string list or a list of string tuples. What causes it to return one of the two options?"
   ]
  },
  {
   "cell_type": "markdown",
   "metadata": {},
   "source": [
    "- `findall()` will return the strings of every match within the searched strings whereas `search()` returns only 1 match  \n",
    "- If regex expression has **no groups**, findall() returns a list of string matches\n",
    "- If regex expression has **groups**, findall() returns a list of tuples of strings"
   ]
  },
  {
   "cell_type": "code",
   "execution_count": 17,
   "metadata": {},
   "outputs": [
    {
     "name": "stdout",
     "output_type": "stream",
     "text": [
      "Pattern Found:  678-444\n"
     ]
    }
   ],
   "source": [
    "pattern_match = re.compile(r'\\d\\d\\d-\\d\\d\\d') ## Matching a number with pattern like 999-999\n",
    "res = pattern_match.search('The average income of an employee is $ 678-444 in ABC Company and $ 897-543 in XYZ')\n",
    "print('Pattern Found: ',res.group())"
   ]
  },
  {
   "cell_type": "code",
   "execution_count": 24,
   "metadata": {},
   "outputs": [
    {
     "name": "stdout",
     "output_type": "stream",
     "text": [
      "['678-444', '897-543']\n"
     ]
    }
   ],
   "source": [
    "pattern_match = re.compile(r'\\d\\d\\d-\\d\\d\\d') ## Matching a number with pattern like 999-999\n",
    "res = pattern_match.findall('The average income of an employee is $ 678-444 in ABC Company and $ 897-543 in XYZ')\n",
    "print(res) #Returns a List of Strings"
   ]
  },
  {
   "cell_type": "code",
   "execution_count": 25,
   "metadata": {},
   "outputs": [
    {
     "name": "stdout",
     "output_type": "stream",
     "text": [
      "[('678', '444'), ('897', '543')]\n"
     ]
    }
   ],
   "source": [
    "pattern_match = re.compile(r'(\\d\\d\\d)-(\\d\\d\\d)') ## Matching a number with pattern like 999-999\n",
    "res = pattern_match.findall('The average income of an employee is $ 678-444 in ABC Company and $ 897-543 in XYZ')\n",
    "print(res) ## Returns a List of Tuples of Strings"
   ]
  },
  {
   "cell_type": "markdown",
   "metadata": {},
   "source": [
    "## 8. In standard expressions, what does the | character mean?"
   ]
  },
  {
   "cell_type": "markdown",
   "metadata": {},
   "source": [
    "`|` is used to match one of many expressions. It is `either,or` between 2 groups    \n",
    "Only the first occurence of the matched text will be returned as the Match Object"
   ]
  },
  {
   "cell_type": "code",
   "execution_count": 57,
   "metadata": {},
   "outputs": [
    {
     "data": {
      "text/plain": [
       "'Honda'"
      ]
     },
     "execution_count": 57,
     "metadata": {},
     "output_type": "execute_result"
    }
   ],
   "source": [
    "car_reg_ex = re.compile(r'Hyundai|Honda|Ford')\n",
    "pipe_test = car_reg_ex.search('India is home for Honda, Hyundai and Ford Carmakers')\n",
    "pipe_test.group() ## Only first occurence of the Matched Text is returned"
   ]
  },
  {
   "cell_type": "markdown",
   "metadata": {},
   "source": [
    "## 9. In regular expressions, what does `?` character stand for?"
   ]
  },
  {
   "cell_type": "markdown",
   "metadata": {},
   "source": [
    "`?` character flags the group that precedes it as an optional part of the pattern"
   ]
  },
  {
   "cell_type": "code",
   "execution_count": 39,
   "metadata": {},
   "outputs": [
    {
     "data": {
      "text/plain": [
       "'Wonderwoman'"
      ]
     },
     "execution_count": 39,
     "metadata": {},
     "output_type": "execute_result"
    }
   ],
   "source": [
    "hero_reg_ex = re.compile(r'Wonder(wo)?man')\n",
    "question_test = hero_reg_ex.search('DC comics has Wonderwoman')\n",
    "question_test.group() ## Only first occurence of the Matched Text is returned"
   ]
  },
  {
   "cell_type": "code",
   "execution_count": 35,
   "metadata": {},
   "outputs": [
    {
     "data": {
      "text/plain": [
       "'Wonderman'"
      ]
     },
     "execution_count": 35,
     "metadata": {},
     "output_type": "execute_result"
    }
   ],
   "source": [
    "question_test = hero_reg_ex.search('DC comics has Wonderman')\n",
    "question_test.group() "
   ]
  },
  {
   "cell_type": "markdown",
   "metadata": {},
   "source": [
    "## 10.In regular expressions, what is the difference between the + and * characters?"
   ]
  },
  {
   "cell_type": "markdown",
   "metadata": {},
   "source": [
    "- The `*` matches zero or more of the preceding group.\n",
    "- The `+` matches one or more of the preceding group."
   ]
  },
  {
   "cell_type": "code",
   "execution_count": 37,
   "metadata": {},
   "outputs": [
    {
     "name": "stdout",
     "output_type": "stream",
     "text": [
      "Wonderman\n",
      "Wonderwoman\n",
      "Wonderwowowowoman\n"
     ]
    }
   ],
   "source": [
    "hero_reg_ex = re.compile(r'Wonder(wo)*man')\n",
    "asterik_test = hero_reg_ex.search('DC comics has Wonderman')\n",
    "print(asterik_test.group())\n",
    "asterik_test2 = hero_reg_ex.search('DC comics has Wonderwoman')\n",
    "print(asterik_test2.group())\n",
    "asterik_test3 = hero_reg_ex.search('DC comics has Wonderwowowowoman')\n",
    "print(asterik_test3.group())"
   ]
  },
  {
   "cell_type": "code",
   "execution_count": 41,
   "metadata": {},
   "outputs": [
    {
     "name": "stdout",
     "output_type": "stream",
     "text": [
      "True\n",
      "Wonderwoman\n",
      "Wonderwowowowoman\n"
     ]
    }
   ],
   "source": [
    "hero_reg_ex = re.compile(r'Wonder(wo)+man')\n",
    "plus_test = hero_reg_ex.search('DC comics has Wonderman')\n",
    "print(plus_test == None) ## Atleast 1 match should be there\n",
    "plus_test2 = hero_reg_ex.search('DC comics has Wonderwoman')\n",
    "print(plus_test2.group())\n",
    "plus_test3 = hero_reg_ex.search('DC comics has Wonderwowowowoman')\n",
    "print(plus_test3.group())"
   ]
  },
  {
   "cell_type": "markdown",
   "metadata": {},
   "source": [
    "## 11. What is the difference between {4} and {4,5} in regular expression?"
   ]
  },
  {
   "cell_type": "markdown",
   "metadata": {},
   "source": [
    "- {4}  will match the string that is repeated 4 times\n",
    "- {4,5} will match the string that is repeated minimum 4 times and maximum 5 times"
   ]
  },
  {
   "cell_type": "code",
   "execution_count": 47,
   "metadata": {},
   "outputs": [
    {
     "name": "stdout",
     "output_type": "stream",
     "text": [
      "hahahaha\n",
      "True\n",
      "hahahahaha\n"
     ]
    }
   ],
   "source": [
    "ha_regex = re.compile(r'(ha){4}')\n",
    "# Testing with 4 ha\n",
    "res = ha_regex.search('hahahaha')\n",
    "print(res.group())\n",
    "# Testing with 3 ha\n",
    "res1 = ha_regex.search('hahaha')\n",
    "print(res1 == None) ##As res1 has 3 ha it is not matching\n",
    "ha_2_regex = re.compile(r'(ha){4,5}')\n",
    "# Testing with 5 ha\n",
    "res3 = ha_2_regex.search('hahahahaha')\n",
    "print(res3.group())"
   ]
  },
  {
   "cell_type": "markdown",
   "metadata": {},
   "source": [
    "## 12. What do you mean by the \\d, \\w, and \\s shorthand character classes signify in regular expressions?"
   ]
  },
  {
   "cell_type": "markdown",
   "metadata": {},
   "source": [
    "- **\\d** is for numeric digit from 0 to 9\n",
    "- **\\w** is for any letter,numeric digit or the underscore character\n",
    "- **\\s** is for any space,tab or newline character"
   ]
  },
  {
   "cell_type": "code",
   "execution_count": 49,
   "metadata": {},
   "outputs": [
    {
     "data": {
      "text/plain": [
       "['11 players', '10 overs', '9 fielders']"
      ]
     },
     "execution_count": 49,
     "metadata": {},
     "output_type": "execute_result"
    }
   ],
   "source": [
    "xmas_regex = re.compile(r'\\d+\\s\\w+')\n",
    "xmas_regex.findall('11 players, 10 overs, 9 fielders')"
   ]
  },
  {
   "cell_type": "markdown",
   "metadata": {},
   "source": [
    "## 13. What do means by \\D, \\W, and \\S shorthand character classes signify in regular expressions?"
   ]
  },
  {
   "cell_type": "markdown",
   "metadata": {},
   "source": [
    "- **\\D** is for any character that is not a numeric digit from 0 to 9\n",
    "- **\\W** is for any character that is not a letter,numeric digit or the underscore character\n",
    "- **\\S** is for any character that is not a space,tab or newline character"
   ]
  },
  {
   "cell_type": "markdown",
   "metadata": {},
   "source": [
    "## 14. What is the difference between .? and .*? ?"
   ]
  },
  {
   "cell_type": "markdown",
   "metadata": {},
   "source": [
    "- .* uses greedy mode. It will try to match as much text as possible\n",
    "- .? uses non-greedy mode"
   ]
  },
  {
   "cell_type": "code",
   "execution_count": 52,
   "metadata": {},
   "outputs": [
    {
     "name": "stdout",
     "output_type": "stream",
     "text": [
      "Ineuron\n",
      "Technologies\n",
      "<To serve man>\n",
      "<To serve man> for dinner.>\n"
     ]
    }
   ],
   "source": [
    "nameRegex = re.compile(r'First Name: (.*) Last Name: (.*)')\n",
    "mo = nameRegex.search('First Name: Ineuron Last Name: Technologies')\n",
    "print(mo.group(1))\n",
    "print(mo.group(2))\n",
    "\n",
    "nongreedyRegex = re.compile(r'<.*?>')\n",
    "mo = nongreedyRegex.search('<To serve man> for dinner.>')\n",
    "print(mo.group())\n",
    "nongreedyRegex1 = re.compile(r'<.*>')\n",
    "mo = nongreedyRegex1.search('<To serve man> for dinner.>')\n",
    "print(mo.group())"
   ]
  },
  {
   "cell_type": "markdown",
   "metadata": {},
   "source": [
    "## 15. What is the syntax for matching both numbers and lowercase letters with a character class?"
   ]
  },
  {
   "cell_type": "markdown",
   "metadata": {},
   "source": [
    "- [a-z0-9] or [0-9a-z] "
   ]
  },
  {
   "cell_type": "code",
   "execution_count": 55,
   "metadata": {},
   "outputs": [
    {
     "name": "stdout",
     "output_type": "stream",
     "text": [
      "['i', 'n', 'd', 'i', 'a', '1', '2', '3', '9', '8', 'w', 'i', 'n', 'n', 'e', 'r']\n"
     ]
    }
   ],
   "source": [
    "test1 = re.compile(r'[a-z0-9]')\n",
    "result1 = test1.findall('india AUSTRALIA 12398 winner')\n",
    "print(result1)"
   ]
  },
  {
   "cell_type": "code",
   "execution_count": 56,
   "metadata": {},
   "outputs": [
    {
     "name": "stdout",
     "output_type": "stream",
     "text": [
      "['i', 'n', 'd', 'i', 'a', '1', '2', '3', '9', '8', 'w', 'i', 'n', 'n', 'e', 'r']\n"
     ]
    }
   ],
   "source": [
    "test2 = re.compile(r'[0-9a-z]')\n",
    "result1 = test2.findall('india AUSTRALIA 12398 winner')\n",
    "print(result1)"
   ]
  },
  {
   "cell_type": "markdown",
   "metadata": {},
   "source": [
    "## 16. What is the procedure for making a normal expression in regex case insensitive?"
   ]
  },
  {
   "cell_type": "markdown",
   "metadata": {},
   "source": [
    "- Passing re.I or re.IGNORECASE as the second argument to re.compile() will make the matching case insensitive."
   ]
  },
  {
   "cell_type": "code",
   "execution_count": 102,
   "metadata": {},
   "outputs": [
    {
     "name": "stdout",
     "output_type": "stream",
     "text": [
      "RoboCop\n",
      "ROBOCOP\n",
      "robocop\n"
     ]
    }
   ],
   "source": [
    "robocop = re.compile(r'robocop', re.I)\n",
    "print(robocop.search('RoboCop is part man, part machine, all cop.').group())\n",
    "print(robocop.search('ROBOCOP protects the innocent.').group())\n",
    "print(robocop.search('Al, why does your programming book talk about robocop so much?').group())"
   ]
  },
  {
   "cell_type": "markdown",
   "metadata": {},
   "source": [
    "## 17. What does the . character normally match? What does it match if re.DOTALL is passed as 2nd argument in re.compile()?"
   ]
  },
  {
   "cell_type": "markdown",
   "metadata": {},
   "source": [
    "- . normally matches any character except new line character\n",
    "- if re.DOTALL is passed as 2nd argument in re.compile(), then the . will also match new line characters"
   ]
  },
  {
   "cell_type": "code",
   "execution_count": 101,
   "metadata": {},
   "outputs": [
    {
     "name": "stdout",
     "output_type": "stream",
     "text": [
      "Serve the public trust.\n",
      "\n",
      "Serve the public trust.\n",
      "Protect the innocent.\n",
      "Uphold the law.\n"
     ]
    }
   ],
   "source": [
    "noNewlineRegex = re.compile('.*')\n",
    "print(noNewlineRegex.search('Serve the public trust.\\nProtect the innocent.\\nUphold the law.').group())\n",
    "print()\n",
    "newlineRegex = re.compile('.*', re.DOTALL)\n",
    "print(newlineRegex.search('Serve the public trust.\\nProtect the innocent.\\nUphold the law.').group())\n"
   ]
  },
  {
   "cell_type": "markdown",
   "metadata": {},
   "source": [
    "## 18. If numReg = re.compile(r'\\d+'), what will numRegex.sub('X', '11 drummers, 10 pipers, five rings, 4 hen') return?"
   ]
  },
  {
   "cell_type": "code",
   "execution_count": 99,
   "metadata": {},
   "outputs": [
    {
     "data": {
      "text/plain": [
       "'X drummers, X pipers, five rings, X hen'"
      ]
     },
     "execution_count": 99,
     "metadata": {},
     "output_type": "execute_result"
    }
   ],
   "source": [
    "numReg = re.compile(r'\\d+')\n",
    "numReg.sub('X', '11 drummers, 10 pipers, five rings, 4 hen')"
   ]
  },
  {
   "cell_type": "markdown",
   "metadata": {},
   "source": [
    "## 19. What does passing re.VERBOSE as the 2nd argument to re.compile() allow to do?"
   ]
  },
  {
   "cell_type": "markdown",
   "metadata": {},
   "source": [
    "- The re.VERBOSE argument is used to add whitespace and comments to the string passed to re.compile()."
   ]
  },
  {
   "cell_type": "markdown",
   "metadata": {},
   "source": [
    "## 20. How would you write a regex that match a number with comma for every three digits? It must match the given following:\n",
    "'42'  \n",
    "'1,234'  \n",
    "'6,368,745'  \n",
    "**but not the following:**  \n",
    "\n",
    "'12,34,567' (which has only two digits between the commas)  \n",
    "'1234' (which lacks commas)\n"
   ]
  },
  {
   "cell_type": "code",
   "execution_count": 97,
   "metadata": {},
   "outputs": [
    {
     "name": "stdout",
     "output_type": "stream",
     "text": [
      "42\n"
     ]
    }
   ],
   "source": [
    "number_string = re.compile(r'^\\d{1,3}(,{3})*$')\n",
    "search = number_string.search('42')\n",
    "print(search.group())"
   ]
  },
  {
   "cell_type": "markdown",
   "metadata": {},
   "source": [
    "## 21. How would you write a regex that matches the full name of someone whose last name is Watanabe? You can assume that the first name that comes before it will always be one word that begins with a capital letter. The regex must match the following:\n",
    "'Haruto Watanabe'  \n",
    "'Alice Watanabe'  \n",
    "'RoboCop Watanabe'  \n",
    "\n",
    "**but not the following:**  \n",
    "\n",
    "'haruto Watanabe' (where the first name is not capitalized)  \n",
    "'Mr. Watanabe' (where the preceding word has a nonletter character)  \n",
    "'Watanabe' (which has no first name)  \n",
    "'Haruto watanabe' (where Watanabe is not capitalized)  \n"
   ]
  },
  {
   "cell_type": "code",
   "execution_count": 79,
   "metadata": {},
   "outputs": [
    {
     "name": "stdout",
     "output_type": "stream",
     "text": [
      "['Haruto Watanabe']\n",
      "search_string2 has  0  elements\n"
     ]
    }
   ],
   "source": [
    "name_regex = re.compile(r'[A-Z][a-z]*\\sWatanabe')\n",
    "search_string = name_regex.findall('Haruto Watanabe')\n",
    "print(search_string)\n",
    "search_string2 = name_regex.findall('haruto Watanabe')\n",
    "print('search_string2 has ',len(search_string2),' elements')"
   ]
  },
  {
   "cell_type": "markdown",
   "metadata": {},
   "source": [
    "## 22. How would you write a regex that matches a sentence where the first word is either Alice, Bob, or Carol; the second word is either eats, pets, or throws; the third word is apples, cats, or baseballs; and the sentence ends with a period? This regex should be case-insensitive. It must match the following:\n",
    "-\t 'Alice eats apples.'\n",
    "-\t 'Bob pets cats.'\n",
    "-\t 'Carol throws baseballs.'\n",
    "-\t 'Alice throws Apples.'\n",
    "-\t 'BOB EATS CATS.'  \n",
    "\n",
    "**but not the following:**  \n",
    "-\t 'RoboCop eats apples.'\n",
    "-\t 'ALICE THROWS FOOTBALLS.'\n",
    "-\t 'Carol eats 7 cats.'"
   ]
  },
  {
   "cell_type": "code",
   "execution_count": 72,
   "metadata": {},
   "outputs": [
    {
     "name": "stdout",
     "output_type": "stream",
     "text": [
      "[('Alice', 'eats', 'apples')]\n",
      "Result_2 has  0  elements\n"
     ]
    }
   ],
   "source": [
    "question_22 = re.compile(r'(Alice|Bob|Carol)\\s(eats|pets|throws)\\s(apples|cats|baseballs)\\.',re.IGNORECASE)\n",
    "result = question_22.findall('Alice eats apples.')\n",
    "print(result)\n",
    "result_2 = question_22.findall('RoboCop eats apples.')\n",
    "print('Result_2 has ',len(result_2),' elements')"
   ]
  }
 ],
 "metadata": {
  "kernelspec": {
   "display_name": "Python 3",
   "language": "python",
   "name": "python3"
  },
  "language_info": {
   "codemirror_mode": {
    "name": "ipython",
    "version": 3
   },
   "file_extension": ".py",
   "mimetype": "text/x-python",
   "name": "python",
   "nbconvert_exporter": "python",
   "pygments_lexer": "ipython3",
   "version": "3.8.5"
  }
 },
 "nbformat": 4,
 "nbformat_minor": 4
}
