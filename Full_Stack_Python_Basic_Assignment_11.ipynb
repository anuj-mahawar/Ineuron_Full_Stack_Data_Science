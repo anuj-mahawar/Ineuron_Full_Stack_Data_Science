{
 "cells": [
  {
   "cell_type": "markdown",
   "metadata": {},
   "source": [
    "## 1. Create an assert statement that throws an AssertionError if the variable spam is a negative integer."
   ]
  },
  {
   "cell_type": "markdown",
   "metadata": {},
   "source": [
    "#### “I assert that the condition holds true, and if not, there is a bug somewhere, so immediately stop the program.”"
   ]
  },
  {
   "cell_type": "markdown",
   "metadata": {},
   "source": [
    "##### Unlike exceptions, the code should not handle assert statements with try and except; if an assert fails, the program should crash"
   ]
  },
  {
   "cell_type": "code",
   "execution_count": 2,
   "metadata": {},
   "outputs": [
    {
     "name": "stdout",
     "output_type": "stream",
     "text": [
      "Enter an integer: -2\n"
     ]
    },
    {
     "ename": "AssertionError",
     "evalue": "",
     "output_type": "error",
     "traceback": [
      "\u001b[1;31m---------------------------------------------------------------------------\u001b[0m",
      "\u001b[1;31mAssertionError\u001b[0m                            Traceback (most recent call last)",
      "\u001b[1;32m<ipython-input-2-60bcfac0af49>\u001b[0m in \u001b[0;36m<module>\u001b[1;34m\u001b[0m\n\u001b[0;32m      1\u001b[0m \u001b[0mspam\u001b[0m \u001b[1;33m=\u001b[0m \u001b[0mint\u001b[0m\u001b[1;33m(\u001b[0m\u001b[0minput\u001b[0m\u001b[1;33m(\u001b[0m\u001b[1;34m\"Enter an integer: \"\u001b[0m\u001b[1;33m)\u001b[0m\u001b[1;33m)\u001b[0m\u001b[1;33m\u001b[0m\u001b[1;33m\u001b[0m\u001b[0m\n\u001b[1;32m----> 2\u001b[1;33m \u001b[1;32massert\u001b[0m  \u001b[0mspam\u001b[0m \u001b[1;33m>=\u001b[0m \u001b[1;36m0\u001b[0m\u001b[1;33m\u001b[0m\u001b[1;33m\u001b[0m\u001b[0m\n\u001b[0m",
      "\u001b[1;31mAssertionError\u001b[0m: "
     ]
    }
   ],
   "source": [
    "spam = int(input(\"Enter an integer: \"))\n",
    "assert  spam >= 0"
   ]
  },
  {
   "cell_type": "markdown",
   "metadata": {},
   "source": [
    "## 2. Write an assert statement that triggers an AssertionError if the variables eggs and bacon contain strings that are the same as each other, even if their cases are different (that is, 'hello' and 'hello' are considered the same, and 'goodbye' and 'GOODbye' are also considered the same)."
   ]
  },
  {
   "cell_type": "code",
   "execution_count": 8,
   "metadata": {},
   "outputs": [
    {
     "name": "stdout",
     "output_type": "stream",
     "text": [
      "Enter a String: hello\n",
      "Enter a String: Hello\n",
      "hello\n",
      "hello\n"
     ]
    },
    {
     "ename": "AssertionError",
     "evalue": "",
     "output_type": "error",
     "traceback": [
      "\u001b[1;31m---------------------------------------------------------------------------\u001b[0m",
      "\u001b[1;31mAssertionError\u001b[0m                            Traceback (most recent call last)",
      "\u001b[1;32m<ipython-input-8-5e088fde5914>\u001b[0m in \u001b[0;36m<module>\u001b[1;34m\u001b[0m\n\u001b[0;32m      3\u001b[0m \u001b[0mprint\u001b[0m\u001b[1;33m(\u001b[0m\u001b[0meggs\u001b[0m\u001b[1;33m)\u001b[0m\u001b[1;33m\u001b[0m\u001b[1;33m\u001b[0m\u001b[0m\n\u001b[0;32m      4\u001b[0m \u001b[0mprint\u001b[0m\u001b[1;33m(\u001b[0m\u001b[0mbacon\u001b[0m\u001b[1;33m)\u001b[0m\u001b[1;33m\u001b[0m\u001b[1;33m\u001b[0m\u001b[0m\n\u001b[1;32m----> 5\u001b[1;33m \u001b[1;32massert\u001b[0m \u001b[0meggs\u001b[0m \u001b[1;33m!=\u001b[0m \u001b[0mbacon\u001b[0m\u001b[1;33m\u001b[0m\u001b[1;33m\u001b[0m\u001b[0m\n\u001b[0m",
      "\u001b[1;31mAssertionError\u001b[0m: "
     ]
    }
   ],
   "source": [
    "eggs = input(\"Enter a String: \").lower()\n",
    "bacon = input(\"Enter a String: \").lower()\n",
    "#print(eggs)\n",
    "#print(bacon)\n",
    "assert eggs != bacon"
   ]
  },
  {
   "cell_type": "markdown",
   "metadata": {},
   "source": [
    "## 3. Create an assert statement that throws an AssertionError every time."
   ]
  },
  {
   "cell_type": "code",
   "execution_count": 10,
   "metadata": {},
   "outputs": [
    {
     "ename": "AssertionError",
     "evalue": "",
     "output_type": "error",
     "traceback": [
      "\u001b[1;31m---------------------------------------------------------------------------\u001b[0m",
      "\u001b[1;31mAssertionError\u001b[0m                            Traceback (most recent call last)",
      "\u001b[1;32m<ipython-input-10-8412fa63ad78>\u001b[0m in \u001b[0;36m<module>\u001b[1;34m\u001b[0m\n\u001b[0;32m      1\u001b[0m \u001b[1;31m## Assert will always Fail\u001b[0m\u001b[1;33m\u001b[0m\u001b[1;33m\u001b[0m\u001b[1;33m\u001b[0m\u001b[0m\n\u001b[1;32m----> 2\u001b[1;33m \u001b[1;32massert\u001b[0m \u001b[1;32mFalse\u001b[0m\u001b[1;33m\u001b[0m\u001b[1;33m\u001b[0m\u001b[0m\n\u001b[0m",
      "\u001b[1;31mAssertionError\u001b[0m: "
     ]
    }
   ],
   "source": [
    "## Assert will always Fail\n",
    "assert False"
   ]
  },
  {
   "cell_type": "markdown",
   "metadata": {},
   "source": [
    "## 4. What are the two lines that must be present in your software in order to call logging.debug()?"
   ]
  },
  {
   "cell_type": "markdown",
   "metadata": {},
   "source": [
    "- import logging\n",
    "- logging.basicConfig(filename='Quesion11.txt',level=logging.DEBUG, format= '%(asctime)s -  %(levelname)s-  %(message)s')\n"
   ]
  },
  {
   "cell_type": "code",
   "execution_count": 1,
   "metadata": {},
   "outputs": [],
   "source": [
    "import logging\n",
    "logging.basicConfig(filename='Log_for_Quesion11.txt',level=logging.DEBUG, format= '%(asctime)s -  %(levelname)s-  %(message)s')\n",
    "logging.debug (\"Start of the Program\")\n",
    "for i in range(0,11):\n",
    "    logging.debug('i is' +str(i))\n",
    "logging.debug(\"End of the Program\")"
   ]
  },
  {
   "cell_type": "markdown",
   "metadata": {},
   "source": [
    "###### Reading the log files"
   ]
  },
  {
   "cell_type": "code",
   "execution_count": 2,
   "metadata": {},
   "outputs": [
    {
     "name": "stdout",
     "output_type": "stream",
     "text": [
      "2021-04-15 23:01:29,972 -  DEBUG-  Start of the Program\n",
      "2021-04-15 23:01:29,973 -  DEBUG-  i is0\n",
      "2021-04-15 23:01:29,973 -  DEBUG-  i is1\n",
      "2021-04-15 23:01:29,973 -  DEBUG-  i is2\n",
      "2021-04-15 23:01:29,974 -  DEBUG-  i is3\n",
      "2021-04-15 23:01:29,974 -  DEBUG-  i is4\n",
      "2021-04-15 23:01:29,974 -  DEBUG-  i is5\n",
      "2021-04-15 23:01:29,974 -  DEBUG-  i is6\n",
      "2021-04-15 23:01:29,975 -  DEBUG-  i is7\n",
      "2021-04-15 23:01:29,975 -  DEBUG-  i is8\n",
      "2021-04-15 23:01:29,975 -  DEBUG-  i is9\n",
      "2021-04-15 23:01:29,976 -  DEBUG-  i is10\n",
      "2021-04-15 23:01:29,976 -  DEBUG-  End of the Program\n"
     ]
    }
   ],
   "source": [
    "with open(\"Log_for_Quesion11.txt\",'r') as f:\n",
    "    for line in f.readlines():\n",
    "        print(line,end='')\n",
    "f.close()"
   ]
  },
  {
   "cell_type": "markdown",
   "metadata": {},
   "source": [
    "## 5. What are the two lines that your program must have in order to have logging.debug() send a logging message to a file named programLog.txt?"
   ]
  },
  {
   "cell_type": "code",
   "execution_count": 1,
   "metadata": {},
   "outputs": [],
   "source": [
    "import logging\n",
    "logging.basicConfig(filename='programLog.txt',level=logging.DEBUG, format= '%(asctime)s -  %(levelname)s-  %(message)s')\n",
    "logging.debug (\"Start of the Program\")\n",
    "logging.debug (\"End of the Program\")\n"
   ]
  },
  {
   "cell_type": "code",
   "execution_count": 2,
   "metadata": {},
   "outputs": [
    {
     "name": "stdout",
     "output_type": "stream",
     "text": [
      "2021-04-15 23:05:14,021 -  DEBUG-  Start of the Program\n",
      "2021-04-15 23:05:14,022 -  DEBUG-  End of the Program\n"
     ]
    }
   ],
   "source": [
    "with open(\"programLog.txt\",'r') as f:\n",
    "    for line in f.readlines():\n",
    "        print(line,end='')\n",
    "f.close()"
   ]
  },
  {
   "cell_type": "markdown",
   "metadata": {},
   "source": [
    "## 6. What are the five levels of logging?"
   ]
  },
  {
   "cell_type": "markdown",
   "metadata": {},
   "source": [
    "`1. DEBUG - logging.debug()` - **The Lowest Level, Used for capturing small details**  \n",
    "`2. INFO - logging.info()` - **Used to record information on general events**  \n",
    "`3. WARNING - logging.warning()` - **Used to indicate a potential problem that doesn’t prevent the program from working but might do so in the future.**  \n",
    "`4. ERROR - logging.error()` - **Used to record an error due to which the program is failing**  \n",
    "`5. CRITICAL - logging.critical()` - **The highest level. Used to indicate a fatal error that has caused or is about to cause the program to stop running entirely.**  "
   ]
  },
  {
   "cell_type": "code",
   "execution_count": 1,
   "metadata": {},
   "outputs": [],
   "source": [
    "import logging\n",
    "logging.basicConfig(filename='Log_for_Quesion6.txt',level=logging.DEBUG, format= '%(asctime)s -  %(levelname)s-  %(message)s')\n",
    "logging.debug (\"This is debug Level\")\n",
    "logging.info(\"This is info level\")\n",
    "logging.warning('This is Warning Level')\n",
    "logging.error('This is Error Level')\n",
    "logging.critical('This is Critical Level')"
   ]
  },
  {
   "cell_type": "code",
   "execution_count": 1,
   "metadata": {},
   "outputs": [
    {
     "name": "stdout",
     "output_type": "stream",
     "text": [
      "2021-04-15 23:15:47,002 -  DEBUG-  This is debug Level\n",
      "2021-04-15 23:15:47,002 -  INFO-  This is info level\n",
      "2021-04-15 23:15:47,002 -  WARNING-  This is Warning Level\n",
      "2021-04-15 23:15:47,003 -  ERROR-  This is Error Level\n",
      "2021-04-15 23:15:47,003 -  CRITICAL-  This is Critical Level\n"
     ]
    }
   ],
   "source": [
    "with open(\"Log_for_Quesion6.txt\",'r') as f:\n",
    "    for line in f.readlines():\n",
    "        print(line,end='')\n",
    "f.close()"
   ]
  },
  {
   "cell_type": "markdown",
   "metadata": {},
   "source": [
    "## 7. What line of code would you add to your software to disable all logging messages?"
   ]
  },
  {
   "cell_type": "markdown",
   "metadata": {},
   "source": [
    "**logging.disable(logging.CRITICAL)** - `will suppress all log messages at that level or lower`"
   ]
  },
  {
   "cell_type": "code",
   "execution_count": 1,
   "metadata": {},
   "outputs": [],
   "source": [
    "import logging\n",
    "logging.basicConfig(filename='Log_for_Quesion7.txt',level=logging.DEBUG, format= '%(asctime)s -  %(levelname)s-  %(message)s')\n",
    "logging.disable(logging.CRITICAL) \n",
    "logging.debug (\"This is debug Level\")\n",
    "logging.error('This is Error Level')\n",
    "logging.critical('This is Critical Level')"
   ]
  },
  {
   "cell_type": "code",
   "execution_count": 2,
   "metadata": {},
   "outputs": [],
   "source": [
    "with open(\"Log_for_Quesion7.txt\",'r') as f:\n",
    "    for line in f.readlines():\n",
    "        print(line,end='')\n",
    "f.close()"
   ]
  },
  {
   "cell_type": "markdown",
   "metadata": {},
   "source": [
    "##### As we supressed all the log messages Log_for_Quesion7 txt file don't have any text to read from."
   ]
  },
  {
   "cell_type": "markdown",
   "metadata": {},
   "source": [
    "## 8.Why is using logging messages better than using print() to display the same message?"
   ]
  },
  {
   "cell_type": "markdown",
   "metadata": {},
   "source": [
    "- Logging provides timestamp\n",
    "- Disabling Logging is easy\n",
    "- Can create Logging Messages"
   ]
  },
  {
   "cell_type": "markdown",
   "metadata": {},
   "source": [
    "## 9. What are the differences between the Step Over, Step In, and Step Out buttons in the debugger?"
   ]
  },
  {
   "cell_type": "markdown",
   "metadata": {},
   "source": [
    "`Step In` - **will cause the debugger to execute the next line of code and then pause again**  \n",
    "`Step Over` - **Step Over button will execute the next line of code**  \n",
    "`Step Out` - **will cause the debugger to execute lines of code**  "
   ]
  },
  {
   "cell_type": "markdown",
   "metadata": {},
   "source": [
    "## 10.After you click Continue, when will the debugger stop ?"
   ]
  },
  {
   "cell_type": "markdown",
   "metadata": {},
   "source": [
    "- Until it terminates or reaches a breakpoint, the debugger will keep on executing the program normally"
   ]
  },
  {
   "cell_type": "markdown",
   "metadata": {},
   "source": [
    "## 11. What is the concept of a breakpoint?"
   ]
  },
  {
   "cell_type": "markdown",
   "metadata": {},
   "source": [
    "- Breakpoint forces the debugger to pause whenever the program execution reaches that line"
   ]
  },
  {
   "cell_type": "code",
   "execution_count": null,
   "metadata": {},
   "outputs": [],
   "source": []
  }
 ],
 "metadata": {
  "kernelspec": {
   "display_name": "Python 3",
   "language": "python",
   "name": "python3"
  },
  "language_info": {
   "codemirror_mode": {
    "name": "ipython",
    "version": 3
   },
   "file_extension": ".py",
   "mimetype": "text/x-python",
   "name": "python",
   "nbconvert_exporter": "python",
   "pygments_lexer": "ipython3",
   "version": "3.8.5"
  }
 },
 "nbformat": 4,
 "nbformat_minor": 4
}
