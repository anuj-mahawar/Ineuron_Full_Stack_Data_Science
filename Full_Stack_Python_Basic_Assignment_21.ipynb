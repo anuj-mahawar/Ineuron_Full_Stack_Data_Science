{
 "cells": [
  {
   "cell_type": "markdown",
   "metadata": {},
   "source": [
    "## 1. Add the current date to the text file today.txt as a string."
   ]
  },
  {
   "cell_type": "code",
   "execution_count": 18,
   "metadata": {},
   "outputs": [],
   "source": [
    "import datetime "
   ]
  },
  {
   "cell_type": "code",
   "execution_count": 24,
   "metadata": {},
   "outputs": [],
   "source": [
    "with open('today.txt','w+') as f:\n",
    "    f.write(str(datetime.date.today()))"
   ]
  },
  {
   "cell_type": "code",
   "execution_count": 26,
   "metadata": {},
   "outputs": [
    {
     "name": "stdout",
     "output_type": "stream",
     "text": [
      "2021-06-06\n"
     ]
    }
   ],
   "source": [
    "with open('today.txt','r+') as f:\n",
    "    for line in f.readlines():\n",
    "        print(line)"
   ]
  },
  {
   "cell_type": "markdown",
   "metadata": {},
   "source": [
    "## 2. Read the text file today.txt into the string today_string"
   ]
  },
  {
   "cell_type": "code",
   "execution_count": 27,
   "metadata": {},
   "outputs": [
    {
     "name": "stdout",
     "output_type": "stream",
     "text": [
      "Today's Date:  2021-06-06\n"
     ]
    }
   ],
   "source": [
    "with open('today.txt','r+') as f:\n",
    "    for today_string in f.readlines():\n",
    "        print(\"Today's Date: \",today_string)"
   ]
  },
  {
   "cell_type": "markdown",
   "metadata": {},
   "source": [
    "## 3. Parse the date from today_string."
   ]
  },
  {
   "cell_type": "code",
   "execution_count": 30,
   "metadata": {},
   "outputs": [],
   "source": [
    "import pandas as pd"
   ]
  },
  {
   "cell_type": "code",
   "execution_count": 31,
   "metadata": {},
   "outputs": [
    {
     "name": "stdout",
     "output_type": "stream",
     "text": [
      "Today's Date:  2021-06-06 00:00:00\n"
     ]
    }
   ],
   "source": [
    "with open('today.txt','r+') as f:\n",
    "    for today_string in f.readlines():\n",
    "        print(\"Today's Date: \",pd.to_datetime(today_string))"
   ]
  },
  {
   "cell_type": "markdown",
   "metadata": {},
   "source": [
    "## 4. List the files in your current directory"
   ]
  },
  {
   "cell_type": "code",
   "execution_count": 52,
   "metadata": {},
   "outputs": [
    {
     "name": "stdout",
     "output_type": "stream",
     "text": [
      "C:\\Users\\anuj_mahawar\\Desktop\\Python_Dirty_Hands\\Ineuron\\Solutions\\Full_Stack\\Python_Basic\n",
      "['.ipynb_checkpoints', '__pycache__']\n",
      "['Full_Stack_Python_Basic_Assignment_1.ipynb', 'Full_Stack_Python_Basic_Assignment_10.ipynb', 'Full_Stack_Python_Basic_Assignment_11.ipynb', 'Full_Stack_Python_Basic_Assignment_15.ipynb', 'Full_Stack_Python_Basic_Assignment_16.ipynb', 'Full_Stack_Python_Basic_Assignment_17.ipynb', 'Full_Stack_Python_Basic_Assignment_18.ipynb', 'Full_Stack_Python_Basic_Assignment_19.ipynb', 'Full_Stack_Python_Basic_Assignment_2.ipynb', 'Full_Stack_Python_Basic_Assignment_21.ipynb', 'Full_Stack_Python_Basic_Assignment_22.ipynb', 'Full_Stack_Python_Basic_Assignment_23.ipynb', 'Full_Stack_Python_Basic_Assignment_24.ipynb', 'Full_Stack_Python_Basic_Assignment_25.ipynb', 'Full_Stack_Python_Basic_Assignment_3.ipynb', 'Full_Stack_Python_Basic_Assignment_4.ipynb', 'Full_Stack_Python_Basic_Assignment_5.ipynb', 'Full_Stack_Python_Basic_Assignment_6.ipynb', 'Full_Stack_Python_Basic_Assignment_7.ipynb', 'Full_Stack_Python_Basic_Assignment_8.ipynb', 'Full_Stack_Python_Basic_Assignment_9.ipynb', 'hello.txt', 'Log_for_Quesion11.txt', 'Log_for_Quesion6.txt', 'Log_for_Quesion7.txt', 'programLog.txt', 'Quesion11.txt', 'today.txt', 'zoo.py']\n",
      "C:\\Users\\anuj_mahawar\\Desktop\\Python_Dirty_Hands\\Ineuron\\Solutions\\Full_Stack\\Python_Basic\\.ipynb_checkpoints\n",
      "[]\n",
      "['Full_Stack_Python_Basic_Assignment_1-checkpoint.ipynb', 'Full_Stack_Python_Basic_Assignment_10-checkpoint.ipynb', 'Full_Stack_Python_Basic_Assignment_11-checkpoint.ipynb', 'Full_Stack_Python_Basic_Assignment_15-checkpoint.ipynb', 'Full_Stack_Python_Basic_Assignment_16-checkpoint.ipynb', 'Full_Stack_Python_Basic_Assignment_17-checkpoint.ipynb', 'Full_Stack_Python_Basic_Assignment_18-checkpoint.ipynb', 'Full_Stack_Python_Basic_Assignment_19-checkpoint.ipynb', 'Full_Stack_Python_Basic_Assignment_2-checkpoint.ipynb', 'Full_Stack_Python_Basic_Assignment_21-checkpoint.ipynb', 'Full_Stack_Python_Basic_Assignment_22-checkpoint.ipynb', 'Full_Stack_Python_Basic_Assignment_23-checkpoint.ipynb', 'Full_Stack_Python_Basic_Assignment_24-checkpoint.ipynb', 'Full_Stack_Python_Basic_Assignment_25-checkpoint.ipynb', 'Full_Stack_Python_Basic_Assignment_3-checkpoint.ipynb', 'Full_Stack_Python_Basic_Assignment_4-checkpoint.ipynb', 'Full_Stack_Python_Basic_Assignment_5-checkpoint.ipynb', 'Full_Stack_Python_Basic_Assignment_6-checkpoint.ipynb', 'Full_Stack_Python_Basic_Assignment_7-checkpoint.ipynb', 'Full_Stack_Python_Basic_Assignment_8-checkpoint.ipynb']\n",
      "C:\\Users\\anuj_mahawar\\Desktop\\Python_Dirty_Hands\\Ineuron\\Solutions\\Full_Stack\\Python_Basic\\__pycache__\n",
      "[]\n",
      "['zoo.cpython-38.pyc']\n"
     ]
    }
   ],
   "source": [
    "import os\n",
    "for files in os.walk(os.getcwd()):\n",
    "    #print(type(files))\n",
    "    for i in files:\n",
    "        #print(type(i))\n",
    "        print(i)"
   ]
  },
  {
   "cell_type": "markdown",
   "metadata": {},
   "source": [
    "## 5. Create a list of all of the files in your parent directory (minimum five files should be available)."
   ]
  },
  {
   "cell_type": "code",
   "execution_count": 55,
   "metadata": {},
   "outputs": [
    {
     "name": "stdout",
     "output_type": "stream",
     "text": [
      "Root:  C:\\Users\\anuj_mahawar\\Desktop\\Python_Dirty_Hands\\Ineuron\\Solutions\\Full_Stack\n",
      "Dirs:  ['Python Programming Basic', 'Python_Basic']\n",
      "Files:  []\n",
      "Root:  C:\\Users\\anuj_mahawar\\Desktop\\Python_Dirty_Hands\\Ineuron\\Solutions\\Full_Stack\\Python Programming Basic\n",
      "Dirs:  ['.ipynb_checkpoints']\n",
      "Files:  ['Programming_Assingment1.ipynb', 'Programming_Assingment10.ipynb', 'Programming_Assingment11.ipynb', 'Programming_Assingment2.ipynb', 'Programming_Assingment3.ipynb', 'Programming_Assingment4.ipynb', 'Programming_Assingment5.ipynb', 'Programming_Assingment6.ipynb', 'Programming_Assingment7.ipynb', 'Programming_Assingment8.ipynb', 'Programming_Assingment9.ipynb']\n",
      "Root:  C:\\Users\\anuj_mahawar\\Desktop\\Python_Dirty_Hands\\Ineuron\\Solutions\\Full_Stack\\Python Programming Basic\\.ipynb_checkpoints\n",
      "Dirs:  []\n",
      "Files:  ['Programming_Assingment1-checkpoint.ipynb', 'Programming_Assingment10-checkpoint.ipynb', 'Programming_Assingment11-checkpoint.ipynb', 'Programming_Assingment2-checkpoint.ipynb', 'Programming_Assingment3-checkpoint.ipynb', 'Programming_Assingment4-checkpoint.ipynb', 'Programming_Assingment5-checkpoint.ipynb', 'Programming_Assingment6-checkpoint.ipynb', 'Programming_Assingment7-checkpoint.ipynb', 'Programming_Assingment8-checkpoint.ipynb', 'Programming_Assingment9-checkpoint.ipynb']\n",
      "Root:  C:\\Users\\anuj_mahawar\\Desktop\\Python_Dirty_Hands\\Ineuron\\Solutions\\Full_Stack\\Python_Basic\n",
      "Dirs:  ['.ipynb_checkpoints', '__pycache__']\n",
      "Files:  ['Full_Stack_Python_Basic_Assignment_1.ipynb', 'Full_Stack_Python_Basic_Assignment_10.ipynb', 'Full_Stack_Python_Basic_Assignment_11.ipynb', 'Full_Stack_Python_Basic_Assignment_15.ipynb', 'Full_Stack_Python_Basic_Assignment_16.ipynb', 'Full_Stack_Python_Basic_Assignment_17.ipynb', 'Full_Stack_Python_Basic_Assignment_18.ipynb', 'Full_Stack_Python_Basic_Assignment_19.ipynb', 'Full_Stack_Python_Basic_Assignment_2.ipynb', 'Full_Stack_Python_Basic_Assignment_21.ipynb', 'Full_Stack_Python_Basic_Assignment_22.ipynb', 'Full_Stack_Python_Basic_Assignment_23.ipynb', 'Full_Stack_Python_Basic_Assignment_24.ipynb', 'Full_Stack_Python_Basic_Assignment_25.ipynb', 'Full_Stack_Python_Basic_Assignment_3.ipynb', 'Full_Stack_Python_Basic_Assignment_4.ipynb', 'Full_Stack_Python_Basic_Assignment_5.ipynb', 'Full_Stack_Python_Basic_Assignment_6.ipynb', 'Full_Stack_Python_Basic_Assignment_7.ipynb', 'Full_Stack_Python_Basic_Assignment_8.ipynb', 'Full_Stack_Python_Basic_Assignment_9.ipynb', 'hello.txt', 'Log_for_Quesion11.txt', 'Log_for_Quesion6.txt', 'Log_for_Quesion7.txt', 'programLog.txt', 'Quesion11.txt', 'today.txt', 'zoo.py']\n",
      "Root:  C:\\Users\\anuj_mahawar\\Desktop\\Python_Dirty_Hands\\Ineuron\\Solutions\\Full_Stack\\Python_Basic\\.ipynb_checkpoints\n",
      "Dirs:  []\n",
      "Files:  ['Full_Stack_Python_Basic_Assignment_1-checkpoint.ipynb', 'Full_Stack_Python_Basic_Assignment_10-checkpoint.ipynb', 'Full_Stack_Python_Basic_Assignment_11-checkpoint.ipynb', 'Full_Stack_Python_Basic_Assignment_15-checkpoint.ipynb', 'Full_Stack_Python_Basic_Assignment_16-checkpoint.ipynb', 'Full_Stack_Python_Basic_Assignment_17-checkpoint.ipynb', 'Full_Stack_Python_Basic_Assignment_18-checkpoint.ipynb', 'Full_Stack_Python_Basic_Assignment_19-checkpoint.ipynb', 'Full_Stack_Python_Basic_Assignment_2-checkpoint.ipynb', 'Full_Stack_Python_Basic_Assignment_21-checkpoint.ipynb', 'Full_Stack_Python_Basic_Assignment_22-checkpoint.ipynb', 'Full_Stack_Python_Basic_Assignment_23-checkpoint.ipynb', 'Full_Stack_Python_Basic_Assignment_24-checkpoint.ipynb', 'Full_Stack_Python_Basic_Assignment_25-checkpoint.ipynb', 'Full_Stack_Python_Basic_Assignment_3-checkpoint.ipynb', 'Full_Stack_Python_Basic_Assignment_4-checkpoint.ipynb', 'Full_Stack_Python_Basic_Assignment_5-checkpoint.ipynb', 'Full_Stack_Python_Basic_Assignment_6-checkpoint.ipynb', 'Full_Stack_Python_Basic_Assignment_7-checkpoint.ipynb', 'Full_Stack_Python_Basic_Assignment_8-checkpoint.ipynb']\n",
      "Root:  C:\\Users\\anuj_mahawar\\Desktop\\Python_Dirty_Hands\\Ineuron\\Solutions\\Full_Stack\\Python_Basic\\__pycache__\n",
      "Dirs:  []\n",
      "Files:  ['zoo.cpython-38.pyc']\n"
     ]
    }
   ],
   "source": [
    "from pathlib import Path\n",
    "path = Path(os.getcwd())\n",
    "##print(path.parent.absolute())\n",
    "for root,dirs,files in os.walk(path.parent.absolute()):\n",
    "    print(\"Root: \",root)\n",
    "    print(\"Dirs: \",dirs)\n",
    "    print(\"Files: \",files)"
   ]
  },
  {
   "cell_type": "markdown",
   "metadata": {},
   "source": [
    "## 6. Use multiprocessing to create three separate processes. Make each one wait a random number of seconds between one and five, print the current time, and then exit."
   ]
  },
  {
   "cell_type": "code",
   "execution_count": 72,
   "metadata": {},
   "outputs": [
    {
     "name": "stdout",
     "output_type": "stream",
     "text": [
      "Start\n",
      "Object3\n",
      "19:43:04.403960\n",
      "Object2\n",
      "19:43:05.410570\n",
      "Object1\n",
      "19:43:07.404919\n"
     ]
    }
   ],
   "source": [
    "import threading,time\n",
    "print('Start')\n",
    "def Object1():\n",
    "    time.sleep(5)\n",
    "    print(\"Object1\")\n",
    "    print(datetime.datetime.now().time())\n",
    "    \n",
    "def Object2():\n",
    "    time.sleep(3)\n",
    "    print(\"Object2\")\n",
    "    print(datetime.datetime.now().time())\n",
    "\n",
    "def Object3():\n",
    "    time.sleep(2)\n",
    "    print(\"Object3\")\n",
    "    print(datetime.datetime.now().time())\n",
    "\n",
    "threadObj1 = threading.Thread(target=Object1)\n",
    "threadObj1.start()\n",
    "threadObj2 = threading.Thread(target=Object2)\n",
    "threadObj2.start()\n",
    "threadObj3 = threading.Thread(target=Object3)\n",
    "threadObj3.start()"
   ]
  },
  {
   "cell_type": "markdown",
   "metadata": {},
   "source": [
    "## 7. Create a date object of your day of birth."
   ]
  },
  {
   "cell_type": "code",
   "execution_count": 76,
   "metadata": {},
   "outputs": [
    {
     "name": "stdout",
     "output_type": "stream",
     "text": [
      "1989-12-24\n"
     ]
    }
   ],
   "source": [
    "from datetime import date\n",
    "my_dob = date(1989,12,24)\n",
    "print(my_dob)"
   ]
  },
  {
   "cell_type": "markdown",
   "metadata": {},
   "source": [
    "## 8. What day of the week was your day of birth?"
   ]
  },
  {
   "cell_type": "code",
   "execution_count": 77,
   "metadata": {},
   "outputs": [
    {
     "data": {
      "text/plain": [
       "7"
      ]
     },
     "execution_count": 77,
     "metadata": {},
     "output_type": "execute_result"
    }
   ],
   "source": [
    "my_dob.isoweekday()\n",
    "## Monday = 1....Sunday = 7"
   ]
  },
  {
   "cell_type": "markdown",
   "metadata": {},
   "source": [
    "## 9. When will you be (or when were you) 10,000 days old?"
   ]
  },
  {
   "cell_type": "code",
   "execution_count": 84,
   "metadata": {},
   "outputs": [
    {
     "name": "stdout",
     "output_type": "stream",
     "text": [
      "I will be 10000 days old on:  2048-10-22\n"
     ]
    }
   ],
   "source": [
    "required_days = datetime.date.today() + datetime.timedelta(days=10000)\n",
    "print(\"I will be 10000 days old on: \",required_days)"
   ]
  }
 ],
 "metadata": {
  "kernelspec": {
   "display_name": "Python 3",
   "language": "python",
   "name": "python3"
  },
  "language_info": {
   "codemirror_mode": {
    "name": "ipython",
    "version": 3
   },
   "file_extension": ".py",
   "mimetype": "text/x-python",
   "name": "python",
   "nbconvert_exporter": "python",
   "pygments_lexer": "ipython3",
   "version": "3.8.5"
  }
 },
 "nbformat": 4,
 "nbformat_minor": 4
}
