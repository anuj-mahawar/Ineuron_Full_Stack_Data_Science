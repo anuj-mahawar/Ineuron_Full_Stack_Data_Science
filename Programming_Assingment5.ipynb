{
 "cells": [
  {
   "cell_type": "markdown",
   "metadata": {},
   "source": [
    "## 1.\tWrite a Python Program to Find LCM?"
   ]
  },
  {
   "cell_type": "code",
   "execution_count": 1,
   "metadata": {},
   "outputs": [],
   "source": [
    "def findlcm(a,b):\n",
    "    \n",
    "    if a > b:\n",
    "        max = a\n",
    "    else:\n",
    "        max = b\n",
    "    while (True):\n",
    "        if (max % a == 0 and max % b == 0):\n",
    "            lcm = max\n",
    "            break;\n",
    "        max = max +1\n",
    "    return  lcm"
   ]
  },
  {
   "cell_type": "code",
   "execution_count": 3,
   "metadata": {},
   "outputs": [
    {
     "name": "stdout",
     "output_type": "stream",
     "text": [
      "Enter First Number: 3\n",
      "Enter Second Number: 8\n",
      "LCM of 3 and 8 is :24\n"
     ]
    }
   ],
   "source": [
    "int_1 = int(input('Enter First Number: '))\n",
    "int_2 = int(input('Enter Second Number: '))\n",
    "print(f'LCM of {int_1} and {int_2} is :{findlcm(int_1,int_2)}')"
   ]
  },
  {
   "cell_type": "markdown",
   "metadata": {},
   "source": [
    "## 2.\tWrite a Python Program to Find HCF?"
   ]
  },
  {
   "cell_type": "code",
   "execution_count": 14,
   "metadata": {},
   "outputs": [],
   "source": [
    "def findhcf(a,b):\n",
    "    \n",
    "    if a > b:\n",
    "        min = b\n",
    "    else:\n",
    "        min = a\n",
    "    for i in range(1,min+1):\n",
    "        if (a % i == 0 and b % i == 0):\n",
    "            hcf = i\n",
    "    return  hcf"
   ]
  },
  {
   "cell_type": "code",
   "execution_count": 15,
   "metadata": {},
   "outputs": [
    {
     "name": "stdout",
     "output_type": "stream",
     "text": [
      "Enter First Number: 60\n",
      "Enter Second Number: 48\n",
      "HCF of 60 and 48 is :12\n"
     ]
    }
   ],
   "source": [
    "int_1 = int(input('Enter First Number: '))\n",
    "int_2 = int(input('Enter Second Number: '))\n",
    "print(f'HCF of {int_1} and {int_2} is :{findhcf(int_1,int_2)}')"
   ]
  },
  {
   "cell_type": "markdown",
   "metadata": {},
   "source": [
    "## 3.\tWrite a Python Program to Convert Decimal to Binary, Octal and Hexadecimal?"
   ]
  },
  {
   "cell_type": "code",
   "execution_count": 16,
   "metadata": {},
   "outputs": [
    {
     "name": "stdout",
     "output_type": "stream",
     "text": [
      "Enter Any Number: 60\n",
      "In Decimal value: 60\n",
      "In Binary value: 0b111100\n",
      "In Decimal value: 0o74\n",
      "In Decimal value: 0x3c\n"
     ]
    }
   ],
   "source": [
    "int_1 = int(input('Enter Any Number: '))\n",
    "print(f'In Decimal value: {int_1}')\n",
    "print(f'In Binary value: {bin(int_1)}')\n",
    "print(f'In Decimal value: {oct(int_1)}')\n",
    "print(f'In Decimal value: {hex(int_1)}')"
   ]
  },
  {
   "cell_type": "markdown",
   "metadata": {},
   "source": [
    "## 4.\tWrite a Python Program To Find ASCII value of a character?"
   ]
  },
  {
   "cell_type": "code",
   "execution_count": 18,
   "metadata": {},
   "outputs": [
    {
     "name": "stdout",
     "output_type": "stream",
     "text": [
      "Enter Any Character: A\n",
      "ASCII vaue of A is 65\n"
     ]
    }
   ],
   "source": [
    "x = str(input('Enter Any Character: '))\n",
    "print(f'ASCII vaue of {x} is {ord(x)}')"
   ]
  },
  {
   "cell_type": "markdown",
   "metadata": {},
   "source": [
    "## 5.\tWrite a Python Program to Make a Simple Calculator with 4 basic mathematical operations?"
   ]
  },
  {
   "cell_type": "code",
   "execution_count": 25,
   "metadata": {},
   "outputs": [],
   "source": [
    "def calculator(a,b,operation):\n",
    "    if operation == '+':\n",
    "        return a+b\n",
    "    elif operation == '-':\n",
    "        return a-b\n",
    "    elif operation == '*':\n",
    "        return a*b\n",
    "    elif operation == '/':\n",
    "        return a/b\n",
    "    else:\n",
    "        return \"Invalid Operator\""
   ]
  },
  {
   "cell_type": "code",
   "execution_count": 28,
   "metadata": {},
   "outputs": [
    {
     "name": "stdout",
     "output_type": "stream",
     "text": [
      "Enter First Number: 5\n",
      "Enter Second Number: 6\n",
      "Enter Operator: *\n",
      "5 * 6 = 30\n"
     ]
    }
   ],
   "source": [
    "num1 = int(input(\"Enter First Number: \"))\n",
    "num2 = int(input(\"Enter Second Number: \"))\n",
    "operator = str(input('Enter Operator: '))\n",
    "\n",
    "print(f'{num1} {operator} {num2} = {calculator(num1,num2,operator)}')"
   ]
  }
 ],
 "metadata": {
  "kernelspec": {
   "display_name": "Python 3",
   "language": "python",
   "name": "python3"
  },
  "language_info": {
   "codemirror_mode": {
    "name": "ipython",
    "version": 3
   },
   "file_extension": ".py",
   "mimetype": "text/x-python",
   "name": "python",
   "nbconvert_exporter": "python",
   "pygments_lexer": "ipython3",
   "version": "3.8.5"
  }
 },
 "nbformat": 4,
 "nbformat_minor": 4
}
