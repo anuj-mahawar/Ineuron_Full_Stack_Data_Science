{
 "cells": [
  {
   "cell_type": "markdown",
   "metadata": {},
   "source": [
    "## 1.\tWrite a Python program to convert kilometers to miles?"
   ]
  },
  {
   "cell_type": "code",
   "execution_count": 1,
   "metadata": {},
   "outputs": [],
   "source": [
    "def km_to_mile_conversion(length):\n",
    "    return length*0.621371"
   ]
  },
  {
   "cell_type": "code",
   "execution_count": 2,
   "metadata": {},
   "outputs": [
    {
     "name": "stdout",
     "output_type": "stream",
     "text": [
      "Enter the length in Km10\n",
      "10.0 km is equal to 6.21371 miles\n"
     ]
    }
   ],
   "source": [
    "len = float(input(\"Enter the length in Km\"))\n",
    "result = km_to_mile_conversion(len)\n",
    "print(f'{len} km is equal to {result} miles')"
   ]
  },
  {
   "cell_type": "markdown",
   "metadata": {},
   "source": [
    "## 2.\tWrite a Python program to convert Celsius to Fahrenheit?"
   ]
  },
  {
   "cell_type": "code",
   "execution_count": 3,
   "metadata": {},
   "outputs": [],
   "source": [
    "def celsius_to_fahr_conversion(temp):\n",
    "    return (temp*(9/5))+32"
   ]
  },
  {
   "cell_type": "code",
   "execution_count": 5,
   "metadata": {},
   "outputs": [
    {
     "name": "stdout",
     "output_type": "stream",
     "text": [
      "Enter the Temperatue in Celsius0\n",
      "0.0 Celsius is equal to 32.0 Fahrenheit\n"
     ]
    }
   ],
   "source": [
    "temperature = float(input(\"Enter the Temperatue in Celsius\"))\n",
    "result = celsius_to_fahr_conversion(temperature)\n",
    "print(f'{temperature} Celsius is equal to {result} Fahrenheit')"
   ]
  },
  {
   "cell_type": "markdown",
   "metadata": {},
   "source": [
    "## 3.\tWrite a Python program to display calendar?"
   ]
  },
  {
   "cell_type": "code",
   "execution_count": 7,
   "metadata": {},
   "outputs": [
    {
     "name": "stdout",
     "output_type": "stream",
     "text": [
      "The calender of year 2021 is : \n",
      "                                  2021\n",
      "\n",
      "      January                   February                   March\n",
      "Mo Tu We Th Fr Sa Su      Mo Tu We Th Fr Sa Su      Mo Tu We Th Fr Sa Su\n",
      "             1  2  3       1  2  3  4  5  6  7       1  2  3  4  5  6  7\n",
      " 4  5  6  7  8  9 10       8  9 10 11 12 13 14       8  9 10 11 12 13 14\n",
      "11 12 13 14 15 16 17      15 16 17 18 19 20 21      15 16 17 18 19 20 21\n",
      "18 19 20 21 22 23 24      22 23 24 25 26 27 28      22 23 24 25 26 27 28\n",
      "25 26 27 28 29 30 31                                29 30 31\n",
      "\n",
      "       April                      May                       June\n",
      "Mo Tu We Th Fr Sa Su      Mo Tu We Th Fr Sa Su      Mo Tu We Th Fr Sa Su\n",
      "          1  2  3  4                      1  2          1  2  3  4  5  6\n",
      " 5  6  7  8  9 10 11       3  4  5  6  7  8  9       7  8  9 10 11 12 13\n",
      "12 13 14 15 16 17 18      10 11 12 13 14 15 16      14 15 16 17 18 19 20\n",
      "19 20 21 22 23 24 25      17 18 19 20 21 22 23      21 22 23 24 25 26 27\n",
      "26 27 28 29 30            24 25 26 27 28 29 30      28 29 30\n",
      "                          31\n",
      "\n",
      "        July                     August                  September\n",
      "Mo Tu We Th Fr Sa Su      Mo Tu We Th Fr Sa Su      Mo Tu We Th Fr Sa Su\n",
      "          1  2  3  4                         1             1  2  3  4  5\n",
      " 5  6  7  8  9 10 11       2  3  4  5  6  7  8       6  7  8  9 10 11 12\n",
      "12 13 14 15 16 17 18       9 10 11 12 13 14 15      13 14 15 16 17 18 19\n",
      "19 20 21 22 23 24 25      16 17 18 19 20 21 22      20 21 22 23 24 25 26\n",
      "26 27 28 29 30 31         23 24 25 26 27 28 29      27 28 29 30\n",
      "                          30 31\n",
      "\n",
      "      October                   November                  December\n",
      "Mo Tu We Th Fr Sa Su      Mo Tu We Th Fr Sa Su      Mo Tu We Th Fr Sa Su\n",
      "             1  2  3       1  2  3  4  5  6  7             1  2  3  4  5\n",
      " 4  5  6  7  8  9 10       8  9 10 11 12 13 14       6  7  8  9 10 11 12\n",
      "11 12 13 14 15 16 17      15 16 17 18 19 20 21      13 14 15 16 17 18 19\n",
      "18 19 20 21 22 23 24      22 23 24 25 26 27 28      20 21 22 23 24 25 26\n",
      "25 26 27 28 29 30 31      29 30                     27 28 29 30 31\n",
      "\n"
     ]
    }
   ],
   "source": [
    "import calendar \n",
    "    \n",
    "print (\"The calender of year 2021 is : \") \n",
    "print (calendar.calendar(2021)) "
   ]
  },
  {
   "cell_type": "markdown",
   "metadata": {},
   "source": [
    "## 4.\tWrite a Python program to solve quadratic equation?"
   ]
  },
  {
   "cell_type": "code",
   "execution_count": 16,
   "metadata": {},
   "outputs": [],
   "source": [
    "import math\n",
    "def solving_quadratic_eqtn(a,b,c):\n",
    "    discriminant = b * b - 4 * a * c\n",
    "    result = math.sqrt(abs(discriminant))\n",
    "    \n",
    "    if discriminant > 0:\n",
    "        ##when it is positive, we get two real solutions\n",
    "        print('First Real Root is: ',(-b+result)/2*a)\n",
    "        print('Second Real Root is: ',(-b-result)/2*a)\n",
    "    elif discriminant == 0:\n",
    "        ## when it is zero we get just ONE solution\n",
    "        print ('Only Real Root is: ',(-b)/2*a)\n",
    "    else:\n",
    "        ##when it is negative we get complex solutions\n",
    "        print('First Complex Root is: ',- b / (2 * a), \" + i\", result) \n",
    "        print('Second Complex Root is: ',- b / (2 * a), \" - i\", result) "
   ]
  },
  {
   "cell_type": "code",
   "execution_count": 21,
   "metadata": {},
   "outputs": [
    {
     "name": "stdout",
     "output_type": "stream",
     "text": [
      "Enter First Num: 1\n",
      "Enter Second Num: -5\n",
      "Enter Third Num: 6\n",
      "First Real Root is:  3.0\n",
      "Second Real Root is:  2.0\n"
     ]
    }
   ],
   "source": [
    "num1 = float(input(\"Enter First Num: \"))\n",
    "num2 = float(input(\"Enter Second Num: \"))\n",
    "num3 = float(input(\"Enter Third Num: \")) \n",
    "# If num1 is 0, then incorrect equation\n",
    "if num1 == 0: \n",
    "        print(\"Input correct quadratic equation\") \n",
    "else:\n",
    "    solving_quadratic_eqtn(num1,num2, num3)"
   ]
  },
  {
   "cell_type": "markdown",
   "metadata": {},
   "source": [
    "## 5.\tWrite a Python program to swap two variables without temp variable?"
   ]
  },
  {
   "cell_type": "code",
   "execution_count": 8,
   "metadata": {},
   "outputs": [],
   "source": [
    "def swap(a,b): \n",
    "    a = a+b  \n",
    "    b = a-b \n",
    "    a = a-b \n",
    "    return a,b"
   ]
  },
  {
   "cell_type": "code",
   "execution_count": 9,
   "metadata": {},
   "outputs": [
    {
     "name": "stdout",
     "output_type": "stream",
     "text": [
      "Enter First Num: 9\n",
      "Enter Second Num: 3\n",
      "Before swapping, a:  9.0  and b:  3.0\n",
      "After swapping, a:  3.0  and b:  9.0\n"
     ]
    }
   ],
   "source": [
    "num1 = float(input(\"Enter First Num: \"))\n",
    "num2 = float(input(\"Enter Second Num: \"))\n",
    "print(\"Before swapping, a: \",num1,\" and b: \",num2)\n",
    "num1,num2 = swap(num1,num2)\n",
    "print(\"After swapping, a: \",num1,\" and b: \",num2)"
   ]
  }
 ],
 "metadata": {
  "kernelspec": {
   "display_name": "Python 3",
   "language": "python",
   "name": "python3"
  },
  "language_info": {
   "codemirror_mode": {
    "name": "ipython",
    "version": 3
   },
   "file_extension": ".py",
   "mimetype": "text/x-python",
   "name": "python",
   "nbconvert_exporter": "python",
   "pygments_lexer": "ipython3",
   "version": "3.8.5"
  }
 },
 "nbformat": 4,
 "nbformat_minor": 4
}
