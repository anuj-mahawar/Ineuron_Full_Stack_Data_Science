{
 "cells": [
  {
   "cell_type": "markdown",
   "id": "67f6ead5",
   "metadata": {},
   "source": [
    "## Question 1:\n",
    "\n",
    "Define a class with a generator which can iterate the numbers, which are divisible by 7, between a given range 0 and n.\n"
   ]
  },
  {
   "cell_type": "code",
   "execution_count": 10,
   "id": "14e40dcc",
   "metadata": {},
   "outputs": [],
   "source": [
    "class generator:\n",
    "    \n",
    "    def __init__(self):\n",
    "        pass\n",
    "    \n",
    "    def divisible_by_7(self,n):\n",
    "        self.n = n\n",
    "        for i in range(n+1):\n",
    "            if i % 7 == 0:\n",
    "                yield i"
   ]
  },
  {
   "cell_type": "code",
   "execution_count": 11,
   "id": "0247991b",
   "metadata": {},
   "outputs": [
    {
     "name": "stdout",
     "output_type": "stream",
     "text": [
      "<__main__.generator object at 0x000001928AAE7DF0>\n"
     ]
    }
   ],
   "source": [
    "output = generator()\n",
    "print(output)"
   ]
  },
  {
   "cell_type": "code",
   "execution_count": 13,
   "id": "f437166c",
   "metadata": {},
   "outputs": [
    {
     "name": "stdout",
     "output_type": "stream",
     "text": [
      "0,7,14,21,28,35,42,49\n"
     ]
    }
   ],
   "source": [
    "print(*output.divisible_by_7(50),sep=\",\")"
   ]
  },
  {
   "cell_type": "markdown",
   "id": "094b2c2d",
   "metadata": {},
   "source": [
    "## Question 2:\n",
    "Write a program to compute the frequency of the words from the input. The output should output after sorting the key alphanumerically.   \n",
    "\n",
    "Suppose the following input is supplied to the program:  \n",
    "\n",
    "New to Python or choosing between Python 2 and Python 3? Read Python 2 or Python 3.  \n",
    "\n",
    "Then, the output should be:  \n",
    "\n",
    "2:2\n",
    "\n",
    "3.:1\n",
    "\n",
    "3?:1\n",
    "\n",
    "New:1\n",
    "\n",
    "Python:5\n",
    "\n",
    "Read:1\n",
    "\n",
    "and:1\n",
    "\n",
    "between:1\n",
    "\n",
    "choosing:1\n",
    "\n",
    "or:2\n",
    "\n",
    "to:1\n"
   ]
  },
  {
   "cell_type": "code",
   "execution_count": 22,
   "id": "fd7e9806",
   "metadata": {},
   "outputs": [],
   "source": [
    "def word_freq(str):\n",
    "    lst = str.split()\n",
    "    #print(lst)\n",
    "    for i in lst:\n",
    "        print('{} : {}'.format(i,str.count(i)))"
   ]
  },
  {
   "cell_type": "code",
   "execution_count": 23,
   "id": "ef3bff28",
   "metadata": {},
   "outputs": [
    {
     "name": "stdout",
     "output_type": "stream",
     "text": [
      "New : 1\n",
      "to : 1\n",
      "Python : 5\n",
      "or : 2\n",
      "choosing : 1\n",
      "between : 1\n",
      "Python : 5\n",
      "2 : 2\n",
      "and : 1\n",
      "Python : 5\n",
      "3? : 1\n",
      "Read : 1\n",
      "Python : 5\n",
      "2 : 2\n",
      "or : 2\n",
      "Python : 5\n",
      "3 : 2\n"
     ]
    }
   ],
   "source": [
    "word_freq('New to Python or choosing between Python 2 and Python 3? Read Python 2 or Python 3')"
   ]
  },
  {
   "cell_type": "markdown",
   "id": "851f83cd",
   "metadata": {},
   "source": [
    "## Question 3:\n",
    "\n",
    "Define a class Person and its two child classes: Male and Female. All classes have a method \"getGender\" which can print \"Male\" for Male class and \"Female\" for Female class"
   ]
  },
  {
   "cell_type": "code",
   "execution_count": 37,
   "id": "df045798",
   "metadata": {},
   "outputs": [],
   "source": [
    "class Person:\n",
    "    \n",
    "    def __init__(self):\n",
    "        pass\n",
    "    \n",
    "    def getgender(self):\n",
    "        return \"Unknown\"\n",
    "    \n",
    "class Male(Person):\n",
    "    def getgender(self):\n",
    "        return \"Male\"\n",
    "\n",
    "class Female(Person):\n",
    "    def getgender(self):\n",
    "        return \"Female\"\n",
    "        "
   ]
  },
  {
   "cell_type": "code",
   "execution_count": 40,
   "id": "c3c65f7c",
   "metadata": {},
   "outputs": [
    {
     "name": "stdout",
     "output_type": "stream",
     "text": [
      "This is  Male  class\n",
      "This is  Female  class\n"
     ]
    }
   ],
   "source": [
    "male_gen = Male()\n",
    "female_gen = Female()\n",
    "print(\"This is \",male_gen.getgender(),\" class\")\n",
    "print(\"This is \",female_gen.getgender(),\" class\")"
   ]
  },
  {
   "cell_type": "markdown",
   "id": "2a03b281",
   "metadata": {},
   "source": [
    "## Question 4:\n",
    "Please write a program to generate all sentences where   \n",
    "subject is in [\"I\", \"You\"]   and  \n",
    "verb is in [\"Play\", \"Love\"] and   \n",
    "the object is in [\"Hockey\",\"Football\"]."
   ]
  },
  {
   "cell_type": "code",
   "execution_count": 47,
   "id": "ce7c9fa6",
   "metadata": {},
   "outputs": [
    {
     "name": "stdout",
     "output_type": "stream",
     "text": [
      "I Play Hockey\n",
      "I Play Football\n",
      "I Love Hockey\n",
      "I Love Football\n",
      "You Play Hockey\n",
      "You Play Football\n",
      "You Love Hockey\n",
      "You Love Football\n"
     ]
    }
   ],
   "source": [
    "subject = [\"I\", \"You\"]\n",
    "verb = [\"Play\", \"Love\"]\n",
    "obj = [\"Hockey\",\"Football\"]\n",
    "\n",
    "for i in subject:\n",
    "    for j in verb:\n",
    "        for k in obj:\n",
    "            print(i,j,k)"
   ]
  },
  {
   "cell_type": "markdown",
   "id": "2303c3ff",
   "metadata": {},
   "source": [
    "## Question 5:\n",
    "Please write a program to compress and decompress the string \"hello world!hello world!hello world!hello world!\"."
   ]
  },
  {
   "cell_type": "code",
   "execution_count": 49,
   "id": "e371b543",
   "metadata": {},
   "outputs": [
    {
     "name": "stdout",
     "output_type": "stream",
     "text": [
      "b'x\\x9c\\xcbH\\xcd\\xc9\\xc9W(\\xcf/\\xcaIQ\\xcc \\x82\\r\\x00\\xbd[\\x11\\xf5'\n",
      "b'hello world!hello world!hello world!hello world!'\n"
     ]
    }
   ],
   "source": [
    "import zlib\n",
    "text=\"hello world!hello world!hello world!hello world!\"\n",
    "y = bytes(text, 'utf-8')\n",
    "x = zlib.compress(y)\n",
    "print(x)\n",
    "print(zlib.decompress(x))"
   ]
  },
  {
   "cell_type": "markdown",
   "id": "66a190ba",
   "metadata": {},
   "source": [
    "## Question 6:\n",
    "Please write a binary search function which searches an item in a sorted list. The function should return the index of element to be searched in the list."
   ]
  },
  {
   "cell_type": "code",
   "execution_count": 68,
   "id": "0fda960e",
   "metadata": {},
   "outputs": [],
   "source": [
    "def binary_search(item,search_list):\n",
    "    new_list = sorted(search_list)\n",
    "    first = 0\n",
    "    print('Here 1',first)\n",
    "    found = 0\n",
    "    last = len(new_list) - 1\n",
    "    print('Here 2',last)\n",
    "    pos = 0\n",
    "    while found == 0 and first <= last :\n",
    "        midpoint = (first + last)//2\n",
    "        print('Here 3',midpoint)\n",
    "        \n",
    "        if new_list[midpoint] == item:\n",
    "            found = 1\n",
    "            pos = midpoint\n",
    "            break\n",
    "            \n",
    "        else :\n",
    "            \n",
    "            if new_list[midpoint] < item :\n",
    "                first = midpoint + 1\n",
    "                print('Here 4',first)\n",
    "                print('Here 5',last)\n",
    "            else :\n",
    "                last = midpoint - 1\n",
    "                print('Here 6',first)\n",
    "                print('Here 7',last)\n",
    "    if found == 1:\n",
    "        return \"Item found at \"+str(pos) +\" index location in the sorted list\"\n",
    "    else:\n",
    "        return \"Not Found\""
   ]
  },
  {
   "cell_type": "code",
   "execution_count": 69,
   "id": "842fc9b2",
   "metadata": {},
   "outputs": [
    {
     "name": "stdout",
     "output_type": "stream",
     "text": [
      "Here 1 0\n",
      "Here 2 4\n",
      "Here 3 2\n",
      "Item found at 2 index location in the sorted list\n"
     ]
    }
   ],
   "source": [
    "test = [5,4,1,2,3]\n",
    "print(binary_search(3,test))"
   ]
  }
 ],
 "metadata": {
  "kernelspec": {
   "display_name": "Python 3",
   "language": "python",
   "name": "python3"
  },
  "language_info": {
   "codemirror_mode": {
    "name": "ipython",
    "version": 3
   },
   "file_extension": ".py",
   "mimetype": "text/x-python",
   "name": "python",
   "nbconvert_exporter": "python",
   "pygments_lexer": "ipython3",
   "version": "3.8.5"
  }
 },
 "nbformat": 4,
 "nbformat_minor": 5
}
