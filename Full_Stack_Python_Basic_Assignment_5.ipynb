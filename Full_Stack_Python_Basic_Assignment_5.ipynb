{
 "cells": [
  {
   "cell_type": "markdown",
   "metadata": {},
   "source": [
    "### 1. What does an empty dictionary's code look like?"
   ]
  },
  {
   "cell_type": "code",
   "execution_count": 8,
   "metadata": {},
   "outputs": [
    {
     "name": "stdout",
     "output_type": "stream",
     "text": [
      "This is an empty dictionary representation: {}\n"
     ]
    }
   ],
   "source": [
    "d = {}\n",
    "print('This is an empty dictionary representation:',d)"
   ]
  },
  {
   "cell_type": "markdown",
   "metadata": {},
   "source": [
    "### 2. What is the value of a dictionary value with the key 'foo' and the value 42?"
   ]
  },
  {
   "cell_type": "code",
   "execution_count": 28,
   "metadata": {},
   "outputs": [
    {
     "name": "stdout",
     "output_type": "stream",
     "text": [
      "Dictionary with foo as key and 42 as value: {'foo': 42}\n"
     ]
    }
   ],
   "source": [
    "d2 = {'foo':42}\n",
    "print('Dictionary with foo as key and 42 as value: {}'.format(d2))"
   ]
  },
  {
   "cell_type": "markdown",
   "metadata": {},
   "source": [
    "### 3. What is the most significant distinction between a dictionary and a list?"
   ]
  },
  {
   "cell_type": "markdown",
   "metadata": {},
   "source": [
    "- **LIST** is an **ordered** collection\n",
    "- **DICTIONARY** is an **unordered** collection"
   ]
  },
  {
   "cell_type": "code",
   "execution_count": 32,
   "metadata": {},
   "outputs": [
    {
     "name": "stdout",
     "output_type": "stream",
     "text": [
      "Lists are Unordered: True\n",
      "Dictionary are ordered: True\n"
     ]
    }
   ],
   "source": [
    "l1 = [1,2,3,4]\n",
    "l2 = [1,2,3,44]\n",
    "\n",
    "\n",
    "if l1 == l2:\n",
    "    print('Lists are ordered:',False)\n",
    "else:\n",
    "    print('Lists are Unordered:',True)\n",
    "\n",
    "d1 = {'a':'apple','b':'boy','c':'cat'}\n",
    "d2 = {'b':'boy','c':'cat','a':'apple'}\n",
    "\n",
    "if d1 == d2:\n",
    "    print('Dictionary are ordered:',True)\n",
    "else:\n",
    "    print('Dictionary are Unordered:',False)"
   ]
  },
  {
   "cell_type": "markdown",
   "metadata": {},
   "source": [
    "### 4. What happens if you try to access spam['foo'] if spam is {'bar': 100}?"
   ]
  },
  {
   "cell_type": "markdown",
   "metadata": {},
   "source": [
    "- It will throw an **KeyError exception** as spam doesn't have any key name **'foo'**"
   ]
  },
  {
   "cell_type": "code",
   "execution_count": 38,
   "metadata": {},
   "outputs": [
    {
     "name": "stdout",
     "output_type": "stream",
     "text": [
      "spam doesn't have any key name: 'foo'\n"
     ]
    }
   ],
   "source": [
    "spam = {'bar':100}\n",
    "try:\n",
    "    print(spam['foo'])\n",
    "except KeyError as e:\n",
    "    print(\"spam doesn't have any key name:\",e)"
   ]
  },
  {
   "cell_type": "markdown",
   "metadata": {},
   "source": [
    "### 5. If a dictionary is stored in spam, what is the difference between the expressions 'cat' in spam and 'cat' in spam.keys()?"
   ]
  },
  {
   "cell_type": "markdown",
   "metadata": {},
   "source": [
    "**Both of them will perform the same job**  <br>\n",
    "- 'cat' in spam will search for 'cat' in spam's keys\n",
    "- 'cat' in spam.keys() will also search for 'cat' in spam's keys"
   ]
  },
  {
   "cell_type": "code",
   "execution_count": 52,
   "metadata": {},
   "outputs": [
    {
     "name": "stdout",
     "output_type": "stream",
     "text": [
      "Cat is in Keys\n",
      "Cat is in Spam's Keys\n"
     ]
    }
   ],
   "source": [
    "spam = {'a':'apple','cat':'Dog'}\n",
    "if 'cat' in spam:\n",
    "    print('Cat is in Keys')\n",
    "\n",
    "if 'cat' in spam.keys():\n",
    "    print(\"Cat is in Spam's Keys\")"
   ]
  },
  {
   "cell_type": "markdown",
   "metadata": {},
   "source": [
    "### 6. If a dictionary is stored in spam, what is the difference between the expressions 'cat' in spam and 'cat' in spam.values()?"
   ]
  },
  {
   "cell_type": "markdown",
   "metadata": {},
   "source": [
    "- 'cat' in spam will search for 'cat' in spam's keys\n",
    "- 'cat' in spam.values() will search for 'cat' in spam's values"
   ]
  },
  {
   "cell_type": "code",
   "execution_count": 50,
   "metadata": {},
   "outputs": [
    {
     "name": "stdout",
     "output_type": "stream",
     "text": [
      "Cat is in Values\n"
     ]
    }
   ],
   "source": [
    "spam = {'a':'apple','c':'cat'}\n",
    "if 'cat' in spam:\n",
    "    print('Cat is in Keys')\n",
    "elif 'cat' in spam.values():\n",
    "    print('Cat is in Values')"
   ]
  },
  {
   "cell_type": "markdown",
   "metadata": {},
   "source": [
    "### 7. What is a shortcut for the following code?\n",
    "- if 'color' not in spam:  <br>\n",
    "  spam['color'] = 'black'"
   ]
  },
  {
   "cell_type": "code",
   "execution_count": 46,
   "metadata": {},
   "outputs": [
    {
     "name": "stdout",
     "output_type": "stream",
     "text": [
      "Updated Spam- {'a': 'apple', 'b': 'bat', 'color': 'black'}\n",
      "As color is already there in spam,it will not change- {'a': 'apple', 'b': 'bat', 'color': 'black'}\n"
     ]
    }
   ],
   "source": [
    "spam = {'a':'apple','b':'bat'}\n",
    "spam.setdefault('color','black')\n",
    "print('Updated Spam-',spam)\n",
    "spam.setdefault('color','blue')\n",
    "print('As color is already there in spam,it will not change-',spam)"
   ]
  },
  {
   "cell_type": "markdown",
   "metadata": {},
   "source": [
    "### 8. How do you \"pretty print\" dictionary values using which module and function?"
   ]
  },
  {
   "cell_type": "markdown",
   "metadata": {},
   "source": [
    " - Module is **pprint** and function is **pprint**"
   ]
  },
  {
   "cell_type": "code",
   "execution_count": 41,
   "metadata": {},
   "outputs": [
    {
     "name": "stdout",
     "output_type": "stream",
     "text": [
      "{'M': 1, 'i': 4, 'p': 2, 's': 4}\n"
     ]
    }
   ],
   "source": [
    "import pprint\n",
    "\n",
    "message = 'Mississippi'\n",
    "count ={}\n",
    "\n",
    "for i in message:\n",
    "    count.setdefault(i,0)\n",
    "    count[i] = count[i]+1\n",
    "\n",
    "pprint.pprint(count)"
   ]
  }
 ],
 "metadata": {
  "kernelspec": {
   "display_name": "Python 3",
   "language": "python",
   "name": "python3"
  },
  "language_info": {
   "codemirror_mode": {
    "name": "ipython",
    "version": 3
   },
   "file_extension": ".py",
   "mimetype": "text/x-python",
   "name": "python",
   "nbconvert_exporter": "python",
   "pygments_lexer": "ipython3",
   "version": "3.8.5"
  }
 },
 "nbformat": 4,
 "nbformat_minor": 4
}
