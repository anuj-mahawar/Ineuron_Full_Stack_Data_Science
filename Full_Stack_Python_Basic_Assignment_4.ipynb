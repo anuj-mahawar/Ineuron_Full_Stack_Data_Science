{
 "cells": [
  {
   "cell_type": "markdown",
   "metadata": {},
   "source": [
    "### 1. What exactly is []?"
   ]
  },
  {
   "cell_type": "markdown",
   "metadata": {},
   "source": [
    "- **[]** is an empty list"
   ]
  },
  {
   "cell_type": "code",
   "execution_count": 1,
   "metadata": {},
   "outputs": [
    {
     "name": "stdout",
     "output_type": "stream",
     "text": [
      "The list l1 contains 0 elements\n"
     ]
    }
   ],
   "source": [
    "l1 = []\n",
    "print('The list l1 contains {} elements'.format(len(l1)))"
   ]
  },
  {
   "cell_type": "markdown",
   "metadata": {},
   "source": [
    "### 2. In a list of values stored in a variable called spam, how would you assign the value 'hello' as the third value? (Assume [2, 4, 6, 8, 10] are in spam.)"
   ]
  },
  {
   "cell_type": "markdown",
   "metadata": {},
   "source": [
    "- As lists are **MUTABLE**, we can replace the values inside the list"
   ]
  },
  {
   "cell_type": "code",
   "execution_count": 2,
   "metadata": {},
   "outputs": [
    {
     "name": "stdout",
     "output_type": "stream",
     "text": [
      "Third element in the original list: 6\n",
      "Third element in the updated list: hello\n"
     ]
    }
   ],
   "source": [
    "spam = [2, 4, 6, 8, 10]\n",
    "print('Third element in the original list: {}'.format(spam[2]))\n",
    "spam[2] = \"hello\"\n",
    "print('Third element in the updated list: {}'.format(spam[2]))"
   ]
  },
  {
   "cell_type": "markdown",
   "metadata": {},
   "source": [
    "### Let's pretend the spam includes the list ['a', 'b', 'c', 'd'] for the next three queries."
   ]
  },
  {
   "cell_type": "markdown",
   "metadata": {},
   "source": [
    "#### 3. What is the value of spam[int(int('3' * 2) / 11)]?"
   ]
  },
  {
   "cell_type": "code",
   "execution_count": 7,
   "metadata": {},
   "outputs": [
    {
     "name": "stdout",
     "output_type": "stream",
     "text": [
      "The value inside the temp is 3 and so spam[temp] is d\n"
     ]
    }
   ],
   "source": [
    "spam = ['a','b','c','d']\n",
    "temp = int(int('3' * 2) / 11)\n",
    "print('The value inside the temp is {} and so spam[temp] is {}'.format(temp,spam[temp]))"
   ]
  },
  {
   "cell_type": "markdown",
   "metadata": {},
   "source": [
    "#### 4. What is the value of spam[-1]?"
   ]
  },
  {
   "cell_type": "code",
   "execution_count": 8,
   "metadata": {},
   "outputs": [
    {
     "name": "stdout",
     "output_type": "stream",
     "text": [
      "Last element of spam is:  d\n"
     ]
    }
   ],
   "source": [
    "print('Last element of spam is: ',spam[-1])"
   ]
  },
  {
   "cell_type": "markdown",
   "metadata": {},
   "source": [
    "#### 5. What is the value of spam[:2]?"
   ]
  },
  {
   "cell_type": "code",
   "execution_count": 9,
   "metadata": {},
   "outputs": [
    {
     "name": "stdout",
     "output_type": "stream",
     "text": [
      "First 2 elements of spam is:  ['a', 'b']\n"
     ]
    }
   ],
   "source": [
    "print('First 2 elements of spam is: ',spam[:2])"
   ]
  },
  {
   "cell_type": "markdown",
   "metadata": {},
   "source": [
    "### Let's pretend bacon has the list [3.14, 'cat,' 11, 'cat,' True] for the next three questions."
   ]
  },
  {
   "cell_type": "markdown",
   "metadata": {},
   "source": [
    "#### 6. What is the value of bacon.index('cat')?"
   ]
  },
  {
   "cell_type": "code",
   "execution_count": 12,
   "metadata": {},
   "outputs": [],
   "source": [
    "bacon = [3.14, 'cat', 11, 'cat', True]"
   ]
  },
  {
   "cell_type": "markdown",
   "metadata": {},
   "source": [
    "- .index will print the index position of the first occurence of that element"
   ]
  },
  {
   "cell_type": "code",
   "execution_count": 19,
   "metadata": {},
   "outputs": [
    {
     "name": "stdout",
     "output_type": "stream",
     "text": [
      "Required Value : 1\n"
     ]
    }
   ],
   "source": [
    "print('Required Value : {}'.format(bacon.index('cat')))"
   ]
  },
  {
   "cell_type": "markdown",
   "metadata": {},
   "source": [
    "#### 7. How does bacon.append(99) change the look of the list value in bacon?"
   ]
  },
  {
   "cell_type": "markdown",
   "metadata": {},
   "source": [
    "- .append will add that element to the last position of the list"
   ]
  },
  {
   "cell_type": "code",
   "execution_count": 18,
   "metadata": {},
   "outputs": [
    {
     "name": "stdout",
     "output_type": "stream",
     "text": [
      "Original List:  [3.14, 'cat', 11, 'cat', True]\n",
      "Updated List:  [3.14, 'cat', 11, 'cat', True, 99]\n"
     ]
    }
   ],
   "source": [
    "print('Original List: ',bacon)\n",
    "bacon.append(99)\n",
    "print('Updated List: ',bacon)"
   ]
  },
  {
   "cell_type": "markdown",
   "metadata": {},
   "source": [
    "#### 8. How does bacon.remove('cat') change the look of the list meaning in bacon?"
   ]
  },
  {
   "cell_type": "markdown",
   "metadata": {},
   "source": [
    "- .remove will remove the first occurence of that element"
   ]
  },
  {
   "cell_type": "code",
   "execution_count": 20,
   "metadata": {},
   "outputs": [
    {
     "name": "stdout",
     "output_type": "stream",
     "text": [
      "Original List:  [3.14, 'cat', 11, 'cat', True, 99]\n",
      "Updated List:  [3.14, 11, 'cat', True, 99]\n"
     ]
    }
   ],
   "source": [
    "print('Original List: ',bacon)\n",
    "bacon.remove('cat')\n",
    "print('Updated List: ',bacon)"
   ]
  },
  {
   "cell_type": "markdown",
   "metadata": {},
   "source": [
    "### 9. What are the list concatenation and list replication operators?"
   ]
  },
  {
   "cell_type": "markdown",
   "metadata": {},
   "source": [
    "- List Concatenation operator is '+'\n",
    "- List Replication operator is '*'"
   ]
  },
  {
   "cell_type": "code",
   "execution_count": 21,
   "metadata": {},
   "outputs": [
    {
     "name": "stdout",
     "output_type": "stream",
     "text": [
      "List Concatenation:  ['hello', 'this', 1, 4, True, 'world', 'is']\n",
      "List Replication:  ['world', 'is', 'world', 'is']\n"
     ]
    }
   ],
   "source": [
    "list1 = ['hello','this',1,4,True]\n",
    "list2 = ['world','is']\n",
    "print('List Concatenation: ',list1+list2)\n",
    "print('List Replication: ',list2*2)"
   ]
  },
  {
   "cell_type": "markdown",
   "metadata": {},
   "source": [
    "### 10. What is difference between the list methods append() and insert()?"
   ]
  },
  {
   "cell_type": "markdown",
   "metadata": {},
   "source": [
    "- **.append()** adds the element at the last position of the **list**\n",
    "- **.insert()** adds the element at the required position in the **list**"
   ]
  },
  {
   "cell_type": "code",
   "execution_count": 23,
   "metadata": {},
   "outputs": [
    {
     "name": "stdout",
     "output_type": "stream",
     "text": [
      "Example of .append operation  ['world', 'is', 'beautiful']\n",
      "Example of .insert operation  ['hello', 'world', 'is', 'beautiful']\n"
     ]
    }
   ],
   "source": [
    "list2 = ['world','is']\n",
    "list2.append('beautiful')\n",
    "print('Example of .append operation ',list2)\n",
    "list2.insert(0,'hello')\n",
    "print('Example of .insert operation ',list2)"
   ]
  },
  {
   "cell_type": "markdown",
   "metadata": {},
   "source": [
    "### 11. What are the two methods for removing items from a list?"
   ]
  },
  {
   "cell_type": "markdown",
   "metadata": {},
   "source": [
    "- **First Method** is **.remove()**. It will remove the first occurence of that element\n",
    "- **Second Method** is **del list[index]**. It will remove the element at the index position"
   ]
  },
  {
   "cell_type": "code",
   "execution_count": 28,
   "metadata": {},
   "outputs": [
    {
     "name": "stdout",
     "output_type": "stream",
     "text": [
      "First method:  None\n",
      "Updated List:  ['hello', 'world', 'beautiful']\n",
      "------------------------\n",
      "Second Method is del list[index]\n",
      "Updated List:  ['hello', 'world']\n"
     ]
    }
   ],
   "source": [
    "list2 = ['hello', 'world', 'is', 'beautiful']\n",
    "print('First method: ',list2.remove('is'))\n",
    "print('Updated List: ',list2)\n",
    "print('------------------------')\n",
    "print('Second Method is del list[index]')\n",
    "del list2[2]\n",
    "print('Updated List: ',list2)"
   ]
  },
  {
   "cell_type": "markdown",
   "metadata": {},
   "source": [
    "### 12. Describe how list values and string values are identical"
   ]
  },
  {
   "cell_type": "markdown",
   "metadata": {},
   "source": [
    "- Both of them can be iterated or looped over\n",
    "- Both of them can be concatenated\n",
    "- Both of them have similar methods like **len()**,**count()**\n",
    "- Both of them can be indexed or sliced\n",
    "- Both of have have similar set of operators to be operated upon like **in**"
   ]
  },
  {
   "cell_type": "code",
   "execution_count": 46,
   "metadata": {},
   "outputs": [],
   "source": [
    "list2 = ['hello']\n",
    "list3 = ['world']\n",
    "str1 = 'HELLO'\n",
    "str2 = 'WORLD'"
   ]
  },
  {
   "cell_type": "code",
   "execution_count": 47,
   "metadata": {},
   "outputs": [
    {
     "name": "stdout",
     "output_type": "stream",
     "text": [
      "Looping through List:  hello\n",
      "Looping through String:  W\n",
      "Looping through String:  O\n",
      "Looping through String:  R\n",
      "Looping through String:  L\n",
      "Looping through String:  D\n"
     ]
    }
   ],
   "source": [
    "for i in list2:\n",
    "    print('Looping through List: ',i)\n",
    "\n",
    "for i in str2:\n",
    "    print('Looping through String: ',i)"
   ]
  },
  {
   "cell_type": "code",
   "execution_count": 48,
   "metadata": {},
   "outputs": [
    {
     "name": "stdout",
     "output_type": "stream",
     "text": [
      "Concatenation of 2 lists:  ['hello', 'world']\n",
      "Concatenation of 2 String:  HELLOWORLD\n"
     ]
    }
   ],
   "source": [
    "final_list = list2 + list3\n",
    "print('Concatenation of 2 lists: ',final_list)\n",
    "final_string = str1 + str2\n",
    "print('Concatenation of 2 String: ',final_string)"
   ]
  },
  {
   "cell_type": "code",
   "execution_count": 49,
   "metadata": {},
   "outputs": [
    {
     "name": "stdout",
     "output_type": "stream",
     "text": [
      "Length of List:  2\n",
      "Length of String:  10\n"
     ]
    }
   ],
   "source": [
    "print('Length of List: ',len(final_list))\n",
    "print('Length of String: ',len(final_string))"
   ]
  },
  {
   "cell_type": "code",
   "execution_count": 50,
   "metadata": {},
   "outputs": [
    {
     "name": "stdout",
     "output_type": "stream",
     "text": [
      "List Indexed:  ['hello']\n",
      "String Indexed:  H\n"
     ]
    }
   ],
   "source": [
    "print('List Indexed: ',final_list[:1])\n",
    "print('String Indexed: ',final_string[:1])"
   ]
  },
  {
   "cell_type": "code",
   "execution_count": 51,
   "metadata": {},
   "outputs": [
    {
     "name": "stdout",
     "output_type": "stream",
     "text": [
      "In Operator in List\n",
      "In operator in string\n"
     ]
    }
   ],
   "source": [
    "if 'hello' in final_list:\n",
    "    print('In Operator in List')\n",
    "\n",
    "if 'H' in final_string:\n",
    "    print('In operator in string')"
   ]
  },
  {
   "cell_type": "markdown",
   "metadata": {},
   "source": [
    "### 13 What's the difference between tuples and lists?"
   ]
  },
  {
   "cell_type": "markdown",
   "metadata": {},
   "source": [
    "- Tuples are **IMMUTABLE** and are represented by ()\n",
    "- Lists are **MUTABLE** and are represented by []"
   ]
  },
  {
   "cell_type": "code",
   "execution_count": 57,
   "metadata": {},
   "outputs": [
    {
     "name": "stdout",
     "output_type": "stream",
     "text": [
      "Original List:  ['hello', 'world']\n",
      "Original Tuple:  ('hello', 'world')\n",
      "Values in the list are updated now:  ['hello', 'PYTHON']\n",
      "Tuples are Immutable  'tuple' object does not support item assignment\n"
     ]
    }
   ],
   "source": [
    "list3 = ['hello','world']\n",
    "tuple3 = ('hello','world')\n",
    "print('Original List: ',list3)\n",
    "print('Original Tuple: ',tuple3)\n",
    "\n",
    "list3[1] = 'PYTHON'\n",
    "print('Values in the list are updated now: ',list3)\n",
    "try:\n",
    "    tuple3[1] = 'PYTHON'\n",
    "    print('Values in the Tuples are updated now: ',tuple3)\n",
    "except TypeError as e:\n",
    "    print(\"Tuples are Immutable \",e)         "
   ]
  },
  {
   "cell_type": "markdown",
   "metadata": {},
   "source": [
    "### 14. How do you type a tuple value that only contains the integer 42?"
   ]
  },
  {
   "cell_type": "code",
   "execution_count": 67,
   "metadata": {},
   "outputs": [
    {
     "name": "stdout",
     "output_type": "stream",
     "text": [
      "Value inside the tuple is:  42\n",
      "The trailing comma in essential otherwise tuple[0] will throw a typeError\n",
      "Trailing comma is necessary:  'int' object is not subscriptable\n"
     ]
    }
   ],
   "source": [
    "try:\n",
    "    tuple4 = (42,)\n",
    "    print('Value inside the tuple is: ',tuple4[0])\n",
    "    print('The trailing comma in essential otherwise tuple[0] will throw a typeError')\n",
    "    t5 = (42)\n",
    "    print('Value inside the tuple is: ',t5[0])\n",
    "except TypeError as e:\n",
    "    print('Trailing comma is necessary: ',e)"
   ]
  },
  {
   "cell_type": "markdown",
   "metadata": {},
   "source": [
    "### 15. How do you get a list value's tuple form? How do you get a tuple value's list form?"
   ]
  },
  {
   "cell_type": "code",
   "execution_count": 71,
   "metadata": {},
   "outputs": [
    {
     "name": "stdout",
     "output_type": "stream",
     "text": [
      "List Values in a Tuple Form:  ('hello', 1, True)\n",
      "Tuple Values in a List Form:  ['world', 11, False]\n"
     ]
    }
   ],
   "source": [
    "new_l1 = ['hello',1,True]\n",
    "new_t1 = ('world',11,False)\n",
    "new_t2 = ()\n",
    "print('List Values in a Tuple Form: ',tuple(new_l1))\n",
    "print('Tuple Values in a List Form: ',list(new_t1))"
   ]
  },
  {
   "cell_type": "markdown",
   "metadata": {},
   "source": [
    "### 16. Variables that \"contain\" list values are not necessarily lists themselves. Instead, what do they contain?"
   ]
  },
  {
   "cell_type": "markdown",
   "metadata": {},
   "source": [
    "- They contain the reference of the list values in the memory"
   ]
  },
  {
   "cell_type": "code",
   "execution_count": 85,
   "metadata": {},
   "outputs": [
    {
     "name": "stdout",
     "output_type": "stream",
     "text": [
      "1879973215936\n",
      "140724958078752\n",
      "140724958078784\n"
     ]
    }
   ],
   "source": [
    "l = [1,2,3,4]\n",
    "print(id(l))  ## l is just a reference object\n",
    "print(id(l[0]))\n",
    "print(id(l[1]))"
   ]
  },
  {
   "cell_type": "markdown",
   "metadata": {},
   "source": [
    "### 17. How do you distinguish between copy.copy() and copy.deepcopy()?"
   ]
  },
  {
   "cell_type": "markdown",
   "metadata": {},
   "source": [
    "- **copy.copy()** is a shallow copy. Any changes made to the copied list will be reflected in the original list\n",
    "- **copy.deepcopy()** is a deep copy. Any changes made to the copied list will not be reflected in the original list"
   ]
  },
  {
   "cell_type": "code",
   "execution_count": 92,
   "metadata": {},
   "outputs": [],
   "source": [
    "import copy"
   ]
  },
  {
   "cell_type": "code",
   "execution_count": 93,
   "metadata": {},
   "outputs": [
    {
     "name": "stdout",
     "output_type": "stream",
     "text": [
      "Original List:  [2, 3, [11, 44], 77]\n",
      "Copied List:  [2, 3, [11, 44], 77]\n",
      "Updated List:  [2, 3, [11, 99], 77]\n",
      "Checking Original List:  [2, 3, [11, 99], 77]\n"
     ]
    }
   ],
   "source": [
    "## Shallow Copy\n",
    "li1 = [2,3,[11,44],77]\n",
    "print(\"Original List: \",li1)\n",
    "\n",
    "li2 = copy.copy(li1)\n",
    "print(\"Copied List: \",li2)\n",
    "\n",
    "li2[2][1] = 99\n",
    "print(\"Updated List: \",li2)\n",
    "\n",
    "print(\"Checking Original List: \",li1)"
   ]
  },
  {
   "cell_type": "code",
   "execution_count": 94,
   "metadata": {},
   "outputs": [
    {
     "name": "stdout",
     "output_type": "stream",
     "text": [
      "Original List:  [2, 3, [11, 44], 77]\n",
      "Copied List:  [2, 3, [11, 44], 77]\n",
      "Updated List:  [2, 3, [11, 99], 77]\n",
      "Checking Original List:  [2, 3, [11, 44], 77]\n"
     ]
    }
   ],
   "source": [
    "## Deep Copy\n",
    "li1 = [2,3,[11,44],77]\n",
    "print(\"Original List: \",li1)\n",
    "\n",
    "li2 = copy.deepcopy(li1)\n",
    "print(\"Copied List: \",li2)\n",
    "\n",
    "li2[2][1] = 99\n",
    "print(\"Updated List: \",li2)\n",
    "\n",
    "print(\"Checking Original List: \",li1)"
   ]
  }
 ],
 "metadata": {
  "kernelspec": {
   "display_name": "Python 3",
   "language": "python",
   "name": "python3"
  },
  "language_info": {
   "codemirror_mode": {
    "name": "ipython",
    "version": 3
   },
   "file_extension": ".py",
   "mimetype": "text/x-python",
   "name": "python",
   "nbconvert_exporter": "python",
   "pygments_lexer": "ipython3",
   "version": "3.8.5"
  }
 },
 "nbformat": 4,
 "nbformat_minor": 4
}
