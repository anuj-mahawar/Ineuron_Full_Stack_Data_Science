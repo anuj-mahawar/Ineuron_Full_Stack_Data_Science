{
 "cells": [
  {
   "cell_type": "markdown",
   "metadata": {},
   "source": [
    "## 1. What is the result of the code, and why?\n",
    ">>> def func(a, b=6, c=8):  \n",
    "        print(a, b, c)    \n",
    ">>> func(1, 2)\n"
   ]
  },
  {
   "cell_type": "code",
   "execution_count": 1,
   "metadata": {},
   "outputs": [],
   "source": [
    "def func(a,b=6,c=8):\n",
    "    print(a,b,c)"
   ]
  },
  {
   "cell_type": "code",
   "execution_count": 2,
   "metadata": {},
   "outputs": [
    {
     "name": "stdout",
     "output_type": "stream",
     "text": [
      "1 2 8\n"
     ]
    }
   ],
   "source": [
    "func(1,2)\n",
    "## It should print 1,2,8 as the default value of c is provided as 8"
   ]
  },
  {
   "cell_type": "markdown",
   "metadata": {},
   "source": [
    "## 2. What is the result of this code, and why?  \n",
    ">>> def func(a, b, c=5):  \n",
    "        print(a, b, c)  \n",
    ">>> func(1, c=3, b=2)"
   ]
  },
  {
   "cell_type": "code",
   "execution_count": 3,
   "metadata": {},
   "outputs": [],
   "source": [
    "def func(a,b,c=5):\n",
    "    print(a,b,c)"
   ]
  },
  {
   "cell_type": "code",
   "execution_count": 4,
   "metadata": {},
   "outputs": [
    {
     "name": "stdout",
     "output_type": "stream",
     "text": [
      "1 2 3\n"
     ]
    }
   ],
   "source": [
    "func(1,c=3,b=2)\n",
    "## It will print 1 2 and 3 as we are calling the parameters by name"
   ]
  },
  {
   "cell_type": "markdown",
   "metadata": {},
   "source": [
    "## 3 How about this code: what is its result, and why?\n",
    ">>> def func(a, *pargs):    \n",
    "            print(a, pargs)  \n",
    ">>> func(1, 2, 3)"
   ]
  },
  {
   "cell_type": "code",
   "execution_count": 5,
   "metadata": {},
   "outputs": [],
   "source": [
    "def func(a,*pargs):\n",
    "    print(a,pargs)"
   ]
  },
  {
   "cell_type": "code",
   "execution_count": 6,
   "metadata": {},
   "outputs": [
    {
     "name": "stdout",
     "output_type": "stream",
     "text": [
      "1 (2, 3)\n"
     ]
    }
   ],
   "source": [
    "func(1,2,3)\n",
    "## It will print 1 and as only pargs is printed both the values will be printed as a tuple"
   ]
  },
  {
   "cell_type": "markdown",
   "metadata": {},
   "source": [
    "## 4. What does this code print, and why?\n",
    ">>> def func(a, **kargs):  \n",
    "        print(a, kargs)  \n",
    ">>> func(a=1, c=3, b=2)"
   ]
  },
  {
   "cell_type": "code",
   "execution_count": 7,
   "metadata": {},
   "outputs": [],
   "source": [
    "def func(a,**kargs):\n",
    "    print(a,kargs)"
   ]
  },
  {
   "cell_type": "code",
   "execution_count": 8,
   "metadata": {},
   "outputs": [
    {
     "name": "stdout",
     "output_type": "stream",
     "text": [
      "1 {'c': 3, 'b': 2}\n"
     ]
    }
   ],
   "source": [
    "func(a=1,c=3,b=2)\n",
    "## It should print 1 {'c':3,'b':2) as ** means key value pairs"
   ]
  },
  {
   "cell_type": "markdown",
   "metadata": {},
   "source": [
    "## 5. What gets printed by this, and explain?\n",
    ">>> def func(a, b, c=8, d=5):   \n",
    "        print(a, b, c, d)  \n",
    ">>> func(1, *(5, 6))\n"
   ]
  },
  {
   "cell_type": "code",
   "execution_count": 9,
   "metadata": {},
   "outputs": [],
   "source": [
    "def func(a, b, c=8, d=5): \n",
    "    print(a, b, c, d)"
   ]
  },
  {
   "cell_type": "code",
   "execution_count": 10,
   "metadata": {},
   "outputs": [
    {
     "name": "stdout",
     "output_type": "stream",
     "text": [
      "1 5 6 5\n"
     ]
    }
   ],
   "source": [
    "func(1, *(5, 6))\n",
    "#It will print 1 5 6 5 as *(5,6) will be taken as b and c values"
   ]
  },
  {
   "cell_type": "markdown",
   "metadata": {},
   "source": [
    "## 6. what is the result of this, and explain?\n",
    ">>> def func(a, b, c):   \n",
    "    a = 2; b[0] = 'x'; c['a'] = 'y'  \n",
    "   l=1; m=[1]; n={'a':0}  \n",
    "func(l, m, n)\n"
   ]
  },
  {
   "cell_type": "code",
   "execution_count": 28,
   "metadata": {},
   "outputs": [],
   "source": [
    "def func(a, b, c): \n",
    "    ##print(\"Before\",a,b,c)\n",
    "    ##print(\"IDs\",id(a),id(b),id(c))\n",
    "    a = 2; b[0] = 'x'; c['a'] = 'y'\n",
    "    ##print(\"After\",a,b,c)\n",
    "    ##print(\"IDs After\",id(a),id(b),id(c))"
   ]
  },
  {
   "cell_type": "code",
   "execution_count": 30,
   "metadata": {},
   "outputs": [
    {
     "name": "stdout",
     "output_type": "stream",
     "text": [
      "Final: 1 ['x'] {'a': 'y'}\n"
     ]
    }
   ],
   "source": [
    "l=1\n",
    "m=[1]\n",
    "n={'a':0}\n",
    "##print(\"Func Call IDs\",id(l),id(m),id(n))\n",
    "func(l, m, n)\n",
    "##print(\"After Call IDs\",id(l),id(m),id(n))\n",
    "print(\"Final:\",l,m,n)\n",
    "## It will print 1 ['x'] {'a':'y'} as Integers are Immutable while list and dictionary are Mutable"
   ]
  }
 ],
 "metadata": {
  "kernelspec": {
   "display_name": "Python 3",
   "language": "python",
   "name": "python3"
  },
  "language_info": {
   "codemirror_mode": {
    "name": "ipython",
    "version": 3
   },
   "file_extension": ".py",
   "mimetype": "text/x-python",
   "name": "python",
   "nbconvert_exporter": "python",
   "pygments_lexer": "ipython3",
   "version": "3.8.5"
  }
 },
 "nbformat": 4,
 "nbformat_minor": 4
}
