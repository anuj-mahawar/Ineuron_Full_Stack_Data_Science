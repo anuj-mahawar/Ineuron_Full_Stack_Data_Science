{
 "cells": [
  {
   "cell_type": "markdown",
   "metadata": {},
   "source": [
    "## 1. Set the variable test1 to the string 'This is a test of the emergency text system,' and save test1 to a file named test.txt."
   ]
  },
  {
   "cell_type": "code",
   "execution_count": 1,
   "metadata": {},
   "outputs": [],
   "source": [
    "test1 = \"This is a test of the emergency text system\"\n",
    "with open(\"test.txt\",'w+') as f:\n",
    "    f.write(test1)"
   ]
  },
  {
   "cell_type": "markdown",
   "metadata": {},
   "source": [
    "## 2. Read the contents of the file test.txt into the variable test2. Is there a difference between test 1 and test 2?"
   ]
  },
  {
   "cell_type": "code",
   "execution_count": 2,
   "metadata": {},
   "outputs": [
    {
     "name": "stdout",
     "output_type": "stream",
     "text": [
      "This is a test of the emergency text system\n"
     ]
    }
   ],
   "source": [
    "with open(\"test.txt\",'r+') as f:\n",
    "    for test2 in f.readlines():\n",
    "        print(test2)"
   ]
  },
  {
   "cell_type": "markdown",
   "metadata": {},
   "source": [
    "## 3. Create a CSV file called books.csv by using these lines:\n",
    "title,author,year  \n",
    "The Weirdstone of Brisingamen,Alan Garner,1960  \n",
    "Perdido Street Station,China Miéville,2000  \n",
    "Thud!,Terry Pratchett,2005  \n",
    "The Spellman Files,Lisa Lutz,2007  \n",
    "Small Gods,Terry Pratchett,1992  "
   ]
  },
  {
   "cell_type": "code",
   "execution_count": 3,
   "metadata": {},
   "outputs": [],
   "source": [
    "import csv\n",
    "outputFile = open('books.csv', 'w', newline='')\n",
    "outputWriter = csv.writer(outputFile)\n",
    "outputWriter.writerow(['title','author','year'])\n",
    "outputWriter.writerow(['The Weirdstone of Brisingamen','Alan Garner','1960'])\n",
    "outputWriter.writerow(['Perdido Street Station','China Miéville','2000'])\n",
    "outputWriter.writerow(['Thud!','Terry Pratchett','2005'])\n",
    "outputWriter.writerow(['The Spellman Files','Lisa Lutz','2007'])\n",
    "outputWriter.writerow(['Small Gods','Terry Pratchett','1992'])\n",
    "outputFile.close()"
   ]
  },
  {
   "cell_type": "code",
   "execution_count": 4,
   "metadata": {},
   "outputs": [
    {
     "name": "stdout",
     "output_type": "stream",
     "text": [
      "Row #1 ['title', 'author', 'year']\n",
      "Row #2 ['The Weirdstone of Brisingamen', 'Alan Garner', '1960']\n",
      "Row #3 ['Perdido Street Station', 'China Miéville', '2000']\n",
      "Row #4 ['Thud!', 'Terry Pratchett', '2005']\n",
      "Row #5 ['The Spellman Files', 'Lisa Lutz', '2007']\n",
      "Row #6 ['Small Gods', 'Terry Pratchett', '1992']\n"
     ]
    }
   ],
   "source": [
    "import csv\n",
    "exampleFile = open('books.csv')\n",
    "exampleReader = csv.reader(exampleFile)\n",
    "for row in exampleReader:\n",
    "    print('Row #' + str(exampleReader.line_num) + ' ' + str(row))"
   ]
  },
  {
   "cell_type": "markdown",
   "metadata": {},
   "source": [
    "## 4. Use the sqlite3 module to create a SQLite database called books.db, and a table called books with these fields: title (text), author (text), and year (integer).\n",
    "## 5. Read books.csv and insert its data into the book table."
   ]
  },
  {
   "cell_type": "code",
   "execution_count": 55,
   "metadata": {},
   "outputs": [
    {
     "name": "stdout",
     "output_type": "stream",
     "text": [
      "Connection Opened Successfully\n",
      "Table created successfully\n",
      "('The Weirdstone of Brisingamen', 'Alan Garner', '1960')\n",
      "('Perdido Street Station', 'China Miéville', '2000')\n",
      "('Thud!', 'Terry Pratchett', '2005')\n",
      "('The Spellman Files', 'Lisa Lutz', '2007')\n",
      "('Small Gods', 'Terry Pratchett', '1992')\n",
      "Data Inserted successfully\n"
     ]
    }
   ],
   "source": [
    "import sqlite3\n",
    "\n",
    "conn = sqlite3.connect('books.db')\n",
    "print(\"Connection Opened Successfully\")\n",
    "cur = conn.cursor()\n",
    "cur.execute('''CREATE TABLE BOOKS\n",
    "         (TITLE CHAR(50),\n",
    "         AUTHOR CHAR(50),\n",
    "         YEAR   INT);''')\n",
    "print(\"Table created successfully\")\n",
    "with open('books.csv','r') as f:\n",
    "    # csv.DictReader uses first line in file for column headings by default\n",
    "    rec = csv.DictReader(f) # comma is default delimiter\n",
    "    for i in rec:\n",
    "        #print(i)\n",
    "        to_db = (i['title'], i['author'], i['year'])\n",
    "        print(to_db)\n",
    "        cur.execute(\"INSERT INTO BOOKS (title, author, year) VALUES (?, ?, ?);\", to_db)\n",
    "    ##to_db = [(i['title'], i['author'], i['year']) for i in rec]\n",
    "##print(to_db)\n",
    "\n",
    "print(\"Data Inserted successfully\")\n",
    "conn.commit()\n",
    "conn.close()"
   ]
  },
  {
   "cell_type": "markdown",
   "metadata": {},
   "source": [
    "## 6. Select and print the title column from the book table in alphabetical order."
   ]
  },
  {
   "cell_type": "code",
   "execution_count": 58,
   "metadata": {},
   "outputs": [
    {
     "name": "stdout",
     "output_type": "stream",
     "text": [
      "Opened database successfully\n",
      "TITLE =  Perdido Street Station\n",
      "TITLE =  Small Gods\n",
      "TITLE =  The Spellman Files\n",
      "TITLE =  The Weirdstone of Brisingamen\n",
      "TITLE =  Thud!\n",
      "Operation done successfully\n"
     ]
    }
   ],
   "source": [
    "import sqlite3\n",
    "\n",
    "conn = sqlite3.connect('books.db')\n",
    "print(\"Opened database successfully\")\n",
    "\n",
    "cursor = conn.execute(\"Select title from BOOKS order by title asc;\")\n",
    "for row in cursor:\n",
    "    print(\"TITLE = \", row[0])\n",
    "    ##print(\"\\n\")\n",
    "\n",
    "conn.commit()\n",
    "print(\"Operation done successfully\")\n",
    "conn.close()"
   ]
  },
  {
   "cell_type": "markdown",
   "metadata": {},
   "source": [
    "## 7. From the book table, select and print all columns in the order of publication."
   ]
  },
  {
   "cell_type": "code",
   "execution_count": 60,
   "metadata": {},
   "outputs": [
    {
     "name": "stdout",
     "output_type": "stream",
     "text": [
      "Opened database successfully\n",
      "TITLE =  The Weirdstone of Brisingamen\n",
      "Author =  Alan Garner\n",
      "Year =  1960\n",
      "\n",
      "\n",
      "TITLE =  Small Gods\n",
      "Author =  Terry Pratchett\n",
      "Year =  1992\n",
      "\n",
      "\n",
      "TITLE =  Perdido Street Station\n",
      "Author =  China Miéville\n",
      "Year =  2000\n",
      "\n",
      "\n",
      "TITLE =  Thud!\n",
      "Author =  Terry Pratchett\n",
      "Year =  2005\n",
      "\n",
      "\n",
      "TITLE =  The Spellman Files\n",
      "Author =  Lisa Lutz\n",
      "Year =  2007\n",
      "\n",
      "\n",
      "Operation done successfully\n"
     ]
    }
   ],
   "source": [
    "import sqlite3\n",
    "\n",
    "conn = sqlite3.connect('books.db')\n",
    "print(\"Opened database successfully\")\n",
    "\n",
    "cursor = conn.execute(\"Select * from BOOKS order by year asc;\")\n",
    "for row in cursor:\n",
    "    print(\"TITLE = \", row[0])\n",
    "    print(\"Author = \", row[1])\n",
    "    print(\"Year = \", row[2])\n",
    "    print(\"\\n\")\n",
    "\n",
    "conn.commit()\n",
    "print(\"Operation done successfully\")\n",
    "conn.close()"
   ]
  },
  {
   "cell_type": "markdown",
   "metadata": {},
   "source": [
    "## 8. Use the sqlalchemy module to connect to the sqlite3 database books.db that you just made in exercise 6."
   ]
  },
  {
   "cell_type": "code",
   "execution_count": 61,
   "metadata": {},
   "outputs": [
    {
     "name": "stdout",
     "output_type": "stream",
     "text": [
      "Engine(sqlite:///books.db)\n"
     ]
    },
    {
     "data": {
      "text/html": [
       "<div>\n",
       "<style scoped>\n",
       "    .dataframe tbody tr th:only-of-type {\n",
       "        vertical-align: middle;\n",
       "    }\n",
       "\n",
       "    .dataframe tbody tr th {\n",
       "        vertical-align: top;\n",
       "    }\n",
       "\n",
       "    .dataframe thead th {\n",
       "        text-align: right;\n",
       "    }\n",
       "</style>\n",
       "<table border=\"1\" class=\"dataframe\">\n",
       "  <thead>\n",
       "    <tr style=\"text-align: right;\">\n",
       "      <th></th>\n",
       "      <th>TITLE</th>\n",
       "      <th>AUTHOR</th>\n",
       "      <th>YEAR</th>\n",
       "    </tr>\n",
       "  </thead>\n",
       "  <tbody>\n",
       "    <tr>\n",
       "      <th>0</th>\n",
       "      <td>The Weirdstone of Brisingamen</td>\n",
       "      <td>Alan Garner</td>\n",
       "      <td>1960</td>\n",
       "    </tr>\n",
       "    <tr>\n",
       "      <th>1</th>\n",
       "      <td>Perdido Street Station</td>\n",
       "      <td>China Miéville</td>\n",
       "      <td>2000</td>\n",
       "    </tr>\n",
       "    <tr>\n",
       "      <th>2</th>\n",
       "      <td>Thud!</td>\n",
       "      <td>Terry Pratchett</td>\n",
       "      <td>2005</td>\n",
       "    </tr>\n",
       "    <tr>\n",
       "      <th>3</th>\n",
       "      <td>The Spellman Files</td>\n",
       "      <td>Lisa Lutz</td>\n",
       "      <td>2007</td>\n",
       "    </tr>\n",
       "    <tr>\n",
       "      <th>4</th>\n",
       "      <td>Small Gods</td>\n",
       "      <td>Terry Pratchett</td>\n",
       "      <td>1992</td>\n",
       "    </tr>\n",
       "  </tbody>\n",
       "</table>\n",
       "</div>"
      ],
      "text/plain": [
       "                           TITLE           AUTHOR  YEAR\n",
       "0  The Weirdstone of Brisingamen      Alan Garner  1960\n",
       "1         Perdido Street Station   China Miéville  2000\n",
       "2                          Thud!  Terry Pratchett  2005\n",
       "3             The Spellman Files        Lisa Lutz  2007\n",
       "4                     Small Gods  Terry Pratchett  1992"
      ]
     },
     "execution_count": 61,
     "metadata": {},
     "output_type": "execute_result"
    }
   ],
   "source": [
    "import sqlalchemy as sqla\n",
    "import pandas as pd\n",
    "db=sqla.create_engine('sqlite:///books.db')\n",
    "##print(db)\n",
    "pd.read_sql('select * from books',db)"
   ]
  }
 ],
 "metadata": {
  "kernelspec": {
   "display_name": "Python 3",
   "language": "python",
   "name": "python3"
  },
  "language_info": {
   "codemirror_mode": {
    "name": "ipython",
    "version": 3
   },
   "file_extension": ".py",
   "mimetype": "text/x-python",
   "name": "python",
   "nbconvert_exporter": "python",
   "pygments_lexer": "ipython3",
   "version": "3.8.5"
  }
 },
 "nbformat": 4,
 "nbformat_minor": 4
}
