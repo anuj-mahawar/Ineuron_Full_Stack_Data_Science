{
 "cells": [
  {
   "cell_type": "markdown",
   "id": "766d4a9e",
   "metadata": {},
   "source": [
    "## Question1\n",
    "Create a function that takes three integer arguments (a, b, c) and returns the amount of integers which are of equal value.  \n",
    "Examples  \n",
    "equal(3, 4, 3) ➞ 2  \n",
    "\n",
    "equal(1, 1, 1) ➞ 3  \n",
    "\n",
    "equal(3, 4, 1) ➞ 0  \n",
    "Notes  \n",
    "Your function must return 0, 2 or 3.\n"
   ]
  },
  {
   "cell_type": "code",
   "execution_count": 11,
   "id": "a62cf195",
   "metadata": {},
   "outputs": [],
   "source": [
    "def equal(a,b,c):\n",
    "    if (a == b and a == c) or (b == c and b == a) or (c == a and c == b):\n",
    "        return 3\n",
    "    elif a == b or a == c or b == a or b == c or c == a or c == b :\n",
    "        return 2\n",
    "    else :\n",
    "        return 0"
   ]
  },
  {
   "cell_type": "code",
   "execution_count": 14,
   "id": "1dedd070",
   "metadata": {},
   "outputs": [
    {
     "data": {
      "text/plain": [
       "2"
      ]
     },
     "execution_count": 14,
     "metadata": {},
     "output_type": "execute_result"
    }
   ],
   "source": [
    "equal(3,1,1)"
   ]
  },
  {
   "cell_type": "markdown",
   "id": "b488b524",
   "metadata": {},
   "source": [
    "## Question2\n",
    "Write a function that converts a dictionary into a list of keys-values tuples.  \n",
    "Examples  \n",
    "dict_to_list({\n",
    "  \"D\": 1,\n",
    "  \"B\": 2,\n",
    "  \"C\": 3\n",
    "}) ➞ [(\"B\", 2), (\"C\", 3), (\"D\", 1)]\n",
    "\n",
    "dict_to_list({\n",
    "  \"likes\": 2,\n",
    "  \"dislikes\": 3,\n",
    "  \"followers\": 10\n",
    "}) ➞ [(\"dislikes\", 3), (\"followers\", 10), (\"likes\", 2)]  \n",
    "Notes  \n",
    "Return the elements in the list in alphabetical order  \n"
   ]
  },
  {
   "cell_type": "code",
   "execution_count": 23,
   "id": "bd9100f6",
   "metadata": {},
   "outputs": [],
   "source": [
    "def dict_to_list(d):\n",
    "    s = []\n",
    "    for k,v in d.items():\n",
    "        a = k,v\n",
    "        s.append(a)      \n",
    "    return sorted(s)"
   ]
  },
  {
   "cell_type": "code",
   "execution_count": 24,
   "id": "c42ffa1f",
   "metadata": {},
   "outputs": [
    {
     "data": {
      "text/plain": [
       "[('B', 2), ('C', 3), ('D', 1)]"
      ]
     },
     "execution_count": 24,
     "metadata": {},
     "output_type": "execute_result"
    }
   ],
   "source": [
    "dict_to_list({ \"D\": 1, \"B\": 2, \"C\": 3 })"
   ]
  },
  {
   "cell_type": "code",
   "execution_count": 25,
   "id": "d58efbaf",
   "metadata": {},
   "outputs": [
    {
     "data": {
      "text/plain": [
       "[('dislikes', 3), ('followers', 10), ('likes', 2)]"
      ]
     },
     "execution_count": 25,
     "metadata": {},
     "output_type": "execute_result"
    }
   ],
   "source": [
    "dict_to_list({ \"likes\": 2, \"dislikes\": 3, \"followers\": 10 })"
   ]
  },
  {
   "cell_type": "markdown",
   "id": "e21907ac",
   "metadata": {},
   "source": [
    "## Question3\n",
    "Write a function that creates a dictionary with each (key, value) pair being the (lower case, upper case) versions of a letter, respectively.  \n",
    "Examples  \n",
    "mapping([\"p\", \"s\"]) ➞ { \"p\": \"P\", \"s\": \"S\" }  \n",
    "\n",
    "mapping([\"a\", \"b\", \"c\"]) ➞ { \"a\": \"A\", \"b\": \"B\", \"c\": \"C\" }  \n",
    "\n",
    "mapping([\"a\", \"v\", \"y\", \"z\"]) ➞ { \"a\": \"A\", \"v\": \"V\", \"y\": \"Y\", \"z\": \"Z\" }  \n",
    "Notes  \n",
    "All of the letters in the input list will always be lowercase  \n"
   ]
  },
  {
   "cell_type": "code",
   "execution_count": 26,
   "id": "577f1e16",
   "metadata": {},
   "outputs": [],
   "source": [
    "def mapping(l):\n",
    "    d = {}\n",
    "    for i in l:\n",
    "        d[i] = i.upper()\n",
    "    return d"
   ]
  },
  {
   "cell_type": "code",
   "execution_count": 27,
   "id": "65eb6d89",
   "metadata": {},
   "outputs": [
    {
     "data": {
      "text/plain": [
       "{'p': 'P', 's': 'S'}"
      ]
     },
     "execution_count": 27,
     "metadata": {},
     "output_type": "execute_result"
    }
   ],
   "source": [
    "mapping([\"p\", \"s\"])"
   ]
  },
  {
   "cell_type": "code",
   "execution_count": 28,
   "id": "612b78ec",
   "metadata": {},
   "outputs": [
    {
     "data": {
      "text/plain": [
       "{'a': 'A', 'v': 'V', 'y': 'Y', 'z': 'Z'}"
      ]
     },
     "execution_count": 28,
     "metadata": {},
     "output_type": "execute_result"
    }
   ],
   "source": [
    "mapping([\"a\", \"v\", \"y\", \"z\"])"
   ]
  },
  {
   "cell_type": "markdown",
   "id": "718892f7",
   "metadata": {},
   "source": [
    "## Question4\n",
    "Write a function, that replaces all vowels in a string with a specified vowel.  \n",
    "Examples  \n",
    "vow_replace(\"apples and bananas\", \"u\") ➞ \"upplus und bununus\"  \n",
    "\n",
    "vow_replace(\"cheese casserole\", \"o\") ➞ \"chooso cossorolo\"  \n",
    "\n",
    "vow_replace(\"stuffed jalapeno poppers\", \"e\") ➞ \"steffed jelepene peppers\"  \n",
    "Notes  \n",
    "All words will be lowercase. Y is not considered a vowel  \n"
   ]
  },
  {
   "cell_type": "code",
   "execution_count": 41,
   "id": "a7bcb832",
   "metadata": {},
   "outputs": [],
   "source": [
    "def vow_replace(s,x):\n",
    "    z = \"\"\n",
    "    for i in s:\n",
    "        if i in ('a','e','i','o','u'):\n",
    "            z = z + x\n",
    "        else :\n",
    "            z = z + i\n",
    "    return z"
   ]
  },
  {
   "cell_type": "code",
   "execution_count": 42,
   "id": "01bd33d9",
   "metadata": {},
   "outputs": [
    {
     "data": {
      "text/plain": [
       "'upplus und bununus'"
      ]
     },
     "execution_count": 42,
     "metadata": {},
     "output_type": "execute_result"
    }
   ],
   "source": [
    "vow_replace(\"apples and bananas\", \"u\")"
   ]
  },
  {
   "cell_type": "code",
   "execution_count": 43,
   "id": "00c8ade3",
   "metadata": {},
   "outputs": [
    {
     "data": {
      "text/plain": [
       "'chooso cossorolo'"
      ]
     },
     "execution_count": 43,
     "metadata": {},
     "output_type": "execute_result"
    }
   ],
   "source": [
    "vow_replace(\"cheese casserole\", \"o\")"
   ]
  },
  {
   "cell_type": "markdown",
   "id": "7fb12610",
   "metadata": {},
   "source": [
    "## Question5\n",
    "Create a function that takes a string as input and capitalizes a letter if its ASCII code is even and returns its lower case version if its ASCII code is odd.  \n",
    "Examples  \n",
    "ascii_capitalize(\"to be or not to be!\") ➞ \"To Be oR NoT To Be!\"  \n",
    "\n",
    "ascii_capitalize(\"THE LITTLE MERMAID\") ➞ \"THe LiTTLe meRmaiD\"  \n",
    "\n",
    "ascii_capitalize(\"Oh what a beautiful morning.\") ➞ \"oH wHaT a BeauTiFuL moRNiNg.\"  \n"
   ]
  },
  {
   "cell_type": "code",
   "execution_count": 50,
   "id": "58235a85",
   "metadata": {},
   "outputs": [],
   "source": [
    "def ascii_capitalize(s):\n",
    "    z = \"\"\n",
    "    for i in s:\n",
    "        if ord(i) % 2 == 0:\n",
    "            z = z + i.upper()\n",
    "        else :\n",
    "            z = z + i.lower()\n",
    "    return z"
   ]
  },
  {
   "cell_type": "code",
   "execution_count": 51,
   "id": "83eba6e2",
   "metadata": {},
   "outputs": [
    {
     "data": {
      "text/plain": [
       "'To Be oR NoT To Be!'"
      ]
     },
     "execution_count": 51,
     "metadata": {},
     "output_type": "execute_result"
    }
   ],
   "source": [
    "ascii_capitalize(\"to be or not to be!\")"
   ]
  },
  {
   "cell_type": "code",
   "execution_count": 52,
   "id": "c0b13307",
   "metadata": {},
   "outputs": [
    {
     "data": {
      "text/plain": [
       "'THe LiTTLe meRmaiD'"
      ]
     },
     "execution_count": 52,
     "metadata": {},
     "output_type": "execute_result"
    }
   ],
   "source": [
    "ascii_capitalize(\"THE LITTLE MERMAID\")"
   ]
  }
 ],
 "metadata": {
  "kernelspec": {
   "display_name": "Python 3",
   "language": "python",
   "name": "python3"
  },
  "language_info": {
   "codemirror_mode": {
    "name": "ipython",
    "version": 3
   },
   "file_extension": ".py",
   "mimetype": "text/x-python",
   "name": "python",
   "nbconvert_exporter": "python",
   "pygments_lexer": "ipython3",
   "version": "3.8.5"
  }
 },
 "nbformat": 4,
 "nbformat_minor": 5
}
