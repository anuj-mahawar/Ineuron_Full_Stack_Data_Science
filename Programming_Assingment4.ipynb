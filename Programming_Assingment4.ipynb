{
 "cells": [
  {
   "cell_type": "markdown",
   "metadata": {},
   "source": [
    "## 1.\tWrite a Python Program to Find the Factorial of a Number?"
   ]
  },
  {
   "cell_type": "code",
   "execution_count": 5,
   "metadata": {},
   "outputs": [
    {
     "name": "stdout",
     "output_type": "stream",
     "text": [
      "Enter any number: 5\n",
      "Factorial of 5 is 120\n"
     ]
    }
   ],
   "source": [
    "fact_input = input(\"Enter any number: \")\n",
    "total = 1\n",
    "if not fact_input.isdigit():\n",
    "    print(f'{fact_input} is not a digit')\n",
    "    fact_input = input(\"Try again\")\n",
    "else:\n",
    "    ##print(\"Here1\")\n",
    "    fact_1 = int(fact_input)\n",
    "    if fact_1 != 0 :\n",
    "        ##print(\"Here2\")\n",
    "        while fact_1 >= 1 :\n",
    "            total = total * (fact_1)\n",
    "            fact_1 -= 1\n",
    "        print(f\"Factorial of {fact_input} is {total}\")\n",
    "    else :\n",
    "        fact_1 = int(fact_input)\n",
    "        print(\"Factorial of 0 is 1\")"
   ]
  },
  {
   "cell_type": "markdown",
   "metadata": {},
   "source": [
    "## 2. Write a Python Program to Display the multiplication Table?"
   ]
  },
  {
   "cell_type": "code",
   "execution_count": 6,
   "metadata": {},
   "outputs": [
    {
     "name": "stdout",
     "output_type": "stream",
     "text": [
      "Enter any number between: 6\n",
      "=====================\n",
      "6 * 1 = 6\n",
      "6 * 2 = 12\n",
      "6 * 3 = 18\n",
      "6 * 4 = 24\n",
      "6 * 5 = 30\n",
      "6 * 6 = 36\n",
      "6 * 7 = 42\n",
      "6 * 8 = 48\n",
      "6 * 9 = 54\n",
      "6 * 10 = 60\n"
     ]
    }
   ],
   "source": [
    "table = input(\"Enter any number between: \")\n",
    "n = 1\n",
    "while (not table.isdigit()) :\n",
    "    print(\"Must be an integer \")\n",
    "    table = input(\"Please make selection: \")\n",
    "table = int(table)\n",
    "print(\"=====================\")\n",
    "while n <= 10:\n",
    "    print(\"{} * {} = {}\".format(table,n,table*n))\n",
    "    n += 1"
   ]
  },
  {
   "cell_type": "markdown",
   "metadata": {},
   "source": [
    "## 3.\tWrite a Python Program to Print the Fibonacci sequence?"
   ]
  },
  {
   "cell_type": "code",
   "execution_count": 11,
   "metadata": {},
   "outputs": [
    {
     "name": "stdout",
     "output_type": "stream",
     "text": [
      "Enter any number till which you want to print the Fibonacci series: 10\n",
      "The first 10 fibonacci numbers is:  0 1 1 2 3 5 8 13 21 34 "
     ]
    }
   ],
   "source": [
    "n = int(input(\"Enter any number till which you want to print the Fibonacci series: \"))\n",
    "a = 0\n",
    "b = 1\n",
    "fib_list = []\n",
    "for i in range(n):\n",
    "    fib_list.append(a)\n",
    "    ##print(\"a is earlier\",a)\n",
    "    ##print(\"b is earlier\",b)\n",
    "    a,b = b,a+b\n",
    "    ##print(\"a is now\",a)\n",
    "    ##print(\"b is now\",b)\n",
    "print(f\"The first {n} fibonacci numbers is: \",end=\" \")\n",
    "for i in fib_list:\n",
    "    print(i,end=\" \")"
   ]
  },
  {
   "cell_type": "markdown",
   "metadata": {},
   "source": [
    "## 4.\tWrite a Python Program to Check Armstrong Number?"
   ]
  },
  {
   "cell_type": "code",
   "execution_count": 20,
   "metadata": {},
   "outputs": [
    {
     "name": "stdout",
     "output_type": "stream",
     "text": [
      "Enter any number to check if its a Armstrong number: 153\n",
      "Number is Armstrong\n"
     ]
    }
   ],
   "source": [
    "x = int(input(\"Enter any number to check if its a Armstrong number: \"))\n",
    "\n",
    "cube_total = 0\n",
    "n = x ## storing it in a different variable to check \n",
    "while n >= 1 :\n",
    "    modulus = int(n % 10)\n",
    "    #print(modulus)\n",
    "    cube_total += modulus ** 3\n",
    "    n = n / 10\n",
    "#print(cube_total)\n",
    "if x == cube_total:\n",
    "    print('Number is Armstrong')\n",
    "else:\n",
    "    print('Number is Not Armstrong')\n",
    "    \n",
    "    "
   ]
  },
  {
   "cell_type": "markdown",
   "metadata": {},
   "source": [
    "## 5.\tWrite a Python Program to Find Armstrong Number in an Interval?"
   ]
  },
  {
   "cell_type": "code",
   "execution_count": 31,
   "metadata": {},
   "outputs": [
    {
     "name": "stdout",
     "output_type": "stream",
     "text": [
      "Enter Lower Bound for the interval: 100\n",
      "Enter Upper Bound for the interval: 500\n",
      " \n",
      "153 Number is Armstrong\n",
      " \n",
      "370 Number is Armstrong\n",
      " \n",
      "371 Number is Armstrong\n",
      " \n",
      "407 Number is Armstrong\n"
     ]
    }
   ],
   "source": [
    "lower_bound = int(input(\"Enter Lower Bound for the interval: \"))\n",
    "upper_bound = int(input(\"Enter Upper Bound for the interval: \"))\n",
    "for i in range(lower_bound,upper_bound+1):\n",
    "    cube_total = 0\n",
    "    n = i ## storing it in a different variable to check \n",
    "    while n >= 1 :\n",
    "        modulus = int(n % 10)\n",
    "        #print(modulus)\n",
    "        cube_total += modulus ** 3\n",
    "        n = n / 10\n",
    "    #print(cube_total)\n",
    "    if i == cube_total:\n",
    "        print(' ')\n",
    "        print(f'{i} Number is Armstrong')\n"
   ]
  },
  {
   "cell_type": "markdown",
   "metadata": {},
   "source": [
    "## 6.\tWrite a Python Program to Find the Sum of Natural Numbers?"
   ]
  },
  {
   "cell_type": "code",
   "execution_count": 33,
   "metadata": {},
   "outputs": [
    {
     "name": "stdout",
     "output_type": "stream",
     "text": [
      "Enter Upper Bound for the Natural Number: 10\n",
      "Sum of First 10 Natural Numbers is: 55\n"
     ]
    }
   ],
   "source": [
    "upper_bound = int(input(\"Enter Upper Bound for the Natural Number: \"))\n",
    "sum = 0\n",
    "for i in range(1,upper_bound+1):\n",
    "    sum += i\n",
    "print(f'Sum of First {upper_bound} Natural Numbers is: {sum}')"
   ]
  }
 ],
 "metadata": {
  "kernelspec": {
   "display_name": "Python 3",
   "language": "python",
   "name": "python3"
  },
  "language_info": {
   "codemirror_mode": {
    "name": "ipython",
    "version": 3
   },
   "file_extension": ".py",
   "mimetype": "text/x-python",
   "name": "python",
   "nbconvert_exporter": "python",
   "pygments_lexer": "ipython3",
   "version": "3.8.5"
  }
 },
 "nbformat": 4,
 "nbformat_minor": 4
}
