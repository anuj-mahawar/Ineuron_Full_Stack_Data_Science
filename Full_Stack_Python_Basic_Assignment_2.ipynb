{
 "cells": [
  {
   "cell_type": "markdown",
   "metadata": {},
   "source": [
    "### 1. What are the Boolean data type's two values? How do you go about writing them?"
   ]
  },
  {
   "cell_type": "code",
   "execution_count": 1,
   "metadata": {},
   "outputs": [
    {
     "name": "stdout",
     "output_type": "stream",
     "text": [
      "Two boolean values are True and False\n"
     ]
    }
   ],
   "source": [
    "bool1 = True\n",
    "bool2 = False\n",
    "print(\"Two boolean values are {} and {}\".format(bool1,bool2))"
   ]
  },
  {
   "cell_type": "markdown",
   "metadata": {},
   "source": [
    "### 2. What are the three different types of Boolean operators?"
   ]
  },
  {
   "cell_type": "code",
   "execution_count": 5,
   "metadata": {},
   "outputs": [
    {
     "name": "stdout",
     "output_type": "stream",
     "text": [
      "1st Boolean Operator - 'AND' operator\n",
      "2nd Boolean Operator - 'OR' operator\n",
      "3rd Boolean Operator - 'NOT' operator\n"
     ]
    }
   ],
   "source": [
    "x = 100\n",
    "y = 200\n",
    "z = 500\n",
    "if x > 10 and y > 100:\n",
    "    print(\"1st Boolean Operator - 'AND' operator\")\n",
    "\n",
    "if x >200 or z > 100:\n",
    "    print(\"2nd Boolean Operator - 'OR' operator\")\n",
    "\n",
    "if not(z < 100):\n",
    "    print(\"3rd Boolean Operator - 'NOT' operator\")"
   ]
  },
  {
   "cell_type": "markdown",
   "metadata": {},
   "source": [
    "### 3. Make a list of each Boolean operator's truth tables (i.e. every possible combination of Boolean values for the operator and what it evaluate )."
   ]
  },
  {
   "cell_type": "code",
   "execution_count": 9,
   "metadata": {},
   "outputs": [
    {
     "name": "stdout",
     "output_type": "stream",
     "text": [
      "+-----+-----+-----+\n",
      "|  p  |  q  |  r  |\n",
      "|-----+-----+-----|\n",
      "|  1  |  1  |  1  |\n",
      "|  1  |  1  |  0  |\n",
      "|  1  |  0  |  1  |\n",
      "|  1  |  0  |  0  |\n",
      "|  0  |  1  |  1  |\n",
      "|  0  |  1  |  0  |\n",
      "|  0  |  0  |  1  |\n",
      "|  0  |  0  |  0  |\n",
      "+-----+-----+-----+\n"
     ]
    }
   ],
   "source": [
    "import ttg\n",
    "print(ttg.Truths(['p','q','r']))"
   ]
  },
  {
   "cell_type": "code",
   "execution_count": 11,
   "metadata": {},
   "outputs": [
    {
     "name": "stdout",
     "output_type": "stream",
     "text": [
      "+-----+-----+-----+-----------------+---------------+---------------+\n",
      "|  p  |  q  |  r  |  p and q and r  |  p or q or r  |  (p or (~q))  |\n",
      "|-----+-----+-----+-----------------+---------------+---------------|\n",
      "|  1  |  1  |  1  |        1        |       1       |       1       |\n",
      "|  1  |  1  |  0  |        0        |       1       |       1       |\n",
      "|  1  |  0  |  1  |        0        |       1       |       1       |\n",
      "|  1  |  0  |  0  |        0        |       1       |       1       |\n",
      "|  0  |  1  |  1  |        0        |       1       |       0       |\n",
      "|  0  |  1  |  0  |        0        |       1       |       0       |\n",
      "|  0  |  0  |  1  |        0        |       1       |       1       |\n",
      "|  0  |  0  |  0  |        0        |       0       |       1       |\n",
      "+-----+-----+-----+-----------------+---------------+---------------+\n"
     ]
    }
   ],
   "source": [
    "print(ttg.Truths(['p', 'q', 'r'], ['p and q and r', 'p or q or r', '(p or (~q))']))"
   ]
  },
  {
   "cell_type": "markdown",
   "metadata": {},
   "source": [
    "### 4. What are the values of the following expressions?\n",
    "\n",
    "- (5 > 4) and (3 == 5)\n",
    "- not (5 > 4)\n",
    "- (5 > 4) or (3 == 5)\n",
    "- not ((5 > 4) or (3 == 5))\n",
    "- (True and True) and (True == False)\n",
    "- (not False) or (not True)\n"
   ]
  },
  {
   "cell_type": "code",
   "execution_count": 17,
   "metadata": {},
   "outputs": [
    {
     "name": "stdout",
     "output_type": "stream",
     "text": [
      "False\n",
      "False\n",
      "True\n",
      "False\n",
      "False\n",
      "True\n"
     ]
    }
   ],
   "source": [
    "print((5 > 4) and (3 == 5))\n",
    "print(not (5>4))\n",
    "print((5 > 4) or (3 == 5))\n",
    "print(not ((5 > 4) or (3 == 5)))\n",
    "print((True and True) and (True == False))\n",
    "print((not False) or (not True))"
   ]
  },
  {
   "cell_type": "markdown",
   "metadata": {},
   "source": [
    "### 5. What are the six different types of reference operators?"
   ]
  },
  {
   "cell_type": "code",
   "execution_count": 22,
   "metadata": {},
   "outputs": [
    {
     "name": "stdout",
     "output_type": "stream",
     "text": [
      "1st Operator '==' : True\n",
      "2nd Operator '!=' : False\n",
      "3rd Operator '>=' : True\n",
      "4th Operator '<=' : False\n",
      "5th Operator '>' : False\n",
      "6th Operator '<' : False\n"
     ]
    }
   ],
   "source": [
    "a = 5\n",
    "b = 10\n",
    "x = 10/2\n",
    "y = 100\n",
    "print(\"1st Operator '==' :\",a==x)\n",
    "print(\"2nd Operator '!=' :\",a==b)\n",
    "print(\"3rd Operator '>=' :\",y>=x)\n",
    "print(\"4th Operator '<=' :\",a==b)\n",
    "print(\"5th Operator '>' :\",a>y)\n",
    "print(\"6th Operator '<' :\",y<x)"
   ]
  },
  {
   "cell_type": "markdown",
   "metadata": {},
   "source": [
    "### 6. How do you tell the difference between the equal to and assignment operators?"
   ]
  },
  {
   "cell_type": "code",
   "execution_count": 26,
   "metadata": {},
   "outputs": [
    {
     "name": "stdout",
     "output_type": "stream",
     "text": [
      "'=' is an assignment operator as 5 value is assigned to a: 5\n",
      "'==' is an equal to operator:  True\n",
      "Also, == operator can be used for conditional statements while = can not be used\n"
     ]
    }
   ],
   "source": [
    "a = 5\n",
    "b = 20/4\n",
    "print(\"'=' is an assignment operator as 5 value is assigned to a:\",a)\n",
    "print(\"'==' is an equal to operator: \",a==b)\n",
    "print('Also, == operator can be used for conditional statements while = can not be used')"
   ]
  },
  {
   "cell_type": "markdown",
   "metadata": {},
   "source": [
    "### 7. Describe a condition and when you would use one"
   ]
  },
  {
   "cell_type": "markdown",
   "metadata": {},
   "source": [
    "- When we want to check a condition we can use conditional statements </br>\n",
    "- e.g. print hellow world when the condition is true other wise not"
   ]
  },
  {
   "cell_type": "code",
   "execution_count": 27,
   "metadata": {},
   "outputs": [
    {
     "name": "stdout",
     "output_type": "stream",
     "text": [
      "Hello World\n"
     ]
    }
   ],
   "source": [
    "x = 20\n",
    "y = True\n",
    "if x > 10 and y:\n",
    "    print(\"Hello World\")\n",
    "else:\n",
    "    print(\"Condition is false\")"
   ]
  },
  {
   "cell_type": "markdown",
   "metadata": {},
   "source": [
    "### 8. Recognize the following three blocks in this code:\n",
    "\n",
    "- only last spam is printed as the first if condition was not true"
   ]
  },
  {
   "cell_type": "code",
   "execution_count": 28,
   "metadata": {},
   "outputs": [
    {
     "name": "stdout",
     "output_type": "stream",
     "text": [
      "Last spam\n"
     ]
    }
   ],
   "source": [
    "spam = 0\n",
    "if spam == 10:\n",
    "    print('eggs')\n",
    "    if spam > 5:\n",
    "        print('bacon')\n",
    "    else:\n",
    "        print('ham')\n",
    "    print('spam')\n",
    "print('Last spam')\n"
   ]
  },
  {
   "cell_type": "markdown",
   "metadata": {},
   "source": [
    "### 9. Create a programme that prints. If 1 is stored in spam, prints Hello; if 2 is stored in spam, prints Howdy; and if 3 is stored in spam, prints Salutations! if there's something else in spam."
   ]
  },
  {
   "cell_type": "code",
   "execution_count": 29,
   "metadata": {},
   "outputs": [
    {
     "name": "stdout",
     "output_type": "stream",
     "text": [
      "Hello\n"
     ]
    }
   ],
   "source": [
    "spam = 1\n",
    "if spam == 1:\n",
    "    print(\"Hello\")\n",
    "elif spam == 2:\n",
    "    print(\"Howdy\")\n",
    "elif spam == 3:\n",
    "    print(\"Salutations\")\n",
    "else:\n",
    "    print('spam')"
   ]
  },
  {
   "cell_type": "markdown",
   "metadata": {},
   "source": [
    "### 10.If your programme is stuck in an endless loop, what keys can you press?"
   ]
  },
  {
   "cell_type": "markdown",
   "metadata": {},
   "source": [
    "- We can press Control+C to stop the endless loop"
   ]
  },
  {
   "cell_type": "markdown",
   "metadata": {},
   "source": [
    "### 11. How can you tell the difference between break and continue?"
   ]
  },
  {
   "cell_type": "code",
   "execution_count": 39,
   "metadata": {},
   "outputs": [
    {
     "name": "stdout",
     "output_type": "stream",
     "text": [
      "out of the loop\n"
     ]
    }
   ],
   "source": [
    "## Break will throw the control out of the conditional statement.\n",
    "a = 10\n",
    "\n",
    "while a < 20:\n",
    "    break\n",
    "print('out of the loop')"
   ]
  },
  {
   "cell_type": "code",
   "execution_count": 45,
   "metadata": {},
   "outputs": [
    {
     "name": "stdout",
     "output_type": "stream",
     "text": [
      "Ieuro\n"
     ]
    }
   ],
   "source": [
    "## Continue will pass the control back to the conditional statement\n",
    "str1 = \"Ineuron\"\n",
    "op = \"\"\n",
    "for i in str1:\n",
    "    if i == 'n':\n",
    "        continue\n",
    "    else:\n",
    "        op += i\n",
    "print(op)"
   ]
  },
  {
   "cell_type": "markdown",
   "metadata": {},
   "source": [
    "### 12. In a for loop, what is the difference between range(10), range(0, 10), and range(0, 10, 1)?"
   ]
  },
  {
   "cell_type": "markdown",
   "metadata": {},
   "source": [
    "- No Difference is there between range(10), range(0, 10), and range(0, 10, 1)"
   ]
  },
  {
   "cell_type": "code",
   "execution_count": 51,
   "metadata": {},
   "outputs": [
    {
     "name": "stdout",
     "output_type": "stream",
     "text": [
      "0 1 2 3 4 5 6 7 8 9 \n",
      "0 1 2 3 4 5 6 7 8 9 \n",
      "0 1 2 3 4 5 6 7 8 9 \n"
     ]
    }
   ],
   "source": [
    "## range(10)\n",
    "\n",
    "for i in range(10):\n",
    "    print(i,end=\" \")\n",
    "print()\n",
    "## range(0,10)\n",
    "for i in range(0,10):\n",
    "    print(i,end=\" \")\n",
    "print()\n",
    "## range(0,10,1)    \n",
    "for i in range(0,10,1):\n",
    "    print(i,end=\" \")\n",
    "print()"
   ]
  },
  {
   "cell_type": "markdown",
   "metadata": {},
   "source": [
    "### 13. Using a for loop, write a short programme that prints the numbers 1 to 10 Then, using a while loop, create an identical programme that prints the numbers 1 to 10."
   ]
  },
  {
   "cell_type": "code",
   "execution_count": 52,
   "metadata": {},
   "outputs": [
    {
     "name": "stdout",
     "output_type": "stream",
     "text": [
      "Using For loop-----------------\n",
      "0 1 2 3 4 5 6 7 8 9 10 \n",
      "Using While Loop----------------\n",
      "0 1 2 3 4 5 6 7 8 9 10 "
     ]
    }
   ],
   "source": [
    "print(\"Using For loop-----------------\")\n",
    "for i in range(0,11):\n",
    "    print(i,end=\" \")\n",
    "print()\n",
    "\n",
    "print(\"Using While Loop----------------\")\n",
    "x = 0\n",
    "while x <= 10:    \n",
    "    print(x,end=\" \")\n",
    "    x += 1    "
   ]
  },
  {
   "cell_type": "markdown",
   "metadata": {},
   "source": [
    "### 14. If you had a bacon() function within a spam module, what would you call it after importing spam?"
   ]
  },
  {
   "cell_type": "markdown",
   "metadata": {},
   "source": [
    " - from spam import bacon\n",
    " - spam.bacon()"
   ]
  }
 ],
 "metadata": {
  "kernelspec": {
   "display_name": "Python 3",
   "language": "python",
   "name": "python3"
  },
  "language_info": {
   "codemirror_mode": {
    "name": "ipython",
    "version": 3
   },
   "file_extension": ".py",
   "mimetype": "text/x-python",
   "name": "python",
   "nbconvert_exporter": "python",
   "pygments_lexer": "ipython3",
   "version": "3.8.5"
  }
 },
 "nbformat": 4,
 "nbformat_minor": 4
}
