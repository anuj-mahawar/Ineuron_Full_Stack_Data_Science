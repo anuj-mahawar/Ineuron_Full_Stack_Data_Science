{
 "cells": [
  {
   "cell_type": "markdown",
   "metadata": {},
   "source": [
    "## 1.\tWrite a Python program to Extract Unique values dictionary values?"
   ]
  },
  {
   "cell_type": "code",
   "execution_count": 7,
   "metadata": {},
   "outputs": [
    {
     "name": "stdout",
     "output_type": "stream",
     "text": [
      "Unique Values in Dictionay are:  fish\n",
      "Unique Values in Dictionay are:  11\n",
      "Unique Values in Dictionay are:  elephant\n",
      "Unique Values in Dictionay are:  44\n",
      "Unique Values in Dictionay are:  22\n"
     ]
    }
   ],
   "source": [
    "d = {'a':11,'b':11,'c':22,'d':44,'e':'elephant','f':'fish'}\n",
    "l = []\n",
    "for v in d.values():\n",
    "    l.append(v)\n",
    "s = set(l)\n",
    "for i in s:\n",
    "    print('Unique Values in Dictionay are: ',i)"
   ]
  },
  {
   "cell_type": "markdown",
   "metadata": {},
   "source": [
    "## 2.\tWrite a Python program to find the sum of all items in a dictionary?"
   ]
  },
  {
   "cell_type": "code",
   "execution_count": 17,
   "metadata": {},
   "outputs": [
    {
     "name": "stdout",
     "output_type": "stream",
     "text": [
      "Sum of All Items in Dictionay:  88\n"
     ]
    }
   ],
   "source": [
    "d = {'a':11,'b':11,'c':22,'d':44,'e':'elephant','f':'fish'}\n",
    "l = []\n",
    "for v in d.values():\n",
    "    #print(type(v))\n",
    "    if type(v) == int:\n",
    "        #print('here')\n",
    "        l.append(v)\n",
    "print('Sum of All Items in Dictionay: ',sum(l))"
   ]
  },
  {
   "cell_type": "markdown",
   "metadata": {},
   "source": [
    "## 3.\tWrite a Python program to Merging two Dictionaries?"
   ]
  },
  {
   "cell_type": "code",
   "execution_count": 21,
   "metadata": {},
   "outputs": [
    {
     "name": "stdout",
     "output_type": "stream",
     "text": [
      "Key:  a Value:  11\n",
      "Key:  b Value:  11\n",
      "Key:  c Value:  22\n",
      "Key:  d Value:  44\n",
      "Key:  e Value:  elephant\n",
      "Key:  f Value:  fish\n",
      "Key:  g Value:  99\n",
      "Key:  h Value:  howdy\n",
      "Key:  i Value:  109\n"
     ]
    }
   ],
   "source": [
    "z = {'g':99,'h':'howdy','i':109}\n",
    "d.update(z)\n",
    "for k,v in d.items():\n",
    "    print(\"Key: \",k,\"Value: \",v)"
   ]
  },
  {
   "cell_type": "markdown",
   "metadata": {},
   "source": [
    "## 4.\tWrite a Python program to convert key-values list to flat dictionary?"
   ]
  },
  {
   "cell_type": "code",
   "execution_count": 33,
   "metadata": {},
   "outputs": [
    {
     "name": "stdout",
     "output_type": "stream",
     "text": [
      "{'a': 'apple', 'b': 'ball', 'c': 11, 'd': True}\n"
     ]
    }
   ],
   "source": [
    "l = ['a','apple','b','ball','c',11,'d',True]\n",
    "d = {l[i]: l[i+1] for i in range(0,len(l),2)}\n",
    "print(d)"
   ]
  },
  {
   "cell_type": "code",
   "execution_count": 50,
   "metadata": {},
   "outputs": [
    {
     "name": "stdout",
     "output_type": "stream",
     "text": [
      "{'Jan': 1, 'Feb': 2, 'Mar': 3}\n"
     ]
    }
   ],
   "source": [
    "d = {'month':['Jan','Feb','Mar'],\n",
    "      'num': [1,2,3]}\n",
    "\n",
    "#print(d)\n",
    "## Flattening the List\n",
    "res = dict(zip(d['month'], d['num']))\n",
    "print(res)"
   ]
  },
  {
   "cell_type": "markdown",
   "metadata": {},
   "source": [
    "## 5.\tWrite a Python program to insertion at the beginning in OrderedDict?"
   ]
  },
  {
   "cell_type": "code",
   "execution_count": 57,
   "metadata": {},
   "outputs": [
    {
     "name": "stdout",
     "output_type": "stream",
     "text": [
      "Before---->\n",
      "Ordered Dict\n",
      "a : 1\n",
      "b : 2\n",
      "c : 3\n",
      "After--->\n",
      "z : 1\n",
      "b : 2\n",
      "c : 3\n"
     ]
    }
   ],
   "source": [
    "from collections import OrderedDict\n",
    "\n",
    "od = OrderedDict()\n",
    "od['a'] = 1\n",
    "od['b'] = 2\n",
    "od['c'] = 3\n",
    "print('Before---->')\n",
    "print('Ordered Dict')\n",
    "for k,v in od.items():\n",
    "    print(k,':',v)\n",
    "od.pop('a')\n",
    "print('After--->')\n",
    "od.update({'z' : 1})\n",
    "od.move_to_end('z',last=False)\n",
    "for k,v in od.items():\n",
    "    print(k,':',v)"
   ]
  },
  {
   "cell_type": "markdown",
   "metadata": {},
   "source": [
    "## 6.\tWrite a Python program to check order of character in string using OrderedDict()?"
   ]
  },
  {
   "cell_type": "code",
   "execution_count": 98,
   "metadata": {},
   "outputs": [
    {
     "name": "stdout",
     "output_type": "stream",
     "text": [
      "Order is Correct\n"
     ]
    }
   ],
   "source": [
    "from collections import OrderedDict\n",
    "\n",
    "od = {}\n",
    "usr_input = \"Inueron rock\"\n",
    "pattern = \"nu\"\n",
    "ptrlen = 0\n",
    "res = False\n",
    "od =OrderedDict.fromkeys(usr_input)\n",
    "#print(od)\n",
    "\n",
    "for key,value in od.items():\n",
    "    #print(key)\n",
    "    #print(pattern[ptrlen])\n",
    "    if (key == pattern[ptrlen]):\n",
    "        #print('Here')\n",
    "        ptrlen += 1\n",
    "        #print(ptrlen)\n",
    "    \n",
    "    if ptrlen == len(pattern):\n",
    "        res = True\n",
    "        break\n",
    "if res == False:\n",
    "    print('Order is Incorrect')\n",
    "else:\n",
    "    print('Order is Correct')"
   ]
  },
  {
   "cell_type": "markdown",
   "metadata": {},
   "source": [
    "## 7.\tWrite a Python program to sort Python Dictionaries by Key or Value?"
   ]
  },
  {
   "cell_type": "code",
   "execution_count": 107,
   "metadata": {},
   "outputs": [
    {
     "name": "stdout",
     "output_type": "stream",
     "text": [
      "{12: 56, 1: 2, 55: 12, 42: 24, 16: 18, 3: 323}\n",
      "Sorting based on Keys---->\n",
      "1 : 2\n",
      "3 : 323\n",
      "12 : 56\n",
      "16 : 18\n",
      "42 : 24\n",
      "55 : 12\n"
     ]
    }
   ],
   "source": [
    "key_value = {}\n",
    "key_value[12] = 56       \n",
    "key_value[1] = 2 \n",
    "key_value[55] = 12 \n",
    "key_value[42] = 24\n",
    "key_value[16] = 18      \n",
    "key_value[3] = 323\n",
    "print(key_value)\n",
    "print('Sorting based on Keys---->')\n",
    "for k in sorted(key_value.keys()):\n",
    "    print(k,':',key_value[k])"
   ]
  },
  {
   "cell_type": "code",
   "execution_count": 114,
   "metadata": {},
   "outputs": [
    {
     "name": "stdout",
     "output_type": "stream",
     "text": [
      "{12: 56, 1: 2, 55: 12, 42: 24, 16: 18, 3: 323}\n",
      "Sorting based on Values---->\n",
      "1 : 2\n",
      "55 : 12\n",
      "16 : 18\n",
      "42 : 24\n",
      "12 : 56\n",
      "3 : 323\n"
     ]
    }
   ],
   "source": [
    "key_value = {}\n",
    "key_value[12] = 56       \n",
    "key_value[1] = 2 \n",
    "key_value[55] = 12 \n",
    "key_value[42] = 24\n",
    "key_value[16] = 18      \n",
    "key_value[3] = 323\n",
    "print(key_value)\n",
    "print('Sorting based on Values---->')\n",
    "for v in sorted(key_value.values()):\n",
    "    #print(v)\n",
    "    for k,val in key_value.items():\n",
    "        if v == val:\n",
    "            print(k,':',v)"
   ]
  }
 ],
 "metadata": {
  "kernelspec": {
   "display_name": "Python 3",
   "language": "python",
   "name": "python3"
  },
  "language_info": {
   "codemirror_mode": {
    "name": "ipython",
    "version": 3
   },
   "file_extension": ".py",
   "mimetype": "text/x-python",
   "name": "python",
   "nbconvert_exporter": "python",
   "pygments_lexer": "ipython3",
   "version": "3.8.5"
  }
 },
 "nbformat": 4,
 "nbformat_minor": 4
}
