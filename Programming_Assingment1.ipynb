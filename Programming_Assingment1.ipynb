{
 "cells": [
  {
   "cell_type": "markdown",
   "metadata": {},
   "source": [
    "## 1.\tWrite a Python program to print \"Hello Python\"?"
   ]
  },
  {
   "cell_type": "code",
   "execution_count": 1,
   "metadata": {},
   "outputs": [],
   "source": [
    "def printf():\n",
    "    return \"Hello Python\""
   ]
  },
  {
   "cell_type": "code",
   "execution_count": 2,
   "metadata": {},
   "outputs": [
    {
     "data": {
      "text/plain": [
       "'Hello Python'"
      ]
     },
     "execution_count": 2,
     "metadata": {},
     "output_type": "execute_result"
    }
   ],
   "source": [
    "printf()"
   ]
  },
  {
   "cell_type": "markdown",
   "metadata": {},
   "source": [
    "## 2.\tWrite a Python program to do arithmetical operations addition and division.?"
   ]
  },
  {
   "cell_type": "code",
   "execution_count": 8,
   "metadata": {},
   "outputs": [],
   "source": [
    "def arithmetic_op(num1,num2,operator):\n",
    "    if operator == '+':\n",
    "        return num1+num2\n",
    "    elif operator == '/':\n",
    "        if num2 == 0:\n",
    "            return \"Can not divide by 0\"\n",
    "        else:\n",
    "            return num1/num2"
   ]
  },
  {
   "cell_type": "code",
   "execution_count": 13,
   "metadata": {},
   "outputs": [
    {
     "name": "stdout",
     "output_type": "stream",
     "text": [
      "Enter First Number: 8\n",
      "Enter Second Number: 0\n",
      "Choose Operator:- + or / : /\n"
     ]
    },
    {
     "data": {
      "text/plain": [
       "'Can not divide by 0'"
      ]
     },
     "execution_count": 13,
     "metadata": {},
     "output_type": "execute_result"
    }
   ],
   "source": [
    "num1 = float(input(\"Enter First Number: \"))\n",
    "num2 = float(input(\"Enter Second Number: \"))\n",
    "operator = input('Choose Operator:- + or / : ')\n",
    "arithmetic_op(num1,num2,operator)"
   ]
  },
  {
   "cell_type": "code",
   "execution_count": 14,
   "metadata": {},
   "outputs": [
    {
     "name": "stdout",
     "output_type": "stream",
     "text": [
      "Enter First Number: 9\n",
      "Enter Second Number: 18\n",
      "Choose Operator:- + or / : +\n"
     ]
    },
    {
     "data": {
      "text/plain": [
       "27.0"
      ]
     },
     "execution_count": 14,
     "metadata": {},
     "output_type": "execute_result"
    }
   ],
   "source": [
    "num1 = float(input(\"Enter First Number: \"))\n",
    "num2 = float(input(\"Enter Second Number: \"))\n",
    "operator = input('Choose Operator:- + or / : ')\n",
    "arithmetic_op(num1,num2,operator)"
   ]
  },
  {
   "cell_type": "markdown",
   "metadata": {},
   "source": [
    "## 3.\tWrite a Python program to find the area of a triangle?"
   ]
  },
  {
   "cell_type": "code",
   "execution_count": 27,
   "metadata": {},
   "outputs": [],
   "source": [
    "import numpy as np\n",
    "def area_of_triangle_with_3_sides(a,b,c):\n",
    "    s = (a+b+c)/2\n",
    "    temp = s*(s-a)*(s-b)*(s-c)\n",
    "    area = np.sqrt(temp)\n",
    "    return area"
   ]
  },
  {
   "cell_type": "code",
   "execution_count": 32,
   "metadata": {},
   "outputs": [
    {
     "name": "stdout",
     "output_type": "stream",
     "text": [
      "Enter First Side: 5\n",
      "Enter Second Side: 5\n",
      "Enter Third Side: 5\n",
      "Area of Triangle with 3 sides -  5.0 , 5.0 , and  5.0 is:  10.825317547305483\n"
     ]
    }
   ],
   "source": [
    "a = float(input(\"Enter First Side: \"))\n",
    "b = float(input(\"Enter Second Side: \"))\n",
    "c = float(input(\"Enter Third Side: \"))\n",
    "print(\"Area of Triangle with 3 sides - \",a,\",\",b,\", and \",c,\"is: \",area_of_triangle_with_3_sides(a,b,c))"
   ]
  },
  {
   "cell_type": "markdown",
   "metadata": {},
   "source": [
    "## 4.\tWrite a Python program to swap two variables?"
   ]
  },
  {
   "cell_type": "code",
   "execution_count": 33,
   "metadata": {},
   "outputs": [],
   "source": [
    "def swap(a,b): \n",
    "    a = a+b  \n",
    "    b = a-b \n",
    "    a = a-b \n",
    "    return a,b"
   ]
  },
  {
   "cell_type": "code",
   "execution_count": 38,
   "metadata": {},
   "outputs": [
    {
     "name": "stdout",
     "output_type": "stream",
     "text": [
      "Enter First Num: 5\n",
      "Enter Second Num: 3\n",
      "Before swapping, a:  5.0  and b:  3.0\n",
      "After swapping, a:  3.0  and b:  5.0\n"
     ]
    }
   ],
   "source": [
    "num1 = float(input(\"Enter First Num: \"))\n",
    "num2 = float(input(\"Enter Second Num: \"))\n",
    "print(\"Before swapping, a: \",num1,\" and b: \",num2)\n",
    "num1,num2 = swap(num1,num2)\n",
    "print(\"After swapping, a: \",num1,\" and b: \",num2)"
   ]
  },
  {
   "cell_type": "markdown",
   "metadata": {},
   "source": [
    "## 5.\tWrite a Python program to generate a random number?"
   ]
  },
  {
   "cell_type": "code",
   "execution_count": 43,
   "metadata": {},
   "outputs": [
    {
     "data": {
      "text/plain": [
       "0.693804513126431"
      ]
     },
     "execution_count": 43,
     "metadata": {},
     "output_type": "execute_result"
    }
   ],
   "source": [
    "import random\n",
    "random.random()"
   ]
  }
 ],
 "metadata": {
  "kernelspec": {
   "display_name": "Python 3",
   "language": "python",
   "name": "python3"
  },
  "language_info": {
   "codemirror_mode": {
    "name": "ipython",
    "version": 3
   },
   "file_extension": ".py",
   "mimetype": "text/x-python",
   "name": "python",
   "nbconvert_exporter": "python",
   "pygments_lexer": "ipython3",
   "version": "3.8.5"
  }
 },
 "nbformat": 4,
 "nbformat_minor": 4
}
