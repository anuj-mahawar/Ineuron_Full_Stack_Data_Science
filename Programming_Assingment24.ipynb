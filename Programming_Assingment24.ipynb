{
 "cells": [
  {
   "cell_type": "markdown",
   "id": "5fd21fe3",
   "metadata": {},
   "source": [
    "## Question1\n",
    "Create a function that takes an integer and returns a list from 1 to the given number, where:  \n",
    "1.\tIf the number can be divided evenly by 4, amplify it by 10 (i.e. return 10 times the number).  \n",
    "2.\tIf the number cannot be divided evenly by 4, simply return the number.  \n",
    "Examples  \n",
    "amplify(4) ➞ [1, 2, 3, 40]  \n",
    "\n",
    "amplify(3) ➞ [1, 2, 3]  \n",
    "\n",
    "amplify(25) ➞ [1, 2, 3, 40, 5, 6, 7, 80, 9, 10, 11, 120, 13, 14, 15, 160, 17, 18, 19, 200, 21, 22, 23, 240, 25]  \n",
    "Notes  \n",
    "•\tThe given integer will always be equal to or greater than 1.  \n",
    "•\tInclude the number (see example above).  \n",
    "•\tTo perform this problem with its intended purpose, try doing it with list comprehensions. If that's too difficult, just solve the challenge any way you can.  \n"
   ]
  },
  {
   "cell_type": "code",
   "execution_count": 7,
   "id": "4689f564",
   "metadata": {},
   "outputs": [],
   "source": [
    "def amplify(x):\n",
    "    l = [i*10 if i % 4 == 0 else i for i in range(1,x+1)]\n",
    "    return l"
   ]
  },
  {
   "cell_type": "code",
   "execution_count": 8,
   "id": "1fe47edb",
   "metadata": {},
   "outputs": [
    {
     "data": {
      "text/plain": [
       "[1, 2, 3, 40]"
      ]
     },
     "execution_count": 8,
     "metadata": {},
     "output_type": "execute_result"
    }
   ],
   "source": [
    "amplify(4)"
   ]
  },
  {
   "cell_type": "code",
   "execution_count": 10,
   "id": "1f60f705",
   "metadata": {},
   "outputs": [
    {
     "data": {
      "text/plain": [
       "[1, 2, 3, 40, 5, 6, 7, 80, 9, 10]"
      ]
     },
     "execution_count": 10,
     "metadata": {},
     "output_type": "execute_result"
    }
   ],
   "source": [
    "amplify(10)"
   ]
  },
  {
   "cell_type": "markdown",
   "id": "9f6e275d",
   "metadata": {},
   "source": [
    "## Question2\n",
    "Create a function that takes a list of numbers and return the number that's unique.  \n",
    "Examples  \n",
    "unique([3, 3, 3, 7, 3, 3]) ➞ 7  \n",
    "\n",
    "unique([0, 0, 0.77, 0, 0]) ➞ 0.77  \n",
    "\n",
    "unique([0, 1, 1, 1, 1, 1, 1, 1]) ➞ 0  \n",
    "Notes  \n",
    "Test cases will always have exactly one unique number while all others are the same.  \n"
   ]
  },
  {
   "cell_type": "code",
   "execution_count": 17,
   "id": "8bd519c1",
   "metadata": {},
   "outputs": [],
   "source": [
    "def unique(l):\n",
    "    count = 0\n",
    "    for i in l:\n",
    "        count = l.count(i)\n",
    "        if count == 1 :\n",
    "            return i"
   ]
  },
  {
   "cell_type": "code",
   "execution_count": 19,
   "id": "f7ed1eb7",
   "metadata": {},
   "outputs": [
    {
     "data": {
      "text/plain": [
       "7"
      ]
     },
     "execution_count": 19,
     "metadata": {},
     "output_type": "execute_result"
    }
   ],
   "source": [
    "unique([3, 2, 2, 7, 3, 3])"
   ]
  },
  {
   "cell_type": "code",
   "execution_count": 20,
   "id": "d3854ffd",
   "metadata": {},
   "outputs": [
    {
     "data": {
      "text/plain": [
       "0.77"
      ]
     },
     "execution_count": 20,
     "metadata": {},
     "output_type": "execute_result"
    }
   ],
   "source": [
    "unique([0, 0, 0.77, 0, 0])"
   ]
  },
  {
   "cell_type": "code",
   "execution_count": 21,
   "id": "f62941c2",
   "metadata": {},
   "outputs": [
    {
     "data": {
      "text/plain": [
       "0"
      ]
     },
     "execution_count": 21,
     "metadata": {},
     "output_type": "execute_result"
    }
   ],
   "source": [
    "unique([0, 1, 1, 1, 1, 1, 1, 1])"
   ]
  },
  {
   "cell_type": "markdown",
   "id": "595135eb",
   "metadata": {},
   "source": [
    "## Question3  \n",
    "Your task is to create a Circle constructor that creates a circle with a radius provided by an argument. The circles constructed must have two getters getArea() (PIr^2) and getPerimeter() (2PI*r) which give both respective areas and perimeter (circumference).  \n",
    "For help with this class, I have provided you with a Rectangle constructor which you can use as a base example.  \n",
    "Examples  \n",
    "circy = Circle(11)  \n",
    "circy.getArea()  \n",
    "\n",
    "Should return 380.132711084365  \n",
    "\n",
    "circy = Circle(4.44)  \n",
    "circy.getPerimeter()  \n",
    "\n",
    "Should return 27.897342763877365  \n",
    "Notes  \n",
    "Round results up to the nearest integer.  \n"
   ]
  },
  {
   "cell_type": "code",
   "execution_count": 33,
   "id": "3545275c",
   "metadata": {},
   "outputs": [],
   "source": [
    "import numpy as np\n",
    "class Circle:\n",
    "    \n",
    "    def __init__(self,radius):\n",
    "        self.radius = radius\n",
    "        \n",
    "    def getArea(self):\n",
    "        return round(np.pi*self.radius**2,3)\n",
    "    \n",
    "    def getPerimeter(self):\n",
    "        return round(2*np.pi*self.radius,3)"
   ]
  },
  {
   "cell_type": "code",
   "execution_count": 34,
   "id": "f322853b",
   "metadata": {},
   "outputs": [],
   "source": [
    "circy = Circle(11)"
   ]
  },
  {
   "cell_type": "code",
   "execution_count": 35,
   "id": "774e5762",
   "metadata": {},
   "outputs": [
    {
     "data": {
      "text/plain": [
       "380.133"
      ]
     },
     "execution_count": 35,
     "metadata": {},
     "output_type": "execute_result"
    }
   ],
   "source": [
    "circy.getArea()"
   ]
  },
  {
   "cell_type": "code",
   "execution_count": 36,
   "id": "577690af",
   "metadata": {},
   "outputs": [
    {
     "data": {
      "text/plain": [
       "27.897"
      ]
     },
     "execution_count": 36,
     "metadata": {},
     "output_type": "execute_result"
    }
   ],
   "source": [
    "circy = Circle(4.44)\n",
    "circy.getPerimeter()"
   ]
  },
  {
   "cell_type": "markdown",
   "id": "c96b02fe",
   "metadata": {},
   "source": [
    "## Question4\n",
    "Create a function that takes a list of strings and return a list, sorted from shortest to longest.  \n",
    "Examples  \n",
    "sort_by_length([\"Google\", \"Apple\", \"Microsoft\"])  \n",
    "➞ [\"Apple\", \"Google\", \"Microsoft\"]  \n",
    "\n",
    "sort_by_length([\"Leonardo\", \"Michelangelo\", \"Raphael\", \"Donatello\"])  \n",
    "➞ [\"Raphael\", \"Leonardo\", \"Donatello\", \"Michelangelo\"]  \n",
    "\n",
    "sort_by_length([\"Turing\", \"Einstein\", \"Jung\"])  \n",
    "➞ [\"Jung\", \"Turing\", \"Einstein\"]  \n",
    "Notes  \n",
    "All test cases contain lists with strings of different lengths, so you won't have to deal with multiple strings of the same length.  \n"
   ]
  },
  {
   "cell_type": "code",
   "execution_count": 37,
   "id": "e092d4bf",
   "metadata": {},
   "outputs": [],
   "source": [
    "def sort_by_length(l):\n",
    "    ret_list = sorted(l,key=len)\n",
    "    return ret_list"
   ]
  },
  {
   "cell_type": "code",
   "execution_count": 38,
   "id": "8c90ac80",
   "metadata": {},
   "outputs": [
    {
     "data": {
      "text/plain": [
       "['Apple', 'Google', 'Microsoft']"
      ]
     },
     "execution_count": 38,
     "metadata": {},
     "output_type": "execute_result"
    }
   ],
   "source": [
    "sort_by_length([\"Google\", \"Apple\", \"Microsoft\"])"
   ]
  },
  {
   "cell_type": "code",
   "execution_count": 39,
   "id": "c07ddb26",
   "metadata": {},
   "outputs": [
    {
     "data": {
      "text/plain": [
       "['Raphael', 'Leonardo', 'Donatello', 'Michelangelo']"
      ]
     },
     "execution_count": 39,
     "metadata": {},
     "output_type": "execute_result"
    }
   ],
   "source": [
    "sort_by_length([\"Leonardo\", \"Michelangelo\", \"Raphael\", \"Donatello\"])"
   ]
  },
  {
   "cell_type": "markdown",
   "id": "1b40ff0b",
   "metadata": {},
   "source": [
    "## Question5\n",
    "Create a function that validates whether three given integers form a Pythagorean triplet. The sum of the squares of the two smallest integers must equal the square of the largest number to be validated.\n",
    "\n",
    "\n",
    "Examples\n",
    "is_triplet(3, 4, 5) ➞ True\n",
    "# 3² + 4² = 25\n",
    "# 5² = 25\n",
    "\n",
    "is_triplet(13, 5, 12) ➞ True\n",
    "# 5² + 12² = 169\n",
    "# 13² = 169\n",
    "\n",
    "is_triplet(1, 2, 3) ➞ False\n",
    "# 1² + 2² = 5\n",
    "# 3² = 9\n",
    "Notes\n",
    "Numbers may not be given in a sorted order.\n"
   ]
  },
  {
   "cell_type": "code",
   "execution_count": 72,
   "id": "8cd17a5e",
   "metadata": {},
   "outputs": [],
   "source": [
    "def is_triplet(a,b,c):\n",
    "    x = (a,b,c)\n",
    "    x = sorted(x)\n",
    "    for i in range(0,1):\n",
    "        sq_a = x[i]**2\n",
    "        ##print(sq_a)\n",
    "        sq_b = x[i+1]**2\n",
    "        ##print(sq_b)\n",
    "        sq_c = x[i+2]**2\n",
    "        ##print(sq_c)\n",
    "    if sq_a + sq_b == sq_c :\n",
    "        return True\n",
    "    else:\n",
    "        return False"
   ]
  },
  {
   "cell_type": "code",
   "execution_count": 73,
   "id": "3ae88c5f",
   "metadata": {},
   "outputs": [
    {
     "data": {
      "text/plain": [
       "False"
      ]
     },
     "execution_count": 73,
     "metadata": {},
     "output_type": "execute_result"
    }
   ],
   "source": [
    "is_triplet(1,2,3)"
   ]
  },
  {
   "cell_type": "code",
   "execution_count": 74,
   "id": "b763145f",
   "metadata": {},
   "outputs": [
    {
     "data": {
      "text/plain": [
       "True"
      ]
     },
     "execution_count": 74,
     "metadata": {},
     "output_type": "execute_result"
    }
   ],
   "source": [
    "is_triplet(13, 5, 12)"
   ]
  },
  {
   "cell_type": "code",
   "execution_count": 75,
   "id": "7e197cbd",
   "metadata": {},
   "outputs": [
    {
     "data": {
      "text/plain": [
       "True"
      ]
     },
     "execution_count": 75,
     "metadata": {},
     "output_type": "execute_result"
    }
   ],
   "source": [
    "is_triplet(3, 4, 5)"
   ]
  }
 ],
 "metadata": {
  "kernelspec": {
   "display_name": "Python 3",
   "language": "python",
   "name": "python3"
  },
  "language_info": {
   "codemirror_mode": {
    "name": "ipython",
    "version": 3
   },
   "file_extension": ".py",
   "mimetype": "text/x-python",
   "name": "python",
   "nbconvert_exporter": "python",
   "pygments_lexer": "ipython3",
   "version": "3.8.5"
  }
 },
 "nbformat": 4,
 "nbformat_minor": 5
}
